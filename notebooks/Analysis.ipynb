{
 "cells": [
  {
   "cell_type": "code",
   "execution_count": 1,
   "id": "949cd552-13a6-4c8f-a771-5eb141ea0576",
   "metadata": {},
   "outputs": [],
   "source": [
    "from datetime import datetime\n",
    "import pandas as pd \n",
    "import pickle\n",
    "import numpy as np \n",
    "import itertools\n",
    "import statsmodels.api as stats\n",
    "\n",
    "\n",
    "base = ['AAPL','AMZN','NFLX','GOOGL','TSLA','META']\n",
    "study=['BTCUSDT','ETHUSDT','ADAUSDT','BNBUSDT','XRPUSDT','DOTUSDT']\n",
    "allSecurities=base+study\n",
    "comparisonDataTime =datetime.strptime('2024-03-04', \"%Y-%m-%d\")"
   ]
  },
  {
   "cell_type": "code",
   "execution_count": 2,
   "id": "b0d7f2c1-6772-4e49-ad1c-a47bcb09b700",
   "metadata": {},
   "outputs": [],
   "source": [
    "cryptoFile='../data/DailyCryptoData2025_13_03.pkl'\n",
    "magFile='../data/N_DailyMagnificient2025_13_03.pkl'\n",
    "crypData={}\n",
    "loader=lambda file :pickle.load(open(file,'rb'))\n",
    "ret =lambda px:px/px.shift()-1\n",
    "crypData=loader(cryptoFile)\n",
    "magData=loader(magFile)\n",
    "crypRetALL=ret(crypData).fillna(0)\n",
    "magRet=ret(magData).fillna(0)\n",
    "comparison={}\n",
    "\n",
    "\n",
    "\n",
    "\n"
   ]
  },
  {
   "cell_type": "code",
   "execution_count": 3,
   "id": "e584277a-6ce1-4a1a-81c5-080201544a0c",
   "metadata": {},
   "outputs": [
    {
     "data": {
      "text/plain": [
       "BTCUSDT      0.029845\n",
       "ETHUSDT      0.014069\n",
       "ADAUSDT      0.001235\n",
       "BNBUSDT      0.074086\n",
       "XRPUSDT      0.000000\n",
       "DOTUSDT      0.037800\n",
       "MATICUSDT    0.033483\n",
       "Name: 2023-03-16 00:00:00, dtype: float64"
      ]
     },
     "execution_count": 3,
     "metadata": {},
     "output_type": "execute_result"
    }
   ],
   "source": [
    "crypRetALL.loc['2023-03-16']"
   ]
  },
  {
   "cell_type": "code",
   "execution_count": 4,
   "id": "5bc0209d-e0b1-4b38-96a1-c6b2f521cfd6",
   "metadata": {},
   "outputs": [],
   "source": [
    "crypttoTestFile=\"../data/DailyCryptoDataTest.pkl\"\n",
    "magTestFile=\"../data/DailyMagnificient_Test_All2025_13_23.pkl\"\n",
    "cryptTestData=loader(crypttoTestFile)\n",
    "magTestData=loader(magTestFile)\n",
    "testCrypReturns=ret(cryptTestData).fillna(0)\n",
    "testMgRet=ret(magTestData).fillna(0)\n",
    "testReturns=pd.DataFrame()\n",
    "testReturns=pd.concat([testMgRet['Close'],testCrypReturns],axis=0)\n",
    "testReturns=testReturns[allSecurities]\n"
   ]
  },
  {
   "cell_type": "code",
   "execution_count": 5,
   "id": "239a9153-8a49-4f2e-96aa-c57a7acf912f",
   "metadata": {},
   "outputs": [],
   "source": [
    "sharp =lambda ret:ret.mean()/ret.std()*np.sqrt(252)"
   ]
  },
  {
   "cell_type": "code",
   "execution_count": 6,
   "id": "4ca52c58-aec6-47e6-82e3-462d7556aaac",
   "metadata": {},
   "outputs": [],
   "source": [
    "def getAlphaBeta(pred,compare):\n",
    "    X = stats.add_constant(compare)\n",
    "    common_index=X.index.intersection(pred.index)\n",
    "    X =X[X.index.isin(common_index)]\n",
    "    \n",
    "    pred =pred[pred.index.isin(common_index)]\n",
    "    \n",
    "    mod=stats.OLS(pred,X)\n",
    "    res=mod.fit()\n",
    "    return res"
   ]
  },
  {
   "cell_type": "code",
   "execution_count": 7,
   "id": "67f5979f-5082-43fe-a8d4-ff45e933709f",
   "metadata": {},
   "outputs": [
    {
     "name": "stdout",
     "output_type": "stream",
     "text": [
      "BTCUSDT:AAPL:0.5450450659889443\n",
      "BTCUSDT:AMZN:0.49121843011021665\n",
      "BTCUSDT:NFLX:0.34727358886807863\n",
      "BTCUSDT:GOOGL:0.5609038527770227\n",
      "BTCUSDT:TSLA:0.2451359351293328\n",
      "BTCUSDT:META:0.3233270332623297\n",
      "ETHUSDT:AAPL:0.7191652241827389\n",
      "ETHUSDT:AMZN:0.6104318657868126\n",
      "ETHUSDT:NFLX:0.41190361858585245\n",
      "ETHUSDT:GOOGL:0.744103679476121\n",
      "ETHUSDT:TSLA:0.2840213314872726\n",
      "ETHUSDT:META:0.423433952575257\n",
      "ADAUSDT:AAPL:0.7664756876199574\n",
      "ADAUSDT:AMZN:0.6836663762162685\n",
      "ADAUSDT:NFLX:0.46045069664370664\n",
      "ADAUSDT:GOOGL:0.7896923202961899\n",
      "ADAUSDT:TSLA:0.30916597209393754\n",
      "ADAUSDT:META:0.46611970034593786\n",
      "BNBUSDT:AAPL:0.6489505967920137\n",
      "BNBUSDT:AMZN:0.5265451719388192\n",
      "BNBUSDT:NFLX:0.3823297668087403\n",
      "BNBUSDT:GOOGL:0.5852848176451022\n",
      "BNBUSDT:TSLA:0.25086266243885214\n",
      "BNBUSDT:META:0.3584154020511151\n",
      "XRPUSDT:AAPL:0.271907567632893\n",
      "XRPUSDT:AMZN:0.15728253453891974\n",
      "XRPUSDT:NFLX:0.15318605094331214\n",
      "XRPUSDT:GOOGL:0.24548688586211306\n",
      "XRPUSDT:TSLA:0.12328761562581984\n",
      "XRPUSDT:META:0.13753114859369805\n",
      "DOTUSDT:AAPL:0.3916005598453425\n",
      "DOTUSDT:AMZN:0.4254584250837704\n",
      "DOTUSDT:NFLX:0.2950582273340836\n",
      "DOTUSDT:GOOGL:0.4423955332924996\n",
      "DOTUSDT:TSLA:0.20861920991468288\n",
      "DOTUSDT:META:0.2730373880946988\n"
     ]
    }
   ],
   "source": [
    "for cryp in study:\n",
    "    for compare in base:\n",
    "  \n",
    "        comparison[compare]=getAlphaBeta(crypRetALL[cryp],magRet[compare])\n",
    "        beta=comparison[compare].params[compare]\n",
    "        print(cryp+\":\"+compare+\":\"+str(beta))\n",
    "    "
   ]
  },
  {
   "cell_type": "code",
   "execution_count": 8,
   "id": "8af1db64-f87b-4ddd-b7aa-9d4122b17071",
   "metadata": {},
   "outputs": [],
   "source": [
    "#crypRetALL.corr(magRet[compare])"
   ]
  },
  {
   "cell_type": "markdown",
   "id": "a0d2bc66-f0a2-4aeb-8b85-0a96fc1ad0fc",
   "metadata": {},
   "source": [
    "AAPL-0.5450450659889441\n",
    "AMZN-0.49121843011021693\n",
    "NFLX-0.3472735888680784\n",
    "GOOGL-0.5609038527770219\n",
    "QQQ-0.9215293678551346\n",
    "TSLA-0.24513593512933282\n",
    "NDX-0.9721787609514849\n",
    "META-0.3233270332623299\n",
    "TSLA is low --comparing momentum and reversal with it to calculate arbitrage "
   ]
  },
  {
   "cell_type": "code",
   "execution_count": 9,
   "id": "6a814824-274a-4a11-8fc7-6a40c85f5010",
   "metadata": {},
   "outputs": [],
   "source": [
    "# funtion to calc momentum\n",
    "def momentum(ret,horizon,base_period=50):\n",
    "    port = np.sqrt(horizon)*(ret.rolling(horizon,min_periods=1).mean()) \n",
    "    port = port / ret.rolling(base_period,min_periods=horizon).std()\n",
    "    port = np.tanh(port)\n",
    "    return port.shift()"
   ]
  },
  {
   "cell_type": "code",
   "execution_count": 10,
   "id": "c7b3566b-b3f3-4c54-941e-04b0c5955e69",
   "metadata": {},
   "outputs": [],
   "source": [
    "def drawDownDurationDays(px):\n",
    "    px=(1+px.sort_index()).cumprod()*100\n",
    "    peak = px.expanding(min_periods=1).max()\n",
    "    res = pd.DataFrame(0,index=px.index,columns=[\"DrawdownDuration\"])\n",
    "    \n",
    "\n",
    "    for dt in range(len(px)):\n",
    "        if px.iloc[dt] >= peak.iloc[dt]:\n",
    "            res.iloc[dt] = 0\n",
    "    \n",
    "        else:    \n",
    "            if(len(res.iloc[:dt])>2):\n",
    "                res.iloc[dt] = res.iloc[:dt].iloc[-2] + 1\n",
    "                #print(f' date{dt}: days { res.iloc[dt]}')\n",
    "\n",
    "    return res"
   ]
  },
  {
   "cell_type": "code",
   "execution_count": 11,
   "id": "622fc5c0-bdcd-4652-845d-0ca18d74c5d8",
   "metadata": {},
   "outputs": [],
   "source": [
    "def drawdown(px):\n",
    "    px=(1+px.sort_index()).cumprod()*100\n",
    "    return (px / px.expanding(min_periods=1).max() - 1)"
   ]
  },
  {
   "cell_type": "code",
   "execution_count": 12,
   "id": "3fdd83d3-6191-4ffc-b7ba-1b2f498cdc6d",
   "metadata": {},
   "outputs": [],
   "source": [
    "crypRet=pd.DataFrame()\n",
    "\n",
    "crypRet=pd.concat([magRet,crypRetALL],axis=1)\n",
    "crypRet=crypRet[allSecurities]"
   ]
  },
  {
   "cell_type": "code",
   "execution_count": 13,
   "id": "3b3e3ce1-5ce9-4522-941f-de0872b735ff",
   "metadata": {},
   "outputs": [
    {
     "data": {
      "text/plain": [
       "AAPL       0.018694\n",
       "AMZN       0.039917\n",
       "NFLX       0.020639\n",
       "GOOGL      0.043804\n",
       "TSLA       0.020394\n",
       "META       0.036308\n",
       "BTCUSDT    0.029845\n",
       "ETHUSDT    0.014069\n",
       "ADAUSDT    0.001235\n",
       "BNBUSDT    0.074086\n",
       "XRPUSDT    0.000000\n",
       "DOTUSDT    0.037800\n",
       "Name: 2023-03-16 00:00:00, dtype: float64"
      ]
     },
     "execution_count": 13,
     "metadata": {},
     "output_type": "execute_result"
    }
   ],
   "source": [
    "crypRet.loc['2023-03-16']"
   ]
  },
  {
   "cell_type": "code",
   "execution_count": 14,
   "id": "38f1e28d-de4b-4e1d-a784-e553878caab3",
   "metadata": {},
   "outputs": [
    {
     "name": "stderr",
     "output_type": "stream",
     "text": [
      "C:\\Users\\rohan\\AppData\\Local\\Temp\\ipykernel_12856\\73772504.py:1: FutureWarning: DataFrame.fillna with 'method' is deprecated and will raise in a future version. Use obj.ffill() or obj.bfill() instead.\n",
      "  crypRet=crypRet.fillna(method='ffill')\n",
      "C:\\Users\\rohan\\AppData\\Local\\Temp\\ipykernel_12856\\73772504.py:2: FutureWarning: DataFrame.fillna with 'method' is deprecated and will raise in a future version. Use obj.ffill() or obj.bfill() instead.\n",
      "  crypRet=crypRet.fillna(method='bfill')\n"
     ]
    }
   ],
   "source": [
    "crypRet=crypRet.fillna(method='ffill')\n",
    "crypRet=crypRet.fillna(method='bfill')"
   ]
  },
  {
   "cell_type": "code",
   "execution_count": 15,
   "id": "b1785387-0901-40d2-9e7a-eed572b1d5b7",
   "metadata": {},
   "outputs": [],
   "source": [
    "def calBeta(Y,ticker):\n",
    "   \n",
    "    X=crypRet[ticker]\n",
    "    X =X[X.index<=Y.index[-1]]\n",
    "    X=X[-252:]\n",
    "    X = stats.add_constant(X)\n",
    "    mod=stats.OLS(Y,X)\n",
    "    res=mod.fit()\n",
    "    results = res.params[ticker]\n",
    "    return results"
   ]
  },
  {
   "cell_type": "code",
   "execution_count": 16,
   "id": "5c59edd9-2402-431c-9fbb-80acd7aad72a",
   "metadata": {},
   "outputs": [],
   "source": [
    "#beta={}\n",
    "#for ticker in base:\n",
    "    #beta[ticker]=crypRet.rolling(252,min_periods=1).apply(lambda y:calBeta(y,ticker))\n",
    "    #beta_QQQ=crypRet.rolling(252,min_periods=1).apply(lambda y:calBeta(y,'QQQ'))                                                 \n",
    "                                         "
   ]
  },
  {
   "cell_type": "code",
   "execution_count": 17,
   "id": "60108054-7572-48a6-8dce-556a6ee7a1a0",
   "metadata": {},
   "outputs": [],
   "source": [
    "# returns annualized returns \n",
    "def findRollingParams(ret,baseDays=30):\n",
    "    data={}\n",
    "  \n",
    "    spratio = lambda ret:ret.mean()/ret.std()*np.sqrt(baseDays)\n",
    "    volLambda= lambda x:x.var()*baseDays\n",
    "    #sharp=ret.groupby(ret.index.year).apply(spratio)\n",
    "    vol=ret.rolling(baseDays,min_periods=1).apply(volLambda)\n",
    "    corr= ret.rolling(baseDays,min_periods=1).corr()\n",
    "    cov= ret.rolling(baseDays,min_periods=1).cov()\n",
    "    data[\"ret\"]=ret\n",
    "    data[\"volatility\"]=vol\n",
    "    data[\"cor\"]=corr\n",
    "    data[\"cov\"]=cov\n",
    "\n",
    "    #sigma=sigma[mask]\n",
    "    #print(sigma.index.get_level_values(0))\n",
    "    #sigma=pd.DataFrame(sigma)\n",
    "    #sigma.index=sigma.index.get_level_values(0)\n",
    " \n",
    "\n",
    "    return data"
   ]
  },
  {
   "cell_type": "code",
   "execution_count": 18,
   "id": "581b5406-665a-4cd1-9dd1-59dbfee041c1",
   "metadata": {},
   "outputs": [],
   "source": [
    "def getOptimalWts(matrix,mu):\n",
    "    final_wt=[]\n",
    "    if isinstance(matrix,pd.DataFrame) and matrix.shape[0]==matrix.shape[1]:\n",
    "        sigma_inv=np.linalg.inv(np.array(matrix))\n",
    "        final_wt = sigma_inv@mu\n",
    "    else:\n",
    "        final_wt=np.divide(mu,np.where(matrix!=0,matrix,1))\n",
    "    final_wt=final_wt.div(np.abs(final_wt).sum(axis=1).values, axis=0)\n",
    "    if isinstance(final_wt,np.ndarray):\n",
    "        final_wt=pd.DataFrame(final_wt)\n",
    "    return final_wt.shift()\n"
   ]
  },
  {
   "cell_type": "code",
   "execution_count": 19,
   "id": "d52c23bb-6b8b-421d-828d-a350ad8044d0",
   "metadata": {},
   "outputs": [],
   "source": [
    "def getOptimalWtsinTimePeriod(matrix,mu,filter):\n",
    "    final_wt=[]\n",
    "    matrix=matrix[[filter]]\n",
    "    mu=[[filter]]\n",
    "    if isinstance(matrix,pd.DataFrame) and matrix.shape[0]==matrix.shape[1]:\n",
    "        sigma_inv=np.linalg.inv(np.array(matrix))\n",
    "        final_wt = sigma_inv@mu\n",
    "    else:\n",
    "        final_wt=np.divide(mu,np.where(matrix!=0,matrix,1))\n",
    "    final_wt=final_wt.div(np.abs(final_wt).sum(axis=1).values, axis=0)\n",
    "    print(type(final_wt))\n",
    "    if isinstance(final_wt,np.ndarray):\n",
    "        final_wt=pd.DataFrame(final_wt)\n",
    "    return final_wt.shift()\n"
   ]
  },
  {
   "cell_type": "code",
   "execution_count": 20,
   "id": "9de0388c-81c9-48ae-958d-352af0277292",
   "metadata": {},
   "outputs": [],
   "source": [
    "#finalSet=['BTCUSDT','ETHUSDT','DOTUSDT','TSLA']\n",
    "#finalSet=['BTCUSDT','TSLA']"
   ]
  },
  {
   "cell_type": "code",
   "execution_count": 21,
   "id": "d7914dcd-4f2f-47c1-bd27-66bef1dc62fc",
   "metadata": {},
   "outputs": [],
   "source": [
    "def createVolatilityMatrix(vol,order):\n",
    "    return vol[order].fillna(0)"
   ]
  },
  {
   "cell_type": "code",
   "execution_count": 22,
   "id": "8ea0b3a9-6e7e-46e2-8baa-d01eb2ef90ca",
   "metadata": {},
   "outputs": [],
   "source": [
    "def createVolatilityCovMatrix(vol,cov,order):\n",
    "    df1=vol[order].fillna(0)\n",
    "    df2=cov[order].fillna(0)\n",
    " \n",
    "   \n",
    "    \n",
    "    # Create Cartesian Product for each date and column\n",
    "    def cartesian_product(df1_row, df2_row):\n",
    "        print(df2_row.keys())\n",
    "        return [\n",
    "                {col: val1 if val1 == val2 else val2 for col, (val1, val2) in zip(df1_row.keys(), zip(df1_row.values, df2_row.values))}\n",
    "                for df1_row, df2_row in itertools.product([df1_row], [df2_row])]\n",
    "    \n",
    "    result = []\n",
    "    for date in df2.index:\n",
    "        df1_row = df1.loc[date]\n",
    "        df2_row = df2.loc[date]\n",
    "        print(df1_row)\n",
    "        result.append(cartesian_product(df1_row, df2_row))\n",
    "    \n",
    "    # Convert the Cartesian product into a DataFrame\n",
    "    matrix = pd.DataFrame(result, index=df2.index)\n",
    "\n",
    "    \n",
    "    return matrix\n",
    "                \n",
    "    "
   ]
  },
  {
   "cell_type": "code",
   "execution_count": 23,
   "id": "445df38d-3a5c-4069-9adf-5937c82700ad",
   "metadata": {},
   "outputs": [],
   "source": [
    "params=findRollingParams(crypRet)\n",
    "paramsTest=findRollingParams(testReturns)"
   ]
  },
  {
   "cell_type": "code",
   "execution_count": 24,
   "id": "835f0e14-b21f-47bd-aa56-0a8acceb2e6d",
   "metadata": {},
   "outputs": [
    {
     "data": {
      "text/html": [
       "<div>\n",
       "<style scoped>\n",
       "    .dataframe tbody tr th:only-of-type {\n",
       "        vertical-align: middle;\n",
       "    }\n",
       "\n",
       "    .dataframe tbody tr th {\n",
       "        vertical-align: top;\n",
       "    }\n",
       "\n",
       "    .dataframe thead th {\n",
       "        text-align: right;\n",
       "    }\n",
       "</style>\n",
       "<table border=\"1\" class=\"dataframe\">\n",
       "  <thead>\n",
       "    <tr style=\"text-align: right;\">\n",
       "      <th></th>\n",
       "      <th>AAPL</th>\n",
       "      <th>AMZN</th>\n",
       "      <th>NFLX</th>\n",
       "      <th>GOOGL</th>\n",
       "      <th>TSLA</th>\n",
       "      <th>META</th>\n",
       "      <th>BTCUSDT</th>\n",
       "      <th>ETHUSDT</th>\n",
       "      <th>ADAUSDT</th>\n",
       "      <th>BNBUSDT</th>\n",
       "      <th>XRPUSDT</th>\n",
       "      <th>DOTUSDT</th>\n",
       "    </tr>\n",
       "  </thead>\n",
       "  <tbody>\n",
       "    <tr>\n",
       "      <th>2020-01-01</th>\n",
       "      <td>NaN</td>\n",
       "      <td>NaN</td>\n",
       "      <td>NaN</td>\n",
       "      <td>NaN</td>\n",
       "      <td>NaN</td>\n",
       "      <td>NaN</td>\n",
       "      <td>NaN</td>\n",
       "      <td>NaN</td>\n",
       "      <td>NaN</td>\n",
       "      <td>NaN</td>\n",
       "      <td>NaN</td>\n",
       "      <td>NaN</td>\n",
       "    </tr>\n",
       "    <tr>\n",
       "      <th>2020-01-02</th>\n",
       "      <td>0.000000</td>\n",
       "      <td>0.000000</td>\n",
       "      <td>0.000000</td>\n",
       "      <td>0.000000</td>\n",
       "      <td>0.000000</td>\n",
       "      <td>0.000000</td>\n",
       "      <td>0.015843</td>\n",
       "      <td>0.009589</td>\n",
       "      <td>0.007337</td>\n",
       "      <td>0.036211</td>\n",
       "      <td>0.011698</td>\n",
       "      <td>0.000000</td>\n",
       "    </tr>\n",
       "    <tr>\n",
       "      <th>2020-01-03</th>\n",
       "      <td>0.000945</td>\n",
       "      <td>0.001474</td>\n",
       "      <td>0.001405</td>\n",
       "      <td>0.000274</td>\n",
       "      <td>0.008781</td>\n",
       "      <td>0.000280</td>\n",
       "      <td>0.058881</td>\n",
       "      <td>0.047752</td>\n",
       "      <td>0.029775</td>\n",
       "      <td>0.068072</td>\n",
       "      <td>0.024949</td>\n",
       "      <td>0.000000</td>\n",
       "    </tr>\n",
       "    <tr>\n",
       "      <th>2020-01-04</th>\n",
       "      <td>0.000945</td>\n",
       "      <td>0.001474</td>\n",
       "      <td>0.001405</td>\n",
       "      <td>0.000274</td>\n",
       "      <td>0.008781</td>\n",
       "      <td>0.000280</td>\n",
       "      <td>0.039624</td>\n",
       "      <td>0.032400</td>\n",
       "      <td>0.020052</td>\n",
       "      <td>0.046764</td>\n",
       "      <td>0.016693</td>\n",
       "      <td>0.000000</td>\n",
       "    </tr>\n",
       "    <tr>\n",
       "      <th>2020-01-05</th>\n",
       "      <td>0.000851</td>\n",
       "      <td>0.001326</td>\n",
       "      <td>0.001265</td>\n",
       "      <td>0.000246</td>\n",
       "      <td>0.007903</td>\n",
       "      <td>0.000252</td>\n",
       "      <td>0.029804</td>\n",
       "      <td>0.024324</td>\n",
       "      <td>0.015101</td>\n",
       "      <td>0.036456</td>\n",
       "      <td>0.013084</td>\n",
       "      <td>0.000000</td>\n",
       "    </tr>\n",
       "    <tr>\n",
       "      <th>...</th>\n",
       "      <td>...</td>\n",
       "      <td>...</td>\n",
       "      <td>...</td>\n",
       "      <td>...</td>\n",
       "      <td>...</td>\n",
       "      <td>...</td>\n",
       "      <td>...</td>\n",
       "      <td>...</td>\n",
       "      <td>...</td>\n",
       "      <td>...</td>\n",
       "      <td>...</td>\n",
       "      <td>...</td>\n",
       "    </tr>\n",
       "    <tr>\n",
       "      <th>2025-02-25</th>\n",
       "      <td>0.007693</td>\n",
       "      <td>0.008400</td>\n",
       "      <td>0.005249</td>\n",
       "      <td>0.014976</td>\n",
       "      <td>0.026223</td>\n",
       "      <td>0.005184</td>\n",
       "      <td>0.006935</td>\n",
       "      <td>0.023466</td>\n",
       "      <td>0.037835</td>\n",
       "      <td>0.028603</td>\n",
       "      <td>0.036625</td>\n",
       "      <td>0.052689</td>\n",
       "    </tr>\n",
       "    <tr>\n",
       "      <th>2025-02-26</th>\n",
       "      <td>0.008509</td>\n",
       "      <td>0.008513</td>\n",
       "      <td>0.004370</td>\n",
       "      <td>0.015087</td>\n",
       "      <td>0.026908</td>\n",
       "      <td>0.005335</td>\n",
       "      <td>0.006935</td>\n",
       "      <td>0.022040</td>\n",
       "      <td>0.037676</td>\n",
       "      <td>0.028536</td>\n",
       "      <td>0.036564</td>\n",
       "      <td>0.052964</td>\n",
       "    </tr>\n",
       "    <tr>\n",
       "      <th>2025-02-27</th>\n",
       "      <td>0.008670</td>\n",
       "      <td>0.008937</td>\n",
       "      <td>0.005083</td>\n",
       "      <td>0.015171</td>\n",
       "      <td>0.027190</td>\n",
       "      <td>0.005842</td>\n",
       "      <td>0.006837</td>\n",
       "      <td>0.022032</td>\n",
       "      <td>0.037752</td>\n",
       "      <td>0.028424</td>\n",
       "      <td>0.036658</td>\n",
       "      <td>0.053208</td>\n",
       "    </tr>\n",
       "    <tr>\n",
       "      <th>2025-02-28</th>\n",
       "      <td>0.008996</td>\n",
       "      <td>0.009459</td>\n",
       "      <td>0.005362</td>\n",
       "      <td>0.015146</td>\n",
       "      <td>0.030032</td>\n",
       "      <td>0.005779</td>\n",
       "      <td>0.006845</td>\n",
       "      <td>0.021903</td>\n",
       "      <td>0.037403</td>\n",
       "      <td>0.028383</td>\n",
       "      <td>0.036765</td>\n",
       "      <td>0.053129</td>\n",
       "    </tr>\n",
       "    <tr>\n",
       "      <th>2025-03-03</th>\n",
       "      <td>0.008972</td>\n",
       "      <td>0.009556</td>\n",
       "      <td>0.005341</td>\n",
       "      <td>0.014847</td>\n",
       "      <td>0.031405</td>\n",
       "      <td>0.005548</td>\n",
       "      <td>0.006494</td>\n",
       "      <td>0.021650</td>\n",
       "      <td>0.037338</td>\n",
       "      <td>0.027442</td>\n",
       "      <td>0.036257</td>\n",
       "      <td>0.053311</td>\n",
       "    </tr>\n",
       "  </tbody>\n",
       "</table>\n",
       "<p>1883 rows × 12 columns</p>\n",
       "</div>"
      ],
      "text/plain": [
       "                AAPL      AMZN      NFLX     GOOGL      TSLA      META  \\\n",
       "2020-01-01       NaN       NaN       NaN       NaN       NaN       NaN   \n",
       "2020-01-02  0.000000  0.000000  0.000000  0.000000  0.000000  0.000000   \n",
       "2020-01-03  0.000945  0.001474  0.001405  0.000274  0.008781  0.000280   \n",
       "2020-01-04  0.000945  0.001474  0.001405  0.000274  0.008781  0.000280   \n",
       "2020-01-05  0.000851  0.001326  0.001265  0.000246  0.007903  0.000252   \n",
       "...              ...       ...       ...       ...       ...       ...   \n",
       "2025-02-25  0.007693  0.008400  0.005249  0.014976  0.026223  0.005184   \n",
       "2025-02-26  0.008509  0.008513  0.004370  0.015087  0.026908  0.005335   \n",
       "2025-02-27  0.008670  0.008937  0.005083  0.015171  0.027190  0.005842   \n",
       "2025-02-28  0.008996  0.009459  0.005362  0.015146  0.030032  0.005779   \n",
       "2025-03-03  0.008972  0.009556  0.005341  0.014847  0.031405  0.005548   \n",
       "\n",
       "             BTCUSDT   ETHUSDT   ADAUSDT   BNBUSDT   XRPUSDT   DOTUSDT  \n",
       "2020-01-01       NaN       NaN       NaN       NaN       NaN       NaN  \n",
       "2020-01-02  0.015843  0.009589  0.007337  0.036211  0.011698  0.000000  \n",
       "2020-01-03  0.058881  0.047752  0.029775  0.068072  0.024949  0.000000  \n",
       "2020-01-04  0.039624  0.032400  0.020052  0.046764  0.016693  0.000000  \n",
       "2020-01-05  0.029804  0.024324  0.015101  0.036456  0.013084  0.000000  \n",
       "...              ...       ...       ...       ...       ...       ...  \n",
       "2025-02-25  0.006935  0.023466  0.037835  0.028603  0.036625  0.052689  \n",
       "2025-02-26  0.006935  0.022040  0.037676  0.028536  0.036564  0.052964  \n",
       "2025-02-27  0.006837  0.022032  0.037752  0.028424  0.036658  0.053208  \n",
       "2025-02-28  0.006845  0.021903  0.037403  0.028383  0.036765  0.053129  \n",
       "2025-03-03  0.006494  0.021650  0.037338  0.027442  0.036257  0.053311  \n",
       "\n",
       "[1883 rows x 12 columns]"
      ]
     },
     "execution_count": 24,
     "metadata": {},
     "output_type": "execute_result"
    }
   ],
   "source": [
    "params[\"volatility\"]"
   ]
  },
  {
   "cell_type": "code",
   "execution_count": 25,
   "id": "c61546c4-70ce-4b67-9cb5-0aaf578801d9",
   "metadata": {},
   "outputs": [
    {
     "data": {
      "text/html": [
       "<div>\n",
       "<style scoped>\n",
       "    .dataframe tbody tr th:only-of-type {\n",
       "        vertical-align: middle;\n",
       "    }\n",
       "\n",
       "    .dataframe tbody tr th {\n",
       "        vertical-align: top;\n",
       "    }\n",
       "\n",
       "    .dataframe thead th {\n",
       "        text-align: right;\n",
       "    }\n",
       "</style>\n",
       "<table border=\"1\" class=\"dataframe\">\n",
       "  <thead>\n",
       "    <tr style=\"text-align: right;\">\n",
       "      <th></th>\n",
       "      <th></th>\n",
       "      <th>AAPL</th>\n",
       "      <th>AMZN</th>\n",
       "      <th>NFLX</th>\n",
       "      <th>GOOGL</th>\n",
       "      <th>TSLA</th>\n",
       "      <th>META</th>\n",
       "      <th>BTCUSDT</th>\n",
       "      <th>ETHUSDT</th>\n",
       "      <th>ADAUSDT</th>\n",
       "      <th>BNBUSDT</th>\n",
       "      <th>XRPUSDT</th>\n",
       "      <th>DOTUSDT</th>\n",
       "    </tr>\n",
       "  </thead>\n",
       "  <tbody>\n",
       "    <tr>\n",
       "      <th rowspan=\"5\" valign=\"top\">2020-01-01</th>\n",
       "      <th>AAPL</th>\n",
       "      <td>NaN</td>\n",
       "      <td>NaN</td>\n",
       "      <td>NaN</td>\n",
       "      <td>NaN</td>\n",
       "      <td>NaN</td>\n",
       "      <td>NaN</td>\n",
       "      <td>NaN</td>\n",
       "      <td>NaN</td>\n",
       "      <td>NaN</td>\n",
       "      <td>NaN</td>\n",
       "      <td>NaN</td>\n",
       "      <td>NaN</td>\n",
       "    </tr>\n",
       "    <tr>\n",
       "      <th>AMZN</th>\n",
       "      <td>NaN</td>\n",
       "      <td>NaN</td>\n",
       "      <td>NaN</td>\n",
       "      <td>NaN</td>\n",
       "      <td>NaN</td>\n",
       "      <td>NaN</td>\n",
       "      <td>NaN</td>\n",
       "      <td>NaN</td>\n",
       "      <td>NaN</td>\n",
       "      <td>NaN</td>\n",
       "      <td>NaN</td>\n",
       "      <td>NaN</td>\n",
       "    </tr>\n",
       "    <tr>\n",
       "      <th>NFLX</th>\n",
       "      <td>NaN</td>\n",
       "      <td>NaN</td>\n",
       "      <td>NaN</td>\n",
       "      <td>NaN</td>\n",
       "      <td>NaN</td>\n",
       "      <td>NaN</td>\n",
       "      <td>NaN</td>\n",
       "      <td>NaN</td>\n",
       "      <td>NaN</td>\n",
       "      <td>NaN</td>\n",
       "      <td>NaN</td>\n",
       "      <td>NaN</td>\n",
       "    </tr>\n",
       "    <tr>\n",
       "      <th>GOOGL</th>\n",
       "      <td>NaN</td>\n",
       "      <td>NaN</td>\n",
       "      <td>NaN</td>\n",
       "      <td>NaN</td>\n",
       "      <td>NaN</td>\n",
       "      <td>NaN</td>\n",
       "      <td>NaN</td>\n",
       "      <td>NaN</td>\n",
       "      <td>NaN</td>\n",
       "      <td>NaN</td>\n",
       "      <td>NaN</td>\n",
       "      <td>NaN</td>\n",
       "    </tr>\n",
       "    <tr>\n",
       "      <th>TSLA</th>\n",
       "      <td>NaN</td>\n",
       "      <td>NaN</td>\n",
       "      <td>NaN</td>\n",
       "      <td>NaN</td>\n",
       "      <td>NaN</td>\n",
       "      <td>NaN</td>\n",
       "      <td>NaN</td>\n",
       "      <td>NaN</td>\n",
       "      <td>NaN</td>\n",
       "      <td>NaN</td>\n",
       "      <td>NaN</td>\n",
       "      <td>NaN</td>\n",
       "    </tr>\n",
       "    <tr>\n",
       "      <th>...</th>\n",
       "      <th>...</th>\n",
       "      <td>...</td>\n",
       "      <td>...</td>\n",
       "      <td>...</td>\n",
       "      <td>...</td>\n",
       "      <td>...</td>\n",
       "      <td>...</td>\n",
       "      <td>...</td>\n",
       "      <td>...</td>\n",
       "      <td>...</td>\n",
       "      <td>...</td>\n",
       "      <td>...</td>\n",
       "      <td>...</td>\n",
       "    </tr>\n",
       "    <tr>\n",
       "      <th rowspan=\"5\" valign=\"top\">2025-03-03</th>\n",
       "      <th>ETHUSDT</th>\n",
       "      <td>-0.000051</td>\n",
       "      <td>-0.000167</td>\n",
       "      <td>0.000044</td>\n",
       "      <td>-0.000140</td>\n",
       "      <td>-0.000049</td>\n",
       "      <td>2.038010e-05</td>\n",
       "      <td>0.000257</td>\n",
       "      <td>0.000722</td>\n",
       "      <td>0.000541</td>\n",
       "      <td>0.000523</td>\n",
       "      <td>0.000540</td>\n",
       "      <td>0.001012</td>\n",
       "    </tr>\n",
       "    <tr>\n",
       "      <th>ADAUSDT</th>\n",
       "      <td>0.000065</td>\n",
       "      <td>-0.000092</td>\n",
       "      <td>-0.000042</td>\n",
       "      <td>-0.000072</td>\n",
       "      <td>-0.000271</td>\n",
       "      <td>4.143107e-05</td>\n",
       "      <td>0.000233</td>\n",
       "      <td>0.000541</td>\n",
       "      <td>0.001245</td>\n",
       "      <td>0.000616</td>\n",
       "      <td>0.000705</td>\n",
       "      <td>0.001074</td>\n",
       "    </tr>\n",
       "    <tr>\n",
       "      <th>BNBUSDT</th>\n",
       "      <td>-0.000061</td>\n",
       "      <td>-0.000259</td>\n",
       "      <td>-0.000074</td>\n",
       "      <td>-0.000263</td>\n",
       "      <td>-0.000284</td>\n",
       "      <td>-3.325510e-05</td>\n",
       "      <td>0.000236</td>\n",
       "      <td>0.000523</td>\n",
       "      <td>0.000616</td>\n",
       "      <td>0.000915</td>\n",
       "      <td>0.000485</td>\n",
       "      <td>0.000904</td>\n",
       "    </tr>\n",
       "    <tr>\n",
       "      <th>XRPUSDT</th>\n",
       "      <td>-0.000015</td>\n",
       "      <td>-0.000184</td>\n",
       "      <td>-0.000040</td>\n",
       "      <td>-0.000088</td>\n",
       "      <td>-0.000111</td>\n",
       "      <td>-2.098898e-07</td>\n",
       "      <td>0.000376</td>\n",
       "      <td>0.000540</td>\n",
       "      <td>0.000705</td>\n",
       "      <td>0.000485</td>\n",
       "      <td>0.001209</td>\n",
       "      <td>0.000878</td>\n",
       "    </tr>\n",
       "    <tr>\n",
       "      <th>DOTUSDT</th>\n",
       "      <td>-0.000154</td>\n",
       "      <td>-0.000322</td>\n",
       "      <td>0.000033</td>\n",
       "      <td>-0.000185</td>\n",
       "      <td>-0.000160</td>\n",
       "      <td>7.054262e-05</td>\n",
       "      <td>0.000371</td>\n",
       "      <td>0.001012</td>\n",
       "      <td>0.001074</td>\n",
       "      <td>0.000904</td>\n",
       "      <td>0.000878</td>\n",
       "      <td>0.001777</td>\n",
       "    </tr>\n",
       "  </tbody>\n",
       "</table>\n",
       "<p>22596 rows × 12 columns</p>\n",
       "</div>"
      ],
      "text/plain": [
       "                        AAPL      AMZN      NFLX     GOOGL      TSLA  \\\n",
       "2020-01-01 AAPL          NaN       NaN       NaN       NaN       NaN   \n",
       "           AMZN          NaN       NaN       NaN       NaN       NaN   \n",
       "           NFLX          NaN       NaN       NaN       NaN       NaN   \n",
       "           GOOGL         NaN       NaN       NaN       NaN       NaN   \n",
       "           TSLA          NaN       NaN       NaN       NaN       NaN   \n",
       "...                      ...       ...       ...       ...       ...   \n",
       "2025-03-03 ETHUSDT -0.000051 -0.000167  0.000044 -0.000140 -0.000049   \n",
       "           ADAUSDT  0.000065 -0.000092 -0.000042 -0.000072 -0.000271   \n",
       "           BNBUSDT -0.000061 -0.000259 -0.000074 -0.000263 -0.000284   \n",
       "           XRPUSDT -0.000015 -0.000184 -0.000040 -0.000088 -0.000111   \n",
       "           DOTUSDT -0.000154 -0.000322  0.000033 -0.000185 -0.000160   \n",
       "\n",
       "                            META   BTCUSDT   ETHUSDT   ADAUSDT   BNBUSDT  \\\n",
       "2020-01-01 AAPL              NaN       NaN       NaN       NaN       NaN   \n",
       "           AMZN              NaN       NaN       NaN       NaN       NaN   \n",
       "           NFLX              NaN       NaN       NaN       NaN       NaN   \n",
       "           GOOGL             NaN       NaN       NaN       NaN       NaN   \n",
       "           TSLA              NaN       NaN       NaN       NaN       NaN   \n",
       "...                          ...       ...       ...       ...       ...   \n",
       "2025-03-03 ETHUSDT  2.038010e-05  0.000257  0.000722  0.000541  0.000523   \n",
       "           ADAUSDT  4.143107e-05  0.000233  0.000541  0.001245  0.000616   \n",
       "           BNBUSDT -3.325510e-05  0.000236  0.000523  0.000616  0.000915   \n",
       "           XRPUSDT -2.098898e-07  0.000376  0.000540  0.000705  0.000485   \n",
       "           DOTUSDT  7.054262e-05  0.000371  0.001012  0.001074  0.000904   \n",
       "\n",
       "                     XRPUSDT   DOTUSDT  \n",
       "2020-01-01 AAPL          NaN       NaN  \n",
       "           AMZN          NaN       NaN  \n",
       "           NFLX          NaN       NaN  \n",
       "           GOOGL         NaN       NaN  \n",
       "           TSLA          NaN       NaN  \n",
       "...                      ...       ...  \n",
       "2025-03-03 ETHUSDT  0.000540  0.001012  \n",
       "           ADAUSDT  0.000705  0.001074  \n",
       "           BNBUSDT  0.000485  0.000904  \n",
       "           XRPUSDT  0.001209  0.000878  \n",
       "           DOTUSDT  0.000878  0.001777  \n",
       "\n",
       "[22596 rows x 12 columns]"
      ]
     },
     "execution_count": 25,
     "metadata": {},
     "output_type": "execute_result"
    }
   ],
   "source": [
    "params[\"cov\"]"
   ]
  },
  {
   "cell_type": "code",
   "execution_count": 26,
   "id": "8e5b1b35-61ad-4423-92bf-e5a584e3c197",
   "metadata": {},
   "outputs": [],
   "source": [
    "#createVolatilityCovMatrix(params[\"volatility\"],params[\"cov\"],allSecurities)"
   ]
  },
  {
   "cell_type": "code",
   "execution_count": 27,
   "id": "f00a5d6f-0968-4bde-ab49-43e7e76e2a9f",
   "metadata": {},
   "outputs": [],
   "source": [
    "#check covariance of the securities\n",
    "\n",
    "#simple_matrix=createVolatilityCovMatrix(params[\"volatility\"],params[\"cov\"],allSecurities)\n",
    "#simple_matrixTest=createVolatilityCovMatrix(paramsTest[\"volatility\"],paramsTest[\"cov\"],allSecurities)\n",
    "simple_matrix=createVolatilityMatrix(params[\"volatility\"],allSecurities)\n",
    "simple_matrixTest=createVolatilityMatrix(paramsTest[\"volatility\"],allSecurities)\n",
    "\n"
   ]
  },
  {
   "cell_type": "code",
   "execution_count": 28,
   "id": "acb19ef2-9965-43cc-b336-690faa5de875",
   "metadata": {},
   "outputs": [],
   "source": [
    "portfolitoWts=getOptimalWts(simple_matrix,params['ret'][allSecurities])\n",
    "portfolitoWtsTest=getOptimalWts(simple_matrixTest,paramsTest['ret'][allSecurities])\n",
    "\n",
    "\n"
   ]
  },
  {
   "cell_type": "code",
   "execution_count": 29,
   "id": "b6b8a334",
   "metadata": {},
   "outputs": [
    {
     "data": {
      "text/plain": [
       "2025-04-20    1.0\n",
       "2025-04-21    1.0\n",
       "dtype: float64"
      ]
     },
     "execution_count": 29,
     "metadata": {},
     "output_type": "execute_result"
    }
   ],
   "source": [
    "(portfolitoWtsTest.tail(2)).abs().sum(1)\n"
   ]
  },
  {
   "cell_type": "code",
   "execution_count": 30,
   "id": "ebb8bbba-56f8-4189-95a2-7f31ddde6d86",
   "metadata": {},
   "outputs": [],
   "source": [
    "portfolio=np.sum(crypRet[allSecurities]*portfolitoWts,1)"
   ]
  },
  {
   "cell_type": "code",
   "execution_count": 31,
   "id": "d82ae63b-d333-4939-aa1e-873f5bc0315e",
   "metadata": {},
   "outputs": [
    {
     "data": {
      "text/plain": [
       "2020-01-01    0.000000\n",
       "2020-01-02    0.000000\n",
       "2020-01-03   -0.044280\n",
       "2020-01-04    0.008449\n",
       "2020-01-05    0.008738\n",
       "                ...   \n",
       "2025-02-25    0.018032\n",
       "2025-02-26    0.007198\n",
       "2025-02-27   -0.003448\n",
       "2025-02-28   -0.013424\n",
       "2025-03-03    0.004926\n",
       "Length: 1883, dtype: float64"
      ]
     },
     "execution_count": 31,
     "metadata": {},
     "output_type": "execute_result"
    }
   ],
   "source": [
    "portfolio"
   ]
  },
  {
   "cell_type": "code",
   "execution_count": 32,
   "id": "8d8a1ab8-4528-4e1d-8bac-166de81f5b57",
   "metadata": {},
   "outputs": [
    {
     "data": {
      "text/plain": [
       "np.float64(3.8473282965013222)"
      ]
     },
     "execution_count": 32,
     "metadata": {},
     "output_type": "execute_result"
    }
   ],
   "source": [
    "sharp(portfolio) #this is biased as this data was used to calculate "
   ]
  },
  {
   "cell_type": "code",
   "execution_count": 33,
   "id": "5aa7ed59-05e7-4d2b-9a67-7adf8d05e3b8",
   "metadata": {},
   "outputs": [],
   "source": [
    "portfolioRetTestData=np.sum((testReturns*portfolitoWtsTest),1)"
   ]
  },
  {
   "cell_type": "code",
   "execution_count": 34,
   "id": "ac8e653e-cd98-47f9-b491-e2c5d9a2ed53",
   "metadata": {},
   "outputs": [
    {
     "data": {
      "text/plain": [
       "np.float64(-2.980020730746669)"
      ]
     },
     "execution_count": 34,
     "metadata": {},
     "output_type": "execute_result"
    }
   ],
   "source": [
    "#simplePortfolioSharp\n",
    "sharp(portfolioRetTestData)"
   ]
  },
  {
   "cell_type": "markdown",
   "id": "0580bda6-9079-4f1a-b4cc-2d1e6be8bea2",
   "metadata": {},
   "source": [
    "#Momentum based chnage in wts"
   ]
  },
  {
   "cell_type": "code",
   "execution_count": null,
   "id": "22d5f6ac-2009-4daf-94f1-2a425d4c2dda",
   "metadata": {},
   "outputs": [],
   "source": [
    "\n",
    "\n"
   ]
  },
  {
   "cell_type": "code",
   "execution_count": 35,
   "id": "ae59c56e-5016-49ca-9404-274fea7f3e93",
   "metadata": {},
   "outputs": [],
   "source": [
    "def getMomentumFor(filtersharp,allSecurities,ret):\n",
    "    momentumStrategyAllSecurties={}\n",
    "    testVars=[[5,50],[5,100],[5,150],[5,200],[5,365],[3,365],[10,100],[10,150],[10,200],[10,250],[10,365],[20,200],[20,365],[25,365]]\n",
    "    for sec in allSecurities:\n",
    "        momentumStrategyVar=[]\n",
    "        maxSharp=0\n",
    "        for index,dataPts in enumerate(testVars) :\n",
    "            portfolio=ret[sec]\n",
    "            portMomentum=momentum(portfolio,dataPts[0],dataPts[1])\n",
    "            strat_ret=portMomentum*portfolio\n",
    "            newSharp=sharp(strat_ret)\n",
    "            if(newSharp>maxSharp):\n",
    "                momentumStrategyVar=dataPts               \n",
    "                maxSharp=newSharp\n",
    "        print(f' Sec: {sec} dataPoints :{momentumStrategyVar}  Sharp : {maxSharp}')\n",
    "        if(maxSharp>filtersharp):\n",
    "            momentumStrategyAllSecurties[sec]=momentumStrategyVar\n",
    "    return momentumStrategyAllSecurties\n",
    "           \n",
    "# portMomentum this is the weight from momentum srtategy "
   ]
  },
  {
   "cell_type": "code",
   "execution_count": 36,
   "id": "529a0c92-3a8a-4aed-898d-af61cf3702b5",
   "metadata": {},
   "outputs": [
    {
     "name": "stdout",
     "output_type": "stream",
     "text": [
      " Sec: AAPL dataPoints :[3, 365]  Sharp : 2.323665434013332\n",
      " Sec: AMZN dataPoints :[3, 365]  Sharp : 3.065365473604552\n",
      " Sec: NFLX dataPoints :[3, 365]  Sharp : 2.301459770276747\n",
      " Sec: GOOGL dataPoints :[3, 365]  Sharp : 2.361061550919612\n",
      " Sec: TSLA dataPoints :[3, 365]  Sharp : 2.7962080879671\n",
      " Sec: META dataPoints :[5, 50]  Sharp : 1.868777783351149\n",
      " Sec: BTCUSDT dataPoints :[25, 365]  Sharp : 0.6479462938289737\n",
      " Sec: ETHUSDT dataPoints :[10, 200]  Sharp : 0.5501578130094833\n",
      " Sec: ADAUSDT dataPoints :[20, 365]  Sharp : 1.0578039042165293\n",
      " Sec: BNBUSDT dataPoints :[25, 365]  Sharp : 0.5988108438182846\n",
      " Sec: XRPUSDT dataPoints :[5, 50]  Sharp : 1.208138753261018\n",
      " Sec: DOTUSDT dataPoints :[25, 365]  Sharp : 0.6865281687573213\n"
     ]
    }
   ],
   "source": [
    "momentumStrategyAllSecurties=getMomentumFor(1,allSecurities,crypRet)"
   ]
  },
  {
   "cell_type": "code",
   "execution_count": 37,
   "id": "a5504382-8a19-44d1-a85e-aa5dfd6bf5d4",
   "metadata": {},
   "outputs": [],
   "source": [
    "#turover_momentum=(portMomentum.fillna(0)-portMomentum.shift().fillna(0)).abs()"
   ]
  },
  {
   "cell_type": "code",
   "execution_count": 38,
   "id": "f675975d-4d08-4e0a-bd75-e370c344d2fe",
   "metadata": {},
   "outputs": [],
   "source": [
    "def getMomentumForPortfolio(ret,wts,dataPointsForAllSecurities):\n",
    "    momentumAllSec=pd.DataFrame()\n",
    "    for sec in dataPointsForAllSecurities.keys():\n",
    "        momentumStrategyVar=dataPointsForAllSecurities[sec]\n",
    "        if(momentumStrategyVar is not None and len(momentumStrategyVar)>=2):\n",
    "            momentumAllSec[sec]=momentum(ret[sec],momentumStrategyVar[0],momentumStrategyVar[1])*wts[sec]\n",
    "        else:\n",
    "            momentumAllSec[sec]=wts[sec]\n",
    "    return momentumAllSec\n",
    "        \n",
    "    "
   ]
  },
  {
   "cell_type": "code",
   "execution_count": 39,
   "id": "5770cf91-83ca-4221-8034-053519e5d3bb",
   "metadata": {},
   "outputs": [
    {
     "data": {
      "text/html": [
       "<div>\n",
       "<style scoped>\n",
       "    .dataframe tbody tr th:only-of-type {\n",
       "        vertical-align: middle;\n",
       "    }\n",
       "\n",
       "    .dataframe tbody tr th {\n",
       "        vertical-align: top;\n",
       "    }\n",
       "\n",
       "    .dataframe thead th {\n",
       "        text-align: right;\n",
       "    }\n",
       "</style>\n",
       "<table border=\"1\" class=\"dataframe\">\n",
       "  <thead>\n",
       "    <tr style=\"text-align: right;\">\n",
       "      <th></th>\n",
       "      <th>AAPL</th>\n",
       "      <th>AMZN</th>\n",
       "      <th>NFLX</th>\n",
       "      <th>GOOGL</th>\n",
       "      <th>TSLA</th>\n",
       "      <th>META</th>\n",
       "      <th>BTCUSDT</th>\n",
       "      <th>ETHUSDT</th>\n",
       "      <th>ADAUSDT</th>\n",
       "      <th>BNBUSDT</th>\n",
       "      <th>XRPUSDT</th>\n",
       "      <th>DOTUSDT</th>\n",
       "    </tr>\n",
       "  </thead>\n",
       "  <tbody>\n",
       "    <tr>\n",
       "      <th>2020-01-01</th>\n",
       "      <td>NaN</td>\n",
       "      <td>NaN</td>\n",
       "      <td>NaN</td>\n",
       "      <td>NaN</td>\n",
       "      <td>NaN</td>\n",
       "      <td>NaN</td>\n",
       "      <td>NaN</td>\n",
       "      <td>NaN</td>\n",
       "      <td>NaN</td>\n",
       "      <td>NaN</td>\n",
       "      <td>NaN</td>\n",
       "      <td>NaN</td>\n",
       "    </tr>\n",
       "    <tr>\n",
       "      <th>2020-01-02</th>\n",
       "      <td>NaN</td>\n",
       "      <td>NaN</td>\n",
       "      <td>NaN</td>\n",
       "      <td>NaN</td>\n",
       "      <td>NaN</td>\n",
       "      <td>NaN</td>\n",
       "      <td>NaN</td>\n",
       "      <td>NaN</td>\n",
       "      <td>NaN</td>\n",
       "      <td>NaN</td>\n",
       "      <td>NaN</td>\n",
       "      <td>NaN</td>\n",
       "    </tr>\n",
       "    <tr>\n",
       "      <th>2020-01-03</th>\n",
       "      <td>0.000000</td>\n",
       "      <td>0.000000</td>\n",
       "      <td>0.000000</td>\n",
       "      <td>0.000000</td>\n",
       "      <td>0.000000</td>\n",
       "      <td>0.000000</td>\n",
       "      <td>-0.179210</td>\n",
       "      <td>-0.230353</td>\n",
       "      <td>-0.263345</td>\n",
       "      <td>-0.118537</td>\n",
       "      <td>-0.208555</td>\n",
       "      <td>0.000000</td>\n",
       "    </tr>\n",
       "    <tr>\n",
       "      <th>2020-01-04</th>\n",
       "      <td>-0.139743</td>\n",
       "      <td>-0.111917</td>\n",
       "      <td>-0.114595</td>\n",
       "      <td>-0.259704</td>\n",
       "      <td>0.045846</td>\n",
       "      <td>-0.256756</td>\n",
       "      <td>0.012722</td>\n",
       "      <td>0.015050</td>\n",
       "      <td>0.018268</td>\n",
       "      <td>0.009205</td>\n",
       "      <td>0.016195</td>\n",
       "      <td>0.000000</td>\n",
       "    </tr>\n",
       "    <tr>\n",
       "      <th>2020-01-05</th>\n",
       "      <td>-0.148350</td>\n",
       "      <td>-0.118809</td>\n",
       "      <td>-0.121652</td>\n",
       "      <td>-0.275698</td>\n",
       "      <td>0.048669</td>\n",
       "      <td>-0.272568</td>\n",
       "      <td>0.000188</td>\n",
       "      <td>0.000233</td>\n",
       "      <td>0.008031</td>\n",
       "      <td>0.003878</td>\n",
       "      <td>-0.001923</td>\n",
       "      <td>0.000000</td>\n",
       "    </tr>\n",
       "    <tr>\n",
       "      <th>...</th>\n",
       "      <td>...</td>\n",
       "      <td>...</td>\n",
       "      <td>...</td>\n",
       "      <td>...</td>\n",
       "      <td>...</td>\n",
       "      <td>...</td>\n",
       "      <td>...</td>\n",
       "      <td>...</td>\n",
       "      <td>...</td>\n",
       "      <td>...</td>\n",
       "      <td>...</td>\n",
       "      <td>...</td>\n",
       "    </tr>\n",
       "    <tr>\n",
       "      <th>2025-02-25</th>\n",
       "      <td>0.067931</td>\n",
       "      <td>-0.165443</td>\n",
       "      <td>-0.085370</td>\n",
       "      <td>-0.012870</td>\n",
       "      <td>-0.085380</td>\n",
       "      <td>-0.388356</td>\n",
       "      <td>0.011081</td>\n",
       "      <td>-0.042895</td>\n",
       "      <td>-0.048996</td>\n",
       "      <td>0.020068</td>\n",
       "      <td>0.022344</td>\n",
       "      <td>-0.049265</td>\n",
       "    </tr>\n",
       "    <tr>\n",
       "      <th>2025-02-26</th>\n",
       "      <td>-0.002567</td>\n",
       "      <td>0.004096</td>\n",
       "      <td>-0.176015</td>\n",
       "      <td>-0.116016</td>\n",
       "      <td>-0.260159</td>\n",
       "      <td>-0.249550</td>\n",
       "      <td>0.011269</td>\n",
       "      <td>-0.042499</td>\n",
       "      <td>-0.048053</td>\n",
       "      <td>0.019660</td>\n",
       "      <td>0.021831</td>\n",
       "      <td>-0.048285</td>\n",
       "    </tr>\n",
       "    <tr>\n",
       "      <th>2025-02-27</th>\n",
       "      <td>-0.192213</td>\n",
       "      <td>0.051749</td>\n",
       "      <td>0.181561</td>\n",
       "      <td>-0.061478</td>\n",
       "      <td>-0.089082</td>\n",
       "      <td>0.279334</td>\n",
       "      <td>0.008382</td>\n",
       "      <td>-0.033657</td>\n",
       "      <td>-0.035893</td>\n",
       "      <td>0.014658</td>\n",
       "      <td>0.016265</td>\n",
       "      <td>-0.035728</td>\n",
       "    </tr>\n",
       "    <tr>\n",
       "      <th>2025-02-28</th>\n",
       "      <td>-0.078065</td>\n",
       "      <td>-0.155689</td>\n",
       "      <td>-0.285096</td>\n",
       "      <td>-0.085817</td>\n",
       "      <td>-0.059504</td>\n",
       "      <td>-0.208826</td>\n",
       "      <td>0.007472</td>\n",
       "      <td>-0.029594</td>\n",
       "      <td>-0.031485</td>\n",
       "      <td>0.012934</td>\n",
       "      <td>0.014259</td>\n",
       "      <td>-0.031259</td>\n",
       "    </tr>\n",
       "    <tr>\n",
       "      <th>2025-03-03</th>\n",
       "      <td>0.148482</td>\n",
       "      <td>0.125181</td>\n",
       "      <td>0.236464</td>\n",
       "      <td>0.048696</td>\n",
       "      <td>0.090949</td>\n",
       "      <td>0.182797</td>\n",
       "      <td>0.009803</td>\n",
       "      <td>-0.039095</td>\n",
       "      <td>-0.041735</td>\n",
       "      <td>0.017011</td>\n",
       "      <td>0.018673</td>\n",
       "      <td>-0.041115</td>\n",
       "    </tr>\n",
       "  </tbody>\n",
       "</table>\n",
       "<p>1883 rows × 12 columns</p>\n",
       "</div>"
      ],
      "text/plain": [
       "                AAPL      AMZN      NFLX     GOOGL      TSLA      META  \\\n",
       "2020-01-01       NaN       NaN       NaN       NaN       NaN       NaN   \n",
       "2020-01-02       NaN       NaN       NaN       NaN       NaN       NaN   \n",
       "2020-01-03  0.000000  0.000000  0.000000  0.000000  0.000000  0.000000   \n",
       "2020-01-04 -0.139743 -0.111917 -0.114595 -0.259704  0.045846 -0.256756   \n",
       "2020-01-05 -0.148350 -0.118809 -0.121652 -0.275698  0.048669 -0.272568   \n",
       "...              ...       ...       ...       ...       ...       ...   \n",
       "2025-02-25  0.067931 -0.165443 -0.085370 -0.012870 -0.085380 -0.388356   \n",
       "2025-02-26 -0.002567  0.004096 -0.176015 -0.116016 -0.260159 -0.249550   \n",
       "2025-02-27 -0.192213  0.051749  0.181561 -0.061478 -0.089082  0.279334   \n",
       "2025-02-28 -0.078065 -0.155689 -0.285096 -0.085817 -0.059504 -0.208826   \n",
       "2025-03-03  0.148482  0.125181  0.236464  0.048696  0.090949  0.182797   \n",
       "\n",
       "             BTCUSDT   ETHUSDT   ADAUSDT   BNBUSDT   XRPUSDT   DOTUSDT  \n",
       "2020-01-01       NaN       NaN       NaN       NaN       NaN       NaN  \n",
       "2020-01-02       NaN       NaN       NaN       NaN       NaN       NaN  \n",
       "2020-01-03 -0.179210 -0.230353 -0.263345 -0.118537 -0.208555  0.000000  \n",
       "2020-01-04  0.012722  0.015050  0.018268  0.009205  0.016195  0.000000  \n",
       "2020-01-05  0.000188  0.000233  0.008031  0.003878 -0.001923  0.000000  \n",
       "...              ...       ...       ...       ...       ...       ...  \n",
       "2025-02-25  0.011081 -0.042895 -0.048996  0.020068  0.022344 -0.049265  \n",
       "2025-02-26  0.011269 -0.042499 -0.048053  0.019660  0.021831 -0.048285  \n",
       "2025-02-27  0.008382 -0.033657 -0.035893  0.014658  0.016265 -0.035728  \n",
       "2025-02-28  0.007472 -0.029594 -0.031485  0.012934  0.014259 -0.031259  \n",
       "2025-03-03  0.009803 -0.039095 -0.041735  0.017011  0.018673 -0.041115  \n",
       "\n",
       "[1883 rows x 12 columns]"
      ]
     },
     "execution_count": 39,
     "metadata": {},
     "output_type": "execute_result"
    }
   ],
   "source": [
    "portfolitoWts"
   ]
  },
  {
   "cell_type": "code",
   "execution_count": 40,
   "id": "69a5e0e5-1a48-4e98-9e57-3636dc0733af",
   "metadata": {},
   "outputs": [
    {
     "data": {
      "text/plain": [
       "np.float64(1.5089625812401328)"
      ]
     },
     "execution_count": 40,
     "metadata": {},
     "output_type": "execute_result"
    }
   ],
   "source": [
    "portFolioWtsForSec= dict(zip(allSecurities,portfolitoWts))\n",
    "\n",
    "porfolioMomentum=getMomentumForPortfolio(crypRet,portfolitoWts,momentumStrategyAllSecurties)\n",
    "momentumRet=porfolioMomentum*crypRet\n",
    "portFolioRetAfterMomentum=np.sum(momentumRet,1)\n",
    "sharp(portFolioRetAfterMomentum)\n"
   ]
  },
  {
   "cell_type": "code",
   "execution_count": 41,
   "id": "26a837d6-98bd-490c-b956-4f1455de8463",
   "metadata": {},
   "outputs": [
    {
     "data": {
      "text/plain": [
       "2020-01-01    0.000000\n",
       "2020-01-02    0.000000\n",
       "2020-01-03    0.000000\n",
       "2020-01-04   -0.003104\n",
       "2020-01-05   -0.004171\n",
       "                ...   \n",
       "2025-02-25   -0.014170\n",
       "2025-02-26   -0.004451\n",
       "2025-02-27    0.001615\n",
       "2025-02-28    0.011502\n",
       "2025-03-03   -0.001039\n",
       "Length: 1883, dtype: float64"
      ]
     },
     "execution_count": 41,
     "metadata": {},
     "output_type": "execute_result"
    }
   ],
   "source": [
    "portFolioRetAfterMomentum"
   ]
  },
  {
   "cell_type": "code",
   "execution_count": 42,
   "id": "aeeaa546-4c3d-49a7-a656-0f48620120a0",
   "metadata": {},
   "outputs": [],
   "source": [
    "# portFolioWtsForSec,momentumStrategyAllSecurties are calculated for analusis data and verified on backtest\n",
    "testPortfolioMomentum=getMomentumForPortfolio(testReturns,portfolitoWtsTest,momentumStrategyAllSecurties)"
   ]
  },
  {
   "cell_type": "code",
   "execution_count": 43,
   "id": "e7e15b98-aa6e-44d8-89fd-1148a49c92f1",
   "metadata": {},
   "outputs": [],
   "source": [
    "#turover_momentum"
   ]
  },
  {
   "cell_type": "code",
   "execution_count": 44,
   "id": "ffd1cea9-056b-4205-97d4-fbe8bfc8038d",
   "metadata": {},
   "outputs": [],
   "source": [
    "strat_retForTest=testPortfolioMomentum*testReturns\n"
   ]
  },
  {
   "cell_type": "code",
   "execution_count": 45,
   "id": "14c564d4-7301-41d1-b1f8-700061b9886e",
   "metadata": {},
   "outputs": [
    {
     "data": {
      "text/html": [
       "<div>\n",
       "<style scoped>\n",
       "    .dataframe tbody tr th:only-of-type {\n",
       "        vertical-align: middle;\n",
       "    }\n",
       "\n",
       "    .dataframe tbody tr th {\n",
       "        vertical-align: top;\n",
       "    }\n",
       "\n",
       "    .dataframe thead th {\n",
       "        text-align: right;\n",
       "    }\n",
       "</style>\n",
       "<table border=\"1\" class=\"dataframe\">\n",
       "  <thead>\n",
       "    <tr style=\"text-align: right;\">\n",
       "      <th></th>\n",
       "      <th>AAPL</th>\n",
       "      <th>AMZN</th>\n",
       "      <th>NFLX</th>\n",
       "      <th>GOOGL</th>\n",
       "      <th>TSLA</th>\n",
       "      <th>META</th>\n",
       "      <th>ADAUSDT</th>\n",
       "      <th>XRPUSDT</th>\n",
       "    </tr>\n",
       "  </thead>\n",
       "  <tbody>\n",
       "    <tr>\n",
       "      <th>2025-03-03</th>\n",
       "      <td>NaN</td>\n",
       "      <td>NaN</td>\n",
       "      <td>NaN</td>\n",
       "      <td>NaN</td>\n",
       "      <td>NaN</td>\n",
       "      <td>NaN</td>\n",
       "      <td>NaN</td>\n",
       "      <td>NaN</td>\n",
       "    </tr>\n",
       "    <tr>\n",
       "      <th>2025-03-04</th>\n",
       "      <td>NaN</td>\n",
       "      <td>NaN</td>\n",
       "      <td>NaN</td>\n",
       "      <td>NaN</td>\n",
       "      <td>NaN</td>\n",
       "      <td>NaN</td>\n",
       "      <td>NaN</td>\n",
       "      <td>NaN</td>\n",
       "    </tr>\n",
       "    <tr>\n",
       "      <th>2025-03-05</th>\n",
       "      <td>NaN</td>\n",
       "      <td>NaN</td>\n",
       "      <td>NaN</td>\n",
       "      <td>NaN</td>\n",
       "      <td>NaN</td>\n",
       "      <td>NaN</td>\n",
       "      <td>NaN</td>\n",
       "      <td>NaN</td>\n",
       "    </tr>\n",
       "    <tr>\n",
       "      <th>2025-03-06</th>\n",
       "      <td>0.063053</td>\n",
       "      <td>0.128846</td>\n",
       "      <td>0.246537</td>\n",
       "      <td>0.193195</td>\n",
       "      <td>-0.013630</td>\n",
       "      <td>NaN</td>\n",
       "      <td>NaN</td>\n",
       "      <td>NaN</td>\n",
       "    </tr>\n",
       "    <tr>\n",
       "      <th>2025-03-07</th>\n",
       "      <td>0.306721</td>\n",
       "      <td>0.086528</td>\n",
       "      <td>0.084496</td>\n",
       "      <td>-0.071126</td>\n",
       "      <td>0.096785</td>\n",
       "      <td>NaN</td>\n",
       "      <td>NaN</td>\n",
       "      <td>NaN</td>\n",
       "    </tr>\n",
       "    <tr>\n",
       "      <th>...</th>\n",
       "      <td>...</td>\n",
       "      <td>...</td>\n",
       "      <td>...</td>\n",
       "      <td>...</td>\n",
       "      <td>...</td>\n",
       "      <td>...</td>\n",
       "      <td>...</td>\n",
       "      <td>...</td>\n",
       "    </tr>\n",
       "    <tr>\n",
       "      <th>2025-04-17</th>\n",
       "      <td>NaN</td>\n",
       "      <td>NaN</td>\n",
       "      <td>NaN</td>\n",
       "      <td>NaN</td>\n",
       "      <td>NaN</td>\n",
       "      <td>NaN</td>\n",
       "      <td>-0.017472</td>\n",
       "      <td>-0.010585</td>\n",
       "    </tr>\n",
       "    <tr>\n",
       "      <th>2025-04-18</th>\n",
       "      <td>NaN</td>\n",
       "      <td>NaN</td>\n",
       "      <td>NaN</td>\n",
       "      <td>NaN</td>\n",
       "      <td>NaN</td>\n",
       "      <td>NaN</td>\n",
       "      <td>-0.037107</td>\n",
       "      <td>0.017397</td>\n",
       "    </tr>\n",
       "    <tr>\n",
       "      <th>2025-04-19</th>\n",
       "      <td>NaN</td>\n",
       "      <td>NaN</td>\n",
       "      <td>NaN</td>\n",
       "      <td>NaN</td>\n",
       "      <td>NaN</td>\n",
       "      <td>NaN</td>\n",
       "      <td>-0.050082</td>\n",
       "      <td>0.008340</td>\n",
       "    </tr>\n",
       "    <tr>\n",
       "      <th>2025-04-20</th>\n",
       "      <td>NaN</td>\n",
       "      <td>NaN</td>\n",
       "      <td>NaN</td>\n",
       "      <td>NaN</td>\n",
       "      <td>NaN</td>\n",
       "      <td>NaN</td>\n",
       "      <td>-0.001616</td>\n",
       "      <td>-0.016950</td>\n",
       "    </tr>\n",
       "    <tr>\n",
       "      <th>2025-04-21</th>\n",
       "      <td>NaN</td>\n",
       "      <td>NaN</td>\n",
       "      <td>NaN</td>\n",
       "      <td>NaN</td>\n",
       "      <td>NaN</td>\n",
       "      <td>NaN</td>\n",
       "      <td>0.047867</td>\n",
       "      <td>0.005272</td>\n",
       "    </tr>\n",
       "  </tbody>\n",
       "</table>\n",
       "<p>87 rows × 8 columns</p>\n",
       "</div>"
      ],
      "text/plain": [
       "                AAPL      AMZN      NFLX     GOOGL      TSLA  META   ADAUSDT  \\\n",
       "2025-03-03       NaN       NaN       NaN       NaN       NaN   NaN       NaN   \n",
       "2025-03-04       NaN       NaN       NaN       NaN       NaN   NaN       NaN   \n",
       "2025-03-05       NaN       NaN       NaN       NaN       NaN   NaN       NaN   \n",
       "2025-03-06  0.063053  0.128846  0.246537  0.193195 -0.013630   NaN       NaN   \n",
       "2025-03-07  0.306721  0.086528  0.084496 -0.071126  0.096785   NaN       NaN   \n",
       "...              ...       ...       ...       ...       ...   ...       ...   \n",
       "2025-04-17       NaN       NaN       NaN       NaN       NaN   NaN -0.017472   \n",
       "2025-04-18       NaN       NaN       NaN       NaN       NaN   NaN -0.037107   \n",
       "2025-04-19       NaN       NaN       NaN       NaN       NaN   NaN -0.050082   \n",
       "2025-04-20       NaN       NaN       NaN       NaN       NaN   NaN -0.001616   \n",
       "2025-04-21       NaN       NaN       NaN       NaN       NaN   NaN  0.047867   \n",
       "\n",
       "             XRPUSDT  \n",
       "2025-03-03       NaN  \n",
       "2025-03-04       NaN  \n",
       "2025-03-05       NaN  \n",
       "2025-03-06       NaN  \n",
       "2025-03-07       NaN  \n",
       "...              ...  \n",
       "2025-04-17 -0.010585  \n",
       "2025-04-18  0.017397  \n",
       "2025-04-19  0.008340  \n",
       "2025-04-20 -0.016950  \n",
       "2025-04-21  0.005272  \n",
       "\n",
       "[87 rows x 8 columns]"
      ]
     },
     "execution_count": 45,
     "metadata": {},
     "output_type": "execute_result"
    }
   ],
   "source": [
    "testPortfolioMomentum"
   ]
  },
  {
   "cell_type": "code",
   "execution_count": 46,
   "id": "37781744-eec4-4b5e-b3b2-e263f5fc04bc",
   "metadata": {},
   "outputs": [
    {
     "data": {
      "text/plain": [
       "np.float64(-0.431761069768359)"
      ]
     },
     "execution_count": 46,
     "metadata": {},
     "output_type": "execute_result"
    }
   ],
   "source": [
    "sharp(strat_retForTest.sum(1))"
   ]
  },
  {
   "cell_type": "markdown",
   "id": "b2c4f885-4a1b-45f3-b187-c43257d1836b",
   "metadata": {},
   "source": [
    "------------------REVERSAL------"
   ]
  },
  {
   "cell_type": "code",
   "execution_count": 47,
   "id": "27088bd8-1778-4415-887a-8fe823274702",
   "metadata": {},
   "outputs": [],
   "source": [
    "cryptoHourlyFile='../data/HourlyCryptoData2025_06_04.pkl'\n",
    "magHourlyFile='../data/HourlyMagnificient_All2025_29_04.pkl'"
   ]
  },
  {
   "cell_type": "code",
   "execution_count": 48,
   "id": "a9eb720f-0668-4c81-a873-2c4d284d0785",
   "metadata": {},
   "outputs": [],
   "source": [
    "testcryptHourlyFile='../data/HourlyCryptoDataTest2025_22_04.pkl'\n",
    "testMagHourlyFile='../data/HourlyManificient_AllTest2025_18_23.pkl'"
   ]
  },
  {
   "cell_type": "code",
   "execution_count": 49,
   "id": "e522ff22-8745-4604-8582-c2bc1140786f",
   "metadata": {},
   "outputs": [],
   "source": [
    "cryptoHourData=loader(cryptoHourlyFile)\n",
    "magHourlyData=loader(magHourlyFile)"
   ]
  },
  {
   "cell_type": "code",
   "execution_count": 50,
   "id": "afbaabcf-1514-4786-b8ab-1d62950fc9c2",
   "metadata": {},
   "outputs": [],
   "source": [
    "testCryptoHourData=loader(testcryptHourlyFile)\n",
    "testMagHourlyData=loader(testMagHourlyFile)"
   ]
  },
  {
   "cell_type": "code",
   "execution_count": 51,
   "id": "694a88df-3e5f-4c54-b940-e92781ea8f0c",
   "metadata": {},
   "outputs": [],
   "source": [
    "def getHourlyData(cryptoHourData,magHourlyData,datelimit):\n",
    "    magHourlyData=magHourlyData['Close']\n",
    "    magHourlyData=magHourlyData[magHourlyData.index< pd.Timestamp(datetime.strptime(datelimit, \"%Y-%m-%d\")).tz_localize('UTC')]\n",
    "    cryptoHourData=cryptoHourData[cryptoHourData.index< datetime.strptime(datelimit, \"%Y-%m-%d\")]\n",
    "    cryptoHourData.index=cryptoHourData.index.tz_localize('UTC')\n",
    "    magHourlyData.index=magHourlyData.index.map(lambda t :t.replace(minute=0))\n",
    "    retHourlyDataALL=pd.merge(cryptoHourData,magHourlyData,left_index=True, right_index=True)\n",
    "    retHourlyDataAll=retHourlyDataALL.pct_change()\n",
    "    retHourlyData=retHourlyDataAll[allSecurities]\n",
    "    retHourlyData=retHourlyData.fillna(method='ffill')\n",
    "    retHourlyData=retHourlyData.fillna(method='bfill')\n",
    "    filtered_data=retHourlyData.resample('D').size()\n",
    "    filtered_dates=filtered_data[filtered_data!=7].index\n",
    "    retHourlyData=retHourlyData[~retHourlyData.index.isin(filtered_dates)]\n",
    "    return retHourlyData"
   ]
  },
  {
   "cell_type": "code",
   "execution_count": 52,
   "id": "7aec5d64-86ec-4985-ab26-ed01655799e3",
   "metadata": {},
   "outputs": [
    {
     "name": "stderr",
     "output_type": "stream",
     "text": [
      "C:\\Users\\rohan\\AppData\\Local\\Temp\\ipykernel_12856\\1799754891.py:8: FutureWarning: The default fill_method='pad' in DataFrame.pct_change is deprecated and will be removed in a future version. Either fill in any non-leading NA values prior to calling pct_change or specify 'fill_method=None' to not fill NA values.\n",
      "  retHourlyDataAll=retHourlyDataALL.pct_change()\n",
      "C:\\Users\\rohan\\AppData\\Local\\Temp\\ipykernel_12856\\1799754891.py:10: FutureWarning: DataFrame.fillna with 'method' is deprecated and will raise in a future version. Use obj.ffill() or obj.bfill() instead.\n",
      "  retHourlyData=retHourlyData.fillna(method='ffill')\n",
      "C:\\Users\\rohan\\AppData\\Local\\Temp\\ipykernel_12856\\1799754891.py:11: FutureWarning: DataFrame.fillna with 'method' is deprecated and will raise in a future version. Use obj.ffill() or obj.bfill() instead.\n",
      "  retHourlyData=retHourlyData.fillna(method='bfill')\n"
     ]
    },
    {
     "data": {
      "text/html": [
       "<div>\n",
       "<style scoped>\n",
       "    .dataframe tbody tr th:only-of-type {\n",
       "        vertical-align: middle;\n",
       "    }\n",
       "\n",
       "    .dataframe tbody tr th {\n",
       "        vertical-align: top;\n",
       "    }\n",
       "\n",
       "    .dataframe thead th {\n",
       "        text-align: right;\n",
       "    }\n",
       "</style>\n",
       "<table border=\"1\" class=\"dataframe\">\n",
       "  <thead>\n",
       "    <tr style=\"text-align: right;\">\n",
       "      <th></th>\n",
       "      <th>AAPL</th>\n",
       "      <th>AMZN</th>\n",
       "      <th>NFLX</th>\n",
       "      <th>GOOGL</th>\n",
       "      <th>TSLA</th>\n",
       "      <th>META</th>\n",
       "      <th>BTCUSDT</th>\n",
       "      <th>ETHUSDT</th>\n",
       "      <th>ADAUSDT</th>\n",
       "      <th>BNBUSDT</th>\n",
       "      <th>XRPUSDT</th>\n",
       "      <th>DOTUSDT</th>\n",
       "    </tr>\n",
       "  </thead>\n",
       "  <tbody>\n",
       "    <tr>\n",
       "      <th>2023-03-16 13:00:00+00:00</th>\n",
       "      <td>0.007375</td>\n",
       "      <td>0.021261</td>\n",
       "      <td>0.031822</td>\n",
       "      <td>0.022967</td>\n",
       "      <td>0.019236</td>\n",
       "      <td>0.023637</td>\n",
       "      <td>0.001393</td>\n",
       "      <td>0.001509</td>\n",
       "      <td>0.003690</td>\n",
       "      <td>0.047267</td>\n",
       "      <td>-0.004484</td>\n",
       "      <td>0.004970</td>\n",
       "    </tr>\n",
       "    <tr>\n",
       "      <th>2023-03-16 14:00:00+00:00</th>\n",
       "      <td>0.007375</td>\n",
       "      <td>0.021261</td>\n",
       "      <td>0.031822</td>\n",
       "      <td>0.022967</td>\n",
       "      <td>0.019236</td>\n",
       "      <td>0.023637</td>\n",
       "      <td>0.001393</td>\n",
       "      <td>0.001509</td>\n",
       "      <td>0.003690</td>\n",
       "      <td>0.047267</td>\n",
       "      <td>-0.004484</td>\n",
       "      <td>0.004970</td>\n",
       "    </tr>\n",
       "    <tr>\n",
       "      <th>2023-03-16 15:00:00+00:00</th>\n",
       "      <td>0.002915</td>\n",
       "      <td>0.002304</td>\n",
       "      <td>0.002900</td>\n",
       "      <td>-0.001251</td>\n",
       "      <td>0.003536</td>\n",
       "      <td>-0.004122</td>\n",
       "      <td>0.001305</td>\n",
       "      <td>0.002332</td>\n",
       "      <td>0.003370</td>\n",
       "      <td>0.002456</td>\n",
       "      <td>-0.004484</td>\n",
       "      <td>-0.000989</td>\n",
       "    </tr>\n",
       "    <tr>\n",
       "      <th>2023-03-16 16:00:00+00:00</th>\n",
       "      <td>0.001227</td>\n",
       "      <td>0.002998</td>\n",
       "      <td>-0.003463</td>\n",
       "      <td>0.006860</td>\n",
       "      <td>0.002277</td>\n",
       "      <td>-0.001097</td>\n",
       "      <td>-0.004122</td>\n",
       "      <td>-0.001058</td>\n",
       "      <td>-0.003053</td>\n",
       "      <td>0.006738</td>\n",
       "      <td>-0.004484</td>\n",
       "      <td>0.004290</td>\n",
       "    </tr>\n",
       "    <tr>\n",
       "      <th>2023-03-16 17:00:00+00:00</th>\n",
       "      <td>0.003076</td>\n",
       "      <td>-0.000283</td>\n",
       "      <td>-0.005982</td>\n",
       "      <td>0.002142</td>\n",
       "      <td>-0.001190</td>\n",
       "      <td>-0.008261</td>\n",
       "      <td>-0.004033</td>\n",
       "      <td>-0.003142</td>\n",
       "      <td>-0.007044</td>\n",
       "      <td>-0.000608</td>\n",
       "      <td>-0.004484</td>\n",
       "      <td>-0.006737</td>\n",
       "    </tr>\n",
       "    <tr>\n",
       "      <th>...</th>\n",
       "      <td>...</td>\n",
       "      <td>...</td>\n",
       "      <td>...</td>\n",
       "      <td>...</td>\n",
       "      <td>...</td>\n",
       "      <td>...</td>\n",
       "      <td>...</td>\n",
       "      <td>...</td>\n",
       "      <td>...</td>\n",
       "      <td>...</td>\n",
       "      <td>...</td>\n",
       "      <td>...</td>\n",
       "    </tr>\n",
       "    <tr>\n",
       "      <th>2025-03-03 16:00:00+00:00</th>\n",
       "      <td>0.005597</td>\n",
       "      <td>0.002699</td>\n",
       "      <td>0.007337</td>\n",
       "      <td>-0.001880</td>\n",
       "      <td>-0.001555</td>\n",
       "      <td>0.001564</td>\n",
       "      <td>0.000964</td>\n",
       "      <td>-0.003992</td>\n",
       "      <td>0.013452</td>\n",
       "      <td>0.000724</td>\n",
       "      <td>0.002076</td>\n",
       "      <td>-0.017633</td>\n",
       "    </tr>\n",
       "    <tr>\n",
       "      <th>2025-03-03 17:00:00+00:00</th>\n",
       "      <td>-0.006494</td>\n",
       "      <td>-0.008953</td>\n",
       "      <td>-0.015565</td>\n",
       "      <td>-0.009828</td>\n",
       "      <td>-0.043772</td>\n",
       "      <td>-0.011327</td>\n",
       "      <td>-0.002111</td>\n",
       "      <td>-0.000360</td>\n",
       "      <td>-0.002572</td>\n",
       "      <td>-0.000252</td>\n",
       "      <td>-0.003069</td>\n",
       "      <td>0.007840</td>\n",
       "    </tr>\n",
       "    <tr>\n",
       "      <th>2025-03-03 18:00:00+00:00</th>\n",
       "      <td>0.000775</td>\n",
       "      <td>-0.000579</td>\n",
       "      <td>0.009048</td>\n",
       "      <td>0.002912</td>\n",
       "      <td>0.003539</td>\n",
       "      <td>0.003763</td>\n",
       "      <td>-0.033335</td>\n",
       "      <td>-0.039866</td>\n",
       "      <td>-0.068909</td>\n",
       "      <td>-0.025082</td>\n",
       "      <td>-0.042796</td>\n",
       "      <td>-0.048311</td>\n",
       "    </tr>\n",
       "    <tr>\n",
       "      <th>2025-03-03 19:00:00+00:00</th>\n",
       "      <td>-0.017676</td>\n",
       "      <td>-0.014524</td>\n",
       "      <td>-0.016974</td>\n",
       "      <td>-0.014341</td>\n",
       "      <td>-0.022109</td>\n",
       "      <td>-0.016548</td>\n",
       "      <td>-0.016871</td>\n",
       "      <td>-0.027057</td>\n",
       "      <td>-0.075892</td>\n",
       "      <td>-0.005539</td>\n",
       "      <td>-0.057293</td>\n",
       "      <td>-0.026672</td>\n",
       "    </tr>\n",
       "    <tr>\n",
       "      <th>2025-03-03 20:00:00+00:00</th>\n",
       "      <td>0.005280</td>\n",
       "      <td>0.004064</td>\n",
       "      <td>0.005677</td>\n",
       "      <td>0.004088</td>\n",
       "      <td>0.016736</td>\n",
       "      <td>0.003016</td>\n",
       "      <td>0.001760</td>\n",
       "      <td>0.000507</td>\n",
       "      <td>0.045318</td>\n",
       "      <td>-0.003349</td>\n",
       "      <td>0.027509</td>\n",
       "      <td>-0.013039</td>\n",
       "    </tr>\n",
       "  </tbody>\n",
       "</table>\n",
       "<p>3425 rows × 12 columns</p>\n",
       "</div>"
      ],
      "text/plain": [
       "                               AAPL      AMZN      NFLX     GOOGL      TSLA  \\\n",
       "2023-03-16 13:00:00+00:00  0.007375  0.021261  0.031822  0.022967  0.019236   \n",
       "2023-03-16 14:00:00+00:00  0.007375  0.021261  0.031822  0.022967  0.019236   \n",
       "2023-03-16 15:00:00+00:00  0.002915  0.002304  0.002900 -0.001251  0.003536   \n",
       "2023-03-16 16:00:00+00:00  0.001227  0.002998 -0.003463  0.006860  0.002277   \n",
       "2023-03-16 17:00:00+00:00  0.003076 -0.000283 -0.005982  0.002142 -0.001190   \n",
       "...                             ...       ...       ...       ...       ...   \n",
       "2025-03-03 16:00:00+00:00  0.005597  0.002699  0.007337 -0.001880 -0.001555   \n",
       "2025-03-03 17:00:00+00:00 -0.006494 -0.008953 -0.015565 -0.009828 -0.043772   \n",
       "2025-03-03 18:00:00+00:00  0.000775 -0.000579  0.009048  0.002912  0.003539   \n",
       "2025-03-03 19:00:00+00:00 -0.017676 -0.014524 -0.016974 -0.014341 -0.022109   \n",
       "2025-03-03 20:00:00+00:00  0.005280  0.004064  0.005677  0.004088  0.016736   \n",
       "\n",
       "                               META   BTCUSDT   ETHUSDT   ADAUSDT   BNBUSDT  \\\n",
       "2023-03-16 13:00:00+00:00  0.023637  0.001393  0.001509  0.003690  0.047267   \n",
       "2023-03-16 14:00:00+00:00  0.023637  0.001393  0.001509  0.003690  0.047267   \n",
       "2023-03-16 15:00:00+00:00 -0.004122  0.001305  0.002332  0.003370  0.002456   \n",
       "2023-03-16 16:00:00+00:00 -0.001097 -0.004122 -0.001058 -0.003053  0.006738   \n",
       "2023-03-16 17:00:00+00:00 -0.008261 -0.004033 -0.003142 -0.007044 -0.000608   \n",
       "...                             ...       ...       ...       ...       ...   \n",
       "2025-03-03 16:00:00+00:00  0.001564  0.000964 -0.003992  0.013452  0.000724   \n",
       "2025-03-03 17:00:00+00:00 -0.011327 -0.002111 -0.000360 -0.002572 -0.000252   \n",
       "2025-03-03 18:00:00+00:00  0.003763 -0.033335 -0.039866 -0.068909 -0.025082   \n",
       "2025-03-03 19:00:00+00:00 -0.016548 -0.016871 -0.027057 -0.075892 -0.005539   \n",
       "2025-03-03 20:00:00+00:00  0.003016  0.001760  0.000507  0.045318 -0.003349   \n",
       "\n",
       "                            XRPUSDT   DOTUSDT  \n",
       "2023-03-16 13:00:00+00:00 -0.004484  0.004970  \n",
       "2023-03-16 14:00:00+00:00 -0.004484  0.004970  \n",
       "2023-03-16 15:00:00+00:00 -0.004484 -0.000989  \n",
       "2023-03-16 16:00:00+00:00 -0.004484  0.004290  \n",
       "2023-03-16 17:00:00+00:00 -0.004484 -0.006737  \n",
       "...                             ...       ...  \n",
       "2025-03-03 16:00:00+00:00  0.002076 -0.017633  \n",
       "2025-03-03 17:00:00+00:00 -0.003069  0.007840  \n",
       "2025-03-03 18:00:00+00:00 -0.042796 -0.048311  \n",
       "2025-03-03 19:00:00+00:00 -0.057293 -0.026672  \n",
       "2025-03-03 20:00:00+00:00  0.027509 -0.013039  \n",
       "\n",
       "[3425 rows x 12 columns]"
      ]
     },
     "execution_count": 52,
     "metadata": {},
     "output_type": "execute_result"
    }
   ],
   "source": [
    "retHourlyData =getHourlyData(cryptoHourData,magHourlyData,'2025-03-04')\n",
    "retHourlyData"
   ]
  },
  {
   "cell_type": "code",
   "execution_count": 53,
   "id": "76b79ba5-dcc1-4233-8cc7-f107dac55854",
   "metadata": {},
   "outputs": [
    {
     "name": "stderr",
     "output_type": "stream",
     "text": [
      "C:\\Users\\rohan\\AppData\\Local\\Temp\\ipykernel_12856\\1799754891.py:8: FutureWarning: The default fill_method='pad' in DataFrame.pct_change is deprecated and will be removed in a future version. Either fill in any non-leading NA values prior to calling pct_change or specify 'fill_method=None' to not fill NA values.\n",
      "  retHourlyDataAll=retHourlyDataALL.pct_change()\n",
      "C:\\Users\\rohan\\AppData\\Local\\Temp\\ipykernel_12856\\1799754891.py:10: FutureWarning: DataFrame.fillna with 'method' is deprecated and will raise in a future version. Use obj.ffill() or obj.bfill() instead.\n",
      "  retHourlyData=retHourlyData.fillna(method='ffill')\n",
      "C:\\Users\\rohan\\AppData\\Local\\Temp\\ipykernel_12856\\1799754891.py:11: FutureWarning: DataFrame.fillna with 'method' is deprecated and will raise in a future version. Use obj.ffill() or obj.bfill() instead.\n",
      "  retHourlyData=retHourlyData.fillna(method='bfill')\n"
     ]
    },
    {
     "data": {
      "text/plain": [
       "245"
      ]
     },
     "execution_count": 53,
     "metadata": {},
     "output_type": "execute_result"
    }
   ],
   "source": [
    "testRetHourlyData=getHourlyData(testCryptoHourData,testMagHourlyData,'2025-04-22')\n",
    "len(testRetHourlyData)"
   ]
  },
  {
   "cell_type": "code",
   "execution_count": 54,
   "id": "e627cba1-48e4-4a60-bcb7-372fd76aecb3",
   "metadata": {},
   "outputs": [],
   "source": [
    "def getStrategyRev(retHourlyData):\n",
    "    strat={}\n",
    "    to_reversal={}\n",
    "    tcost_bps = 20 \n",
    "    for i in range(1,8):\n",
    "        mean=  retHourlyData.rolling(i,min_periods=1).mean().rank(1)\n",
    "        #print(mean)\n",
    "        wt=( mean.subtract(mean.mean(1),0)).divide(mean.sum(1),0)\n",
    "        #print(wt)\n",
    "        to_reversal[i]=(wt.fillna(0)-wt.shift(1).fillna(0)).abs()*tcost_bps*1e-4\n",
    "        strat[i]=((wt.shift(1))*retHourlyData-to_reversal[i]).sum(1)\n",
    "    strat_reversal=pd.DataFrame(strat)\n",
    "    return strat_reversal,to_reversal"
   ]
  },
  {
   "cell_type": "code",
   "execution_count": 55,
   "id": "f9450e9a-30d3-4529-a129-e1acbc394471",
   "metadata": {},
   "outputs": [],
   "source": [
    "hourlySharp =lambda ret: ret.mean(0)/ret.std(0)*np.sqrt(252*7)"
   ]
  },
  {
   "cell_type": "code",
   "execution_count": 56,
   "id": "b08ea670-10e9-4634-b271-cec033aa690d",
   "metadata": {},
   "outputs": [
    {
     "data": {
      "text/plain": [
       "1   -18.002024\n",
       "2   -13.608801\n",
       "3   -11.199554\n",
       "4    -9.339843\n",
       "5    -7.596490\n",
       "6    -7.067054\n",
       "7    -5.533813\n",
       "dtype: float64"
      ]
     },
     "execution_count": 56,
     "metadata": {},
     "output_type": "execute_result"
    }
   ],
   "source": [
    "strat_reversal,to_reversal=getStrategyRev(retHourlyData)\n",
    "sharpForStrategy = hourlySharp(strat_reversal)\n",
    "hourlySharp(strat_reversal)"
   ]
  },
  {
   "cell_type": "code",
   "execution_count": 57,
   "id": "8cc5f8b7-bcaf-49a6-9e42-4a320c8625e8",
   "metadata": {},
   "outputs": [
    {
     "data": {
      "text/plain": [
       "1   -21.650280\n",
       "2   -15.261162\n",
       "3   -13.386667\n",
       "4   -11.458326\n",
       "5   -12.426165\n",
       "6   -11.996268\n",
       "7   -11.508344\n",
       "dtype: float64"
      ]
     },
     "execution_count": 57,
     "metadata": {},
     "output_type": "execute_result"
    }
   ],
   "source": [
    "#Test for hourly data  Reversal strategy\n",
    "strat_reversalTest,to_reversalTest=getStrategyRev(testRetHourlyData)\n",
    "hourlySharp(strat_reversalTest)"
   ]
  },
  {
   "cell_type": "code",
   "execution_count": 58,
   "id": "ec2470ea-2b61-4110-8a03-c785c183fa85",
   "metadata": {},
   "outputs": [
    {
     "data": {
      "text/html": [
       "<div>\n",
       "<style scoped>\n",
       "    .dataframe tbody tr th:only-of-type {\n",
       "        vertical-align: middle;\n",
       "    }\n",
       "\n",
       "    .dataframe tbody tr th {\n",
       "        vertical-align: top;\n",
       "    }\n",
       "\n",
       "    .dataframe thead th {\n",
       "        text-align: right;\n",
       "    }\n",
       "</style>\n",
       "<table border=\"1\" class=\"dataframe\">\n",
       "  <thead>\n",
       "    <tr style=\"text-align: right;\">\n",
       "      <th></th>\n",
       "      <th>AAPL</th>\n",
       "      <th>AMZN</th>\n",
       "      <th>NFLX</th>\n",
       "      <th>GOOGL</th>\n",
       "      <th>TSLA</th>\n",
       "      <th>META</th>\n",
       "      <th>BTCUSDT</th>\n",
       "      <th>ETHUSDT</th>\n",
       "      <th>ADAUSDT</th>\n",
       "      <th>BNBUSDT</th>\n",
       "      <th>XRPUSDT</th>\n",
       "      <th>DOTUSDT</th>\n",
       "    </tr>\n",
       "  </thead>\n",
       "  <tbody>\n",
       "    <tr>\n",
       "      <th>2025-03-03 14:00:00+00:00</th>\n",
       "      <td>-0.001222</td>\n",
       "      <td>-0.009494</td>\n",
       "      <td>-0.002387</td>\n",
       "      <td>-0.002928</td>\n",
       "      <td>-0.005936</td>\n",
       "      <td>-0.006535</td>\n",
       "      <td>0.011101</td>\n",
       "      <td>0.008035</td>\n",
       "      <td>0.018696</td>\n",
       "      <td>0.011491</td>\n",
       "      <td>0.015659</td>\n",
       "      <td>0.014391</td>\n",
       "    </tr>\n",
       "    <tr>\n",
       "      <th>2025-03-03 15:00:00+00:00</th>\n",
       "      <td>-0.001222</td>\n",
       "      <td>-0.009494</td>\n",
       "      <td>-0.002387</td>\n",
       "      <td>-0.002928</td>\n",
       "      <td>-0.005936</td>\n",
       "      <td>-0.006535</td>\n",
       "      <td>0.011101</td>\n",
       "      <td>0.008035</td>\n",
       "      <td>0.018696</td>\n",
       "      <td>0.011491</td>\n",
       "      <td>0.015659</td>\n",
       "      <td>0.014391</td>\n",
       "    </tr>\n",
       "    <tr>\n",
       "      <th>2025-03-03 16:00:00+00:00</th>\n",
       "      <td>0.005597</td>\n",
       "      <td>0.002699</td>\n",
       "      <td>0.007337</td>\n",
       "      <td>-0.001880</td>\n",
       "      <td>-0.001555</td>\n",
       "      <td>0.001564</td>\n",
       "      <td>0.000964</td>\n",
       "      <td>-0.003992</td>\n",
       "      <td>0.013452</td>\n",
       "      <td>0.000724</td>\n",
       "      <td>0.002076</td>\n",
       "      <td>-0.017633</td>\n",
       "    </tr>\n",
       "    <tr>\n",
       "      <th>2025-03-03 17:00:00+00:00</th>\n",
       "      <td>-0.006494</td>\n",
       "      <td>-0.008953</td>\n",
       "      <td>-0.015565</td>\n",
       "      <td>-0.009828</td>\n",
       "      <td>-0.043772</td>\n",
       "      <td>-0.011327</td>\n",
       "      <td>-0.002111</td>\n",
       "      <td>-0.000360</td>\n",
       "      <td>-0.002572</td>\n",
       "      <td>-0.000252</td>\n",
       "      <td>-0.003069</td>\n",
       "      <td>0.007840</td>\n",
       "    </tr>\n",
       "    <tr>\n",
       "      <th>2025-03-03 18:00:00+00:00</th>\n",
       "      <td>0.000775</td>\n",
       "      <td>-0.000579</td>\n",
       "      <td>0.009048</td>\n",
       "      <td>0.002912</td>\n",
       "      <td>0.003539</td>\n",
       "      <td>0.003763</td>\n",
       "      <td>-0.033335</td>\n",
       "      <td>-0.039866</td>\n",
       "      <td>-0.068909</td>\n",
       "      <td>-0.025082</td>\n",
       "      <td>-0.042796</td>\n",
       "      <td>-0.048311</td>\n",
       "    </tr>\n",
       "    <tr>\n",
       "      <th>...</th>\n",
       "      <td>...</td>\n",
       "      <td>...</td>\n",
       "      <td>...</td>\n",
       "      <td>...</td>\n",
       "      <td>...</td>\n",
       "      <td>...</td>\n",
       "      <td>...</td>\n",
       "      <td>...</td>\n",
       "      <td>...</td>\n",
       "      <td>...</td>\n",
       "      <td>...</td>\n",
       "      <td>...</td>\n",
       "    </tr>\n",
       "    <tr>\n",
       "      <th>2025-04-21 15:00:00+00:00</th>\n",
       "      <td>0.002071</td>\n",
       "      <td>-0.001739</td>\n",
       "      <td>-0.012772</td>\n",
       "      <td>-0.001498</td>\n",
       "      <td>0.000378</td>\n",
       "      <td>-0.003666</td>\n",
       "      <td>-0.000730</td>\n",
       "      <td>-0.005825</td>\n",
       "      <td>-0.013669</td>\n",
       "      <td>-0.001092</td>\n",
       "      <td>-0.002549</td>\n",
       "      <td>-0.014959</td>\n",
       "    </tr>\n",
       "    <tr>\n",
       "      <th>2025-04-21 16:00:00+00:00</th>\n",
       "      <td>-0.002700</td>\n",
       "      <td>-0.005344</td>\n",
       "      <td>-0.008398</td>\n",
       "      <td>-0.002111</td>\n",
       "      <td>-0.006049</td>\n",
       "      <td>0.002384</td>\n",
       "      <td>-0.011297</td>\n",
       "      <td>-0.021385</td>\n",
       "      <td>-0.018110</td>\n",
       "      <td>-0.007838</td>\n",
       "      <td>-0.013630</td>\n",
       "      <td>-0.015187</td>\n",
       "    </tr>\n",
       "    <tr>\n",
       "      <th>2025-04-21 17:00:00+00:00</th>\n",
       "      <td>0.001081</td>\n",
       "      <td>0.001745</td>\n",
       "      <td>0.005033</td>\n",
       "      <td>0.002253</td>\n",
       "      <td>0.004310</td>\n",
       "      <td>0.001427</td>\n",
       "      <td>-0.003378</td>\n",
       "      <td>-0.007989</td>\n",
       "      <td>-0.003368</td>\n",
       "      <td>-0.005378</td>\n",
       "      <td>-0.006717</td>\n",
       "      <td>0.003398</td>\n",
       "    </tr>\n",
       "    <tr>\n",
       "      <th>2025-04-21 18:00:00+00:00</th>\n",
       "      <td>0.001493</td>\n",
       "      <td>-0.000446</td>\n",
       "      <td>0.000734</td>\n",
       "      <td>-0.000877</td>\n",
       "      <td>0.000654</td>\n",
       "      <td>-0.001281</td>\n",
       "      <td>0.000303</td>\n",
       "      <td>-0.004455</td>\n",
       "      <td>-0.002575</td>\n",
       "      <td>0.002384</td>\n",
       "      <td>0.002174</td>\n",
       "      <td>-0.004428</td>\n",
       "    </tr>\n",
       "    <tr>\n",
       "      <th>2025-04-21 19:00:00+00:00</th>\n",
       "      <td>0.010387</td>\n",
       "      <td>0.008773</td>\n",
       "      <td>0.002281</td>\n",
       "      <td>0.006741</td>\n",
       "      <td>0.012824</td>\n",
       "      <td>0.001820</td>\n",
       "      <td>0.007488</td>\n",
       "      <td>0.003340</td>\n",
       "      <td>0.005002</td>\n",
       "      <td>0.002412</td>\n",
       "      <td>0.007519</td>\n",
       "      <td>0.003401</td>\n",
       "    </tr>\n",
       "  </tbody>\n",
       "</table>\n",
       "<p>245 rows × 12 columns</p>\n",
       "</div>"
      ],
      "text/plain": [
       "                               AAPL      AMZN      NFLX     GOOGL      TSLA  \\\n",
       "2025-03-03 14:00:00+00:00 -0.001222 -0.009494 -0.002387 -0.002928 -0.005936   \n",
       "2025-03-03 15:00:00+00:00 -0.001222 -0.009494 -0.002387 -0.002928 -0.005936   \n",
       "2025-03-03 16:00:00+00:00  0.005597  0.002699  0.007337 -0.001880 -0.001555   \n",
       "2025-03-03 17:00:00+00:00 -0.006494 -0.008953 -0.015565 -0.009828 -0.043772   \n",
       "2025-03-03 18:00:00+00:00  0.000775 -0.000579  0.009048  0.002912  0.003539   \n",
       "...                             ...       ...       ...       ...       ...   \n",
       "2025-04-21 15:00:00+00:00  0.002071 -0.001739 -0.012772 -0.001498  0.000378   \n",
       "2025-04-21 16:00:00+00:00 -0.002700 -0.005344 -0.008398 -0.002111 -0.006049   \n",
       "2025-04-21 17:00:00+00:00  0.001081  0.001745  0.005033  0.002253  0.004310   \n",
       "2025-04-21 18:00:00+00:00  0.001493 -0.000446  0.000734 -0.000877  0.000654   \n",
       "2025-04-21 19:00:00+00:00  0.010387  0.008773  0.002281  0.006741  0.012824   \n",
       "\n",
       "                               META   BTCUSDT   ETHUSDT   ADAUSDT   BNBUSDT  \\\n",
       "2025-03-03 14:00:00+00:00 -0.006535  0.011101  0.008035  0.018696  0.011491   \n",
       "2025-03-03 15:00:00+00:00 -0.006535  0.011101  0.008035  0.018696  0.011491   \n",
       "2025-03-03 16:00:00+00:00  0.001564  0.000964 -0.003992  0.013452  0.000724   \n",
       "2025-03-03 17:00:00+00:00 -0.011327 -0.002111 -0.000360 -0.002572 -0.000252   \n",
       "2025-03-03 18:00:00+00:00  0.003763 -0.033335 -0.039866 -0.068909 -0.025082   \n",
       "...                             ...       ...       ...       ...       ...   \n",
       "2025-04-21 15:00:00+00:00 -0.003666 -0.000730 -0.005825 -0.013669 -0.001092   \n",
       "2025-04-21 16:00:00+00:00  0.002384 -0.011297 -0.021385 -0.018110 -0.007838   \n",
       "2025-04-21 17:00:00+00:00  0.001427 -0.003378 -0.007989 -0.003368 -0.005378   \n",
       "2025-04-21 18:00:00+00:00 -0.001281  0.000303 -0.004455 -0.002575  0.002384   \n",
       "2025-04-21 19:00:00+00:00  0.001820  0.007488  0.003340  0.005002  0.002412   \n",
       "\n",
       "                            XRPUSDT   DOTUSDT  \n",
       "2025-03-03 14:00:00+00:00  0.015659  0.014391  \n",
       "2025-03-03 15:00:00+00:00  0.015659  0.014391  \n",
       "2025-03-03 16:00:00+00:00  0.002076 -0.017633  \n",
       "2025-03-03 17:00:00+00:00 -0.003069  0.007840  \n",
       "2025-03-03 18:00:00+00:00 -0.042796 -0.048311  \n",
       "...                             ...       ...  \n",
       "2025-04-21 15:00:00+00:00 -0.002549 -0.014959  \n",
       "2025-04-21 16:00:00+00:00 -0.013630 -0.015187  \n",
       "2025-04-21 17:00:00+00:00 -0.006717  0.003398  \n",
       "2025-04-21 18:00:00+00:00  0.002174 -0.004428  \n",
       "2025-04-21 19:00:00+00:00  0.007519  0.003401  \n",
       "\n",
       "[245 rows x 12 columns]"
      ]
     },
     "execution_count": 58,
     "metadata": {},
     "output_type": "execute_result"
    }
   ],
   "source": [
    "testRetHourlyData"
   ]
  },
  {
   "cell_type": "markdown",
   "id": "cdd5ab0c-63ef-4243-91d3-668bbb767456",
   "metadata": {},
   "source": [
    "---Giving weigths to different strategies"
   ]
  },
  {
   "cell_type": "raw",
   "id": "53a0aac9-2a5f-4778-ae17-23883e558216",
   "metadata": {},
   "source": [
    "Trying all timeframes----"
   ]
  },
  {
   "cell_type": "code",
   "execution_count": 59,
   "id": "3ece0eb8-aae5-45a4-b0c2-3dcbce8206ff",
   "metadata": {},
   "outputs": [],
   "source": [
    "#momentum_daily=strat_ret.sum(1)"
   ]
  },
  {
   "cell_type": "code",
   "execution_count": 60,
   "id": "519bb430-57cc-4388-af73-f8c266fe6954",
   "metadata": {},
   "outputs": [
    {
     "data": {
      "text/html": [
       "<div>\n",
       "<style scoped>\n",
       "    .dataframe tbody tr th:only-of-type {\n",
       "        vertical-align: middle;\n",
       "    }\n",
       "\n",
       "    .dataframe tbody tr th {\n",
       "        vertical-align: top;\n",
       "    }\n",
       "\n",
       "    .dataframe thead th {\n",
       "        text-align: right;\n",
       "    }\n",
       "</style>\n",
       "<table border=\"1\" class=\"dataframe\">\n",
       "  <thead>\n",
       "    <tr style=\"text-align: right;\">\n",
       "      <th></th>\n",
       "      <th>AAPL</th>\n",
       "      <th>ADAUSDT</th>\n",
       "      <th>AMZN</th>\n",
       "      <th>BNBUSDT</th>\n",
       "      <th>BTCUSDT</th>\n",
       "      <th>DOTUSDT</th>\n",
       "      <th>ETHUSDT</th>\n",
       "      <th>GOOGL</th>\n",
       "      <th>META</th>\n",
       "      <th>NFLX</th>\n",
       "      <th>TSLA</th>\n",
       "      <th>XRPUSDT</th>\n",
       "    </tr>\n",
       "  </thead>\n",
       "  <tbody>\n",
       "    <tr>\n",
       "      <th>2020-01-01</th>\n",
       "      <td>NaN</td>\n",
       "      <td>NaN</td>\n",
       "      <td>NaN</td>\n",
       "      <td>NaN</td>\n",
       "      <td>NaN</td>\n",
       "      <td>NaN</td>\n",
       "      <td>NaN</td>\n",
       "      <td>NaN</td>\n",
       "      <td>NaN</td>\n",
       "      <td>NaN</td>\n",
       "      <td>NaN</td>\n",
       "      <td>NaN</td>\n",
       "    </tr>\n",
       "    <tr>\n",
       "      <th>2020-01-02</th>\n",
       "      <td>NaN</td>\n",
       "      <td>NaN</td>\n",
       "      <td>NaN</td>\n",
       "      <td>NaN</td>\n",
       "      <td>NaN</td>\n",
       "      <td>NaN</td>\n",
       "      <td>NaN</td>\n",
       "      <td>NaN</td>\n",
       "      <td>NaN</td>\n",
       "      <td>NaN</td>\n",
       "      <td>NaN</td>\n",
       "      <td>NaN</td>\n",
       "    </tr>\n",
       "    <tr>\n",
       "      <th>2020-01-03</th>\n",
       "      <td>NaN</td>\n",
       "      <td>NaN</td>\n",
       "      <td>NaN</td>\n",
       "      <td>NaN</td>\n",
       "      <td>NaN</td>\n",
       "      <td>NaN</td>\n",
       "      <td>NaN</td>\n",
       "      <td>NaN</td>\n",
       "      <td>NaN</td>\n",
       "      <td>NaN</td>\n",
       "      <td>NaN</td>\n",
       "      <td>NaN</td>\n",
       "    </tr>\n",
       "    <tr>\n",
       "      <th>2020-01-04</th>\n",
       "      <td>-0.001035</td>\n",
       "      <td>NaN</td>\n",
       "      <td>-0.001035</td>\n",
       "      <td>NaN</td>\n",
       "      <td>NaN</td>\n",
       "      <td>NaN</td>\n",
       "      <td>NaN</td>\n",
       "      <td>-0.001035</td>\n",
       "      <td>NaN</td>\n",
       "      <td>-0.001035</td>\n",
       "      <td>0.001035</td>\n",
       "      <td>NaN</td>\n",
       "    </tr>\n",
       "    <tr>\n",
       "      <th>2020-01-05</th>\n",
       "      <td>-0.001390</td>\n",
       "      <td>NaN</td>\n",
       "      <td>-0.001390</td>\n",
       "      <td>NaN</td>\n",
       "      <td>NaN</td>\n",
       "      <td>NaN</td>\n",
       "      <td>NaN</td>\n",
       "      <td>-0.001390</td>\n",
       "      <td>NaN</td>\n",
       "      <td>-0.001390</td>\n",
       "      <td>0.001390</td>\n",
       "      <td>NaN</td>\n",
       "    </tr>\n",
       "    <tr>\n",
       "      <th>...</th>\n",
       "      <td>...</td>\n",
       "      <td>...</td>\n",
       "      <td>...</td>\n",
       "      <td>...</td>\n",
       "      <td>...</td>\n",
       "      <td>...</td>\n",
       "      <td>...</td>\n",
       "      <td>...</td>\n",
       "      <td>...</td>\n",
       "      <td>...</td>\n",
       "      <td>...</td>\n",
       "      <td>...</td>\n",
       "    </tr>\n",
       "    <tr>\n",
       "      <th>2025-02-25</th>\n",
       "      <td>-0.000006</td>\n",
       "      <td>-0.000967</td>\n",
       "      <td>0.000067</td>\n",
       "      <td>NaN</td>\n",
       "      <td>NaN</td>\n",
       "      <td>NaN</td>\n",
       "      <td>NaN</td>\n",
       "      <td>-0.000212</td>\n",
       "      <td>-0.006149</td>\n",
       "      <td>-0.000882</td>\n",
       "      <td>-0.006118</td>\n",
       "      <td>0.000098</td>\n",
       "    </tr>\n",
       "    <tr>\n",
       "      <th>2025-02-26</th>\n",
       "      <td>0.000014</td>\n",
       "      <td>-0.000918</td>\n",
       "      <td>-0.000026</td>\n",
       "      <td>NaN</td>\n",
       "      <td>NaN</td>\n",
       "      <td>NaN</td>\n",
       "      <td>NaN</td>\n",
       "      <td>-0.001632</td>\n",
       "      <td>0.006087</td>\n",
       "      <td>0.002011</td>\n",
       "      <td>-0.010084</td>\n",
       "      <td>0.000096</td>\n",
       "    </tr>\n",
       "    <tr>\n",
       "      <th>2025-02-27</th>\n",
       "      <td>-0.001679</td>\n",
       "      <td>-0.000560</td>\n",
       "      <td>0.000407</td>\n",
       "      <td>NaN</td>\n",
       "      <td>NaN</td>\n",
       "      <td>NaN</td>\n",
       "      <td>NaN</td>\n",
       "      <td>-0.001264</td>\n",
       "      <td>0.005535</td>\n",
       "      <td>0.001741</td>\n",
       "      <td>-0.002637</td>\n",
       "      <td>0.000072</td>\n",
       "    </tr>\n",
       "    <tr>\n",
       "      <th>2025-02-28</th>\n",
       "      <td>0.001377</td>\n",
       "      <td>-0.000540</td>\n",
       "      <td>0.001344</td>\n",
       "      <td>NaN</td>\n",
       "      <td>NaN</td>\n",
       "      <td>NaN</td>\n",
       "      <td>NaN</td>\n",
       "      <td>0.000868</td>\n",
       "      <td>0.002898</td>\n",
       "      <td>0.003213</td>\n",
       "      <td>0.002279</td>\n",
       "      <td>0.000063</td>\n",
       "    </tr>\n",
       "    <tr>\n",
       "      <th>2025-03-03</th>\n",
       "      <td>0.000062</td>\n",
       "      <td>-0.000585</td>\n",
       "      <td>0.000116</td>\n",
       "      <td>NaN</td>\n",
       "      <td>NaN</td>\n",
       "      <td>NaN</td>\n",
       "      <td>NaN</td>\n",
       "      <td>0.000066</td>\n",
       "      <td>-0.000025</td>\n",
       "      <td>0.000204</td>\n",
       "      <td>-0.000961</td>\n",
       "      <td>0.000082</td>\n",
       "    </tr>\n",
       "  </tbody>\n",
       "</table>\n",
       "<p>1883 rows × 12 columns</p>\n",
       "</div>"
      ],
      "text/plain": [
       "                AAPL   ADAUSDT      AMZN  BNBUSDT  BTCUSDT  DOTUSDT  ETHUSDT  \\\n",
       "2020-01-01       NaN       NaN       NaN      NaN      NaN      NaN      NaN   \n",
       "2020-01-02       NaN       NaN       NaN      NaN      NaN      NaN      NaN   \n",
       "2020-01-03       NaN       NaN       NaN      NaN      NaN      NaN      NaN   \n",
       "2020-01-04 -0.001035       NaN -0.001035      NaN      NaN      NaN      NaN   \n",
       "2020-01-05 -0.001390       NaN -0.001390      NaN      NaN      NaN      NaN   \n",
       "...              ...       ...       ...      ...      ...      ...      ...   \n",
       "2025-02-25 -0.000006 -0.000967  0.000067      NaN      NaN      NaN      NaN   \n",
       "2025-02-26  0.000014 -0.000918 -0.000026      NaN      NaN      NaN      NaN   \n",
       "2025-02-27 -0.001679 -0.000560  0.000407      NaN      NaN      NaN      NaN   \n",
       "2025-02-28  0.001377 -0.000540  0.001344      NaN      NaN      NaN      NaN   \n",
       "2025-03-03  0.000062 -0.000585  0.000116      NaN      NaN      NaN      NaN   \n",
       "\n",
       "               GOOGL      META      NFLX      TSLA   XRPUSDT  \n",
       "2020-01-01       NaN       NaN       NaN       NaN       NaN  \n",
       "2020-01-02       NaN       NaN       NaN       NaN       NaN  \n",
       "2020-01-03       NaN       NaN       NaN       NaN       NaN  \n",
       "2020-01-04 -0.001035       NaN -0.001035  0.001035       NaN  \n",
       "2020-01-05 -0.001390       NaN -0.001390  0.001390       NaN  \n",
       "...              ...       ...       ...       ...       ...  \n",
       "2025-02-25 -0.000212 -0.006149 -0.000882 -0.006118  0.000098  \n",
       "2025-02-26 -0.001632  0.006087  0.002011 -0.010084  0.000096  \n",
       "2025-02-27 -0.001264  0.005535  0.001741 -0.002637  0.000072  \n",
       "2025-02-28  0.000868  0.002898  0.003213  0.002279  0.000063  \n",
       "2025-03-03  0.000066 -0.000025  0.000204 -0.000961  0.000082  \n",
       "\n",
       "[1883 rows x 12 columns]"
      ]
     },
     "execution_count": 60,
     "metadata": {},
     "output_type": "execute_result"
    }
   ],
   "source": [
    "momentumRet"
   ]
  },
  {
   "cell_type": "code",
   "execution_count": 61,
   "id": "0bc617bd-8141-426a-93ee-1d8c2e848fcc",
   "metadata": {},
   "outputs": [],
   "source": [
    "momentum_wt_data=findRollingParams(portFolioRetAfterMomentum)\n",
    "momentum_wt_dataTest=findRollingParams(strat_retForTest)"
   ]
  },
  {
   "cell_type": "code",
   "execution_count": 62,
   "id": "0fcdc46d-195f-4ab7-b511-ffb11169e487",
   "metadata": {},
   "outputs": [],
   "source": [
    "reversal_wt_data=findRollingParams(strat_reversal)\n",
    "reversal_wt_dataTest=findRollingParams(strat_reversalTest)\n"
   ]
  },
  {
   "cell_type": "code",
   "execution_count": 63,
   "id": "dacb3c52-724f-461e-8de7-0f16102bd444",
   "metadata": {},
   "outputs": [],
   "source": [
    "reversal_wt_data_ret=reversal_wt_data[\"ret\"]\n",
    "reversal_wt_data_vol=reversal_wt_data[\"volatility\"]\n",
    "reversal_wt_data_retTest=reversal_wt_dataTest[\"ret\"]\n",
    "reversal_wt_data_volTest=reversal_wt_dataTest[\"volatility\"]"
   ]
  },
  {
   "cell_type": "code",
   "execution_count": 64,
   "id": "a7cf3445-4f40-48cb-b9ba-14058986b0f7",
   "metadata": {},
   "outputs": [],
   "source": [
    "momentum_daily=portFolioRetAfterMomentum\n",
    "momentum_dailyTest=strat_retForTest.sum(1)\n"
   ]
  },
  {
   "cell_type": "code",
   "execution_count": 65,
   "id": "176b339d-4158-4fa1-99a9-9705c957477b",
   "metadata": {},
   "outputs": [
    {
     "data": {
      "text/plain": [
       "<Axes: >"
      ]
     },
     "execution_count": 65,
     "metadata": {},
     "output_type": "execute_result"
    },
    {
     "data": {
      "image/png": "[encoded data removed]",
      "text/plain": [
       "<Figure size 640x480 with 1 Axes>"
      ]
     },
     "metadata": {},
     "output_type": "display_data"
    }
   ],
   "source": [
    "drawdown(momentum_daily).plot()"
   ]
  },
  {
   "cell_type": "code",
   "execution_count": 66,
   "id": "6869d56a-a54b-4def-8348-da62e93e126f",
   "metadata": {},
   "outputs": [
    {
     "data": {
      "text/plain": [
       "<Axes: >"
      ]
     },
     "execution_count": 66,
     "metadata": {},
     "output_type": "execute_result"
    },
    {
     "data": {
      "image/png": "[encoded data removed]",
      "text/plain": [
       "<Figure size 640x480 with 1 Axes>"
      ]
     },
     "metadata": {},
     "output_type": "display_data"
    }
   ],
   "source": [
    "drawdown(momentum_dailyTest).plot()"
   ]
  },
  {
   "cell_type": "code",
   "execution_count": 67,
   "id": "d2415e21-c7d6-4bfb-8621-9aebb194c2ea",
   "metadata": {},
   "outputs": [],
   "source": [
    "#momentum_daily.index=pd.to_datetime(momentum_daily.index.date)"
   ]
  },
  {
   "cell_type": "code",
   "execution_count": 68,
   "id": "29fefe65-62ff-4f60-8a6a-a07025eab725",
   "metadata": {},
   "outputs": [],
   "source": [
    "#strat_reversal.index=pd.to_datetime(strat_reversal.index.date)"
   ]
  },
  {
   "cell_type": "code",
   "execution_count": 69,
   "id": "d60ef0d2-9efe-4fae-ad01-734f0f001b84",
   "metadata": {},
   "outputs": [],
   "source": [
    "#common_index=strat_reversal.index.intersection(momentum_daily.index)"
   ]
  },
  {
   "cell_type": "code",
   "execution_count": 70,
   "id": "f88bda3a-0a83-41cf-8345-1230579a8a84",
   "metadata": {},
   "outputs": [],
   "source": [
    "#momentum_daily=momentum_daily.loc[common_index]"
   ]
  },
  {
   "cell_type": "code",
   "execution_count": 71,
   "id": "9ed80b5e-fde3-46ac-a24b-23943e04560a",
   "metadata": {},
   "outputs": [],
   "source": [
    "#momentum_cov={}\n",
    "#for i in strat_reversal.columns:\n",
    " #  momentum_cov[i]=momentum_daily.cov(strat_reversal[i])\n",
    "\n",
    "    "
   ]
  },
  {
   "cell_type": "code",
   "execution_count": 72,
   "id": "fb92e3c2-29a9-4ed7-969d-338d9ef58cf9",
   "metadata": {},
   "outputs": [],
   "source": [
    "#reversal_cov=strat_reversal.cov()"
   ]
  },
  {
   "cell_type": "code",
   "execution_count": 73,
   "id": "63da7fb1-4676-4381-95e0-b14f4c29769c",
   "metadata": {},
   "outputs": [],
   "source": [
    "#reversal_cov"
   ]
  },
  {
   "cell_type": "code",
   "execution_count": 74,
   "id": "82427dab-5978-468f-9460-9ee5a3727b26",
   "metadata": {},
   "outputs": [],
   "source": [
    "#momentum_cov"
   ]
  },
  {
   "cell_type": "code",
   "execution_count": null,
   "id": "1dd25887-35af-4583-83a4-f4c5b40bc3fd",
   "metadata": {},
   "outputs": [],
   "source": []
  },
  {
   "cell_type": "code",
   "execution_count": 75,
   "id": "6e748146-2733-4439-9175-bd41c57bf334",
   "metadata": {},
   "outputs": [],
   "source": [
    "def createMatrixMuForOptimumAllHourly(portFolioRetAfterMomentum,strat_reversal):\n",
    "    matrix=[]\n",
    "    portFolioRetAfterMomentum.index=pd.to_datetime(portFolioRetAfterMomentum.index.date)\n",
    "    strat_reversal.index=pd.to_datetime(strat_reversal.index.date)\n",
    "    common_index=strat_reversal.index.intersection(portFolioRetAfterMomentum.index)\n",
    "    portFolioRetAfterMomentum=portFolioRetAfterMomentum.loc[common_index]\n",
    "    reversal_wt_data=findRollingParams(strat_reversal)\n",
    "    momentum_wt_data=findRollingParams(portFolioRetAfterMomentum)\n",
    "    reversal_wt_data_vol=reversal_wt_data[\"volatility\"]\n",
    "\n",
    "    reversal_wt_data_ret=reversal_wt_data[\"ret\"]\n",
    "    momentum_wt_data_ret=momentum_wt_data[\"ret\"]\n",
    "    momentum_wt_data_vol=momentum_wt_data[\"volatility\"]\n",
    "    momentum_wt_data_vol.name=\"momentum\"\n",
    "    momentum_wt_data_ret.name=\"momentum\"\n",
    "\n",
    "    \n",
    "\n",
    "    mu=reversal_wt_data_ret\n",
    "    mu=mu.merge(momentum_wt_data_ret , left_index=True, right_index=True )\n",
    "    #mu=mu.fillna(0).values.reshape(-1,1)\n",
    "    matrix=reversal_wt_data_vol.merge(momentum_wt_data_vol  ,left_index=True, right_index=True )\n",
    "    #matrix=matrix.fillna(0).values.reshape(-1,1)\n",
    "\n",
    "    return matrix,mu"
   ]
  },
  {
   "cell_type": "code",
   "execution_count": 76,
   "id": "00c67071-9106-4786-b1dc-e60ea2dd8153",
   "metadata": {},
   "outputs": [],
   "source": [
    "matrix,mu =createMatrixMuForOptimumAllHourly(momentum_daily,strat_reversal)\n",
    "matrixTest,muTest =createMatrixMuForOptimumAllHourly(momentum_dailyTest,strat_reversalTest)"
   ]
  },
  {
   "cell_type": "code",
   "execution_count": null,
   "id": "4d9c0f94-4e15-4331-9bbb-48dffeb87f95",
   "metadata": {},
   "outputs": [],
   "source": []
  },
  {
   "cell_type": "code",
   "execution_count": 77,
   "id": "7018969e-13f7-4b17-9492-b78338b1a3d4",
   "metadata": {},
   "outputs": [
    {
     "data": {
      "text/plain": [
       "245"
      ]
     },
     "execution_count": 77,
     "metadata": {},
     "output_type": "execute_result"
    }
   ],
   "source": [
    "len(strat_reversalTest)"
   ]
  },
  {
   "cell_type": "code",
   "execution_count": 78,
   "id": "194a843e-0ec5-4fff-bef5-02eb8470a620",
   "metadata": {},
   "outputs": [
    {
     "data": {
      "text/plain": [
       "2020-01-01    0.000000\n",
       "2020-01-02    0.000000\n",
       "2020-01-03    0.000000\n",
       "2020-01-04   -0.003104\n",
       "2020-01-05   -0.004171\n",
       "                ...   \n",
       "2025-02-25   -0.014170\n",
       "2025-02-26   -0.004451\n",
       "2025-02-27    0.001615\n",
       "2025-02-28    0.011502\n",
       "2025-03-03   -0.001039\n",
       "Length: 1883, dtype: float64"
      ]
     },
     "execution_count": 78,
     "metadata": {},
     "output_type": "execute_result"
    }
   ],
   "source": [
    "momentum_wt_data[\"ret\"]"
   ]
  },
  {
   "cell_type": "code",
   "execution_count": 79,
   "id": "00753cea-a24f-4d36-835d-6326117cf3e0",
   "metadata": {},
   "outputs": [],
   "source": [
    "reversalFilter=[1,2,3,4,5,6,7]"
   ]
  },
  {
   "cell_type": "code",
   "execution_count": 80,
   "id": "7f9a750d-91ef-4087-b7a1-09bef5d3bee5",
   "metadata": {},
   "outputs": [],
   "source": [
    "final_wtRev=getOptimalWts(matrix[reversalFilter],mu[reversalFilter]).fillna(0)\n",
    "final_wtRevTest=getOptimalWts(matrixTest[reversalFilter],muTest[reversalFilter]).fillna(0)\n"
   ]
  },
  {
   "cell_type": "code",
   "execution_count": 81,
   "id": "688804cc-004d-40a0-8f49-90277c3809f2",
   "metadata": {},
   "outputs": [
    {
     "data": {
      "text/html": [
       "<div>\n",
       "<style scoped>\n",
       "    .dataframe tbody tr th:only-of-type {\n",
       "        vertical-align: middle;\n",
       "    }\n",
       "\n",
       "    .dataframe tbody tr th {\n",
       "        vertical-align: top;\n",
       "    }\n",
       "\n",
       "    .dataframe thead th {\n",
       "        text-align: right;\n",
       "    }\n",
       "</style>\n",
       "<table border=\"1\" class=\"dataframe\">\n",
       "  <thead>\n",
       "    <tr style=\"text-align: right;\">\n",
       "      <th></th>\n",
       "      <th>1</th>\n",
       "      <th>2</th>\n",
       "      <th>3</th>\n",
       "      <th>4</th>\n",
       "      <th>5</th>\n",
       "      <th>6</th>\n",
       "      <th>7</th>\n",
       "      <th>momentum</th>\n",
       "    </tr>\n",
       "  </thead>\n",
       "  <tbody>\n",
       "    <tr>\n",
       "      <th>2023-03-16</th>\n",
       "      <td>NaN</td>\n",
       "      <td>NaN</td>\n",
       "      <td>NaN</td>\n",
       "      <td>NaN</td>\n",
       "      <td>NaN</td>\n",
       "      <td>NaN</td>\n",
       "      <td>NaN</td>\n",
       "      <td>NaN</td>\n",
       "    </tr>\n",
       "    <tr>\n",
       "      <th>2023-03-16</th>\n",
       "      <td>0.000822</td>\n",
       "      <td>0.000822</td>\n",
       "      <td>0.000822</td>\n",
       "      <td>0.000822</td>\n",
       "      <td>0.000822</td>\n",
       "      <td>0.000822</td>\n",
       "      <td>0.000822</td>\n",
       "      <td>NaN</td>\n",
       "    </tr>\n",
       "    <tr>\n",
       "      <th>2023-03-16</th>\n",
       "      <td>0.000629</td>\n",
       "      <td>0.000552</td>\n",
       "      <td>0.000544</td>\n",
       "      <td>0.000544</td>\n",
       "      <td>0.000544</td>\n",
       "      <td>0.000544</td>\n",
       "      <td>0.000544</td>\n",
       "      <td>NaN</td>\n",
       "    </tr>\n",
       "    <tr>\n",
       "      <th>2023-03-16</th>\n",
       "      <td>0.000503</td>\n",
       "      <td>0.000398</td>\n",
       "      <td>0.000380</td>\n",
       "      <td>0.000380</td>\n",
       "      <td>0.000380</td>\n",
       "      <td>0.000380</td>\n",
       "      <td>0.000380</td>\n",
       "      <td>NaN</td>\n",
       "    </tr>\n",
       "    <tr>\n",
       "      <th>2023-03-16</th>\n",
       "      <td>0.000384</td>\n",
       "      <td>0.000306</td>\n",
       "      <td>0.000311</td>\n",
       "      <td>0.000301</td>\n",
       "      <td>0.000299</td>\n",
       "      <td>0.000299</td>\n",
       "      <td>0.000299</td>\n",
       "      <td>NaN</td>\n",
       "    </tr>\n",
       "    <tr>\n",
       "      <th>...</th>\n",
       "      <td>...</td>\n",
       "      <td>...</td>\n",
       "      <td>...</td>\n",
       "      <td>...</td>\n",
       "      <td>...</td>\n",
       "      <td>...</td>\n",
       "      <td>...</td>\n",
       "      <td>...</td>\n",
       "    </tr>\n",
       "    <tr>\n",
       "      <th>2025-03-03</th>\n",
       "      <td>0.002713</td>\n",
       "      <td>0.001409</td>\n",
       "      <td>0.001232</td>\n",
       "      <td>0.001594</td>\n",
       "      <td>0.000703</td>\n",
       "      <td>0.001518</td>\n",
       "      <td>0.000549</td>\n",
       "      <td>0.002266</td>\n",
       "    </tr>\n",
       "    <tr>\n",
       "      <th>2025-03-03</th>\n",
       "      <td>0.002709</td>\n",
       "      <td>0.001435</td>\n",
       "      <td>0.001242</td>\n",
       "      <td>0.001605</td>\n",
       "      <td>0.000701</td>\n",
       "      <td>0.001504</td>\n",
       "      <td>0.000542</td>\n",
       "      <td>0.002266</td>\n",
       "    </tr>\n",
       "    <tr>\n",
       "      <th>2025-03-03</th>\n",
       "      <td>0.002801</td>\n",
       "      <td>0.001472</td>\n",
       "      <td>0.001362</td>\n",
       "      <td>0.001725</td>\n",
       "      <td>0.000822</td>\n",
       "      <td>0.001662</td>\n",
       "      <td>0.000667</td>\n",
       "      <td>0.002266</td>\n",
       "    </tr>\n",
       "    <tr>\n",
       "      <th>2025-03-03</th>\n",
       "      <td>0.002876</td>\n",
       "      <td>0.001560</td>\n",
       "      <td>0.001429</td>\n",
       "      <td>0.001772</td>\n",
       "      <td>0.000855</td>\n",
       "      <td>0.001702</td>\n",
       "      <td>0.000690</td>\n",
       "      <td>0.002266</td>\n",
       "    </tr>\n",
       "    <tr>\n",
       "      <th>2025-03-03</th>\n",
       "      <td>0.002880</td>\n",
       "      <td>0.001557</td>\n",
       "      <td>0.001430</td>\n",
       "      <td>0.001766</td>\n",
       "      <td>0.000853</td>\n",
       "      <td>0.001707</td>\n",
       "      <td>0.000718</td>\n",
       "      <td>0.002266</td>\n",
       "    </tr>\n",
       "  </tbody>\n",
       "</table>\n",
       "<p>3425 rows × 8 columns</p>\n",
       "</div>"
      ],
      "text/plain": [
       "                   1         2         3         4         5         6  \\\n",
       "2023-03-16       NaN       NaN       NaN       NaN       NaN       NaN   \n",
       "2023-03-16  0.000822  0.000822  0.000822  0.000822  0.000822  0.000822   \n",
       "2023-03-16  0.000629  0.000552  0.000544  0.000544  0.000544  0.000544   \n",
       "2023-03-16  0.000503  0.000398  0.000380  0.000380  0.000380  0.000380   \n",
       "2023-03-16  0.000384  0.000306  0.000311  0.000301  0.000299  0.000299   \n",
       "...              ...       ...       ...       ...       ...       ...   \n",
       "2025-03-03  0.002713  0.001409  0.001232  0.001594  0.000703  0.001518   \n",
       "2025-03-03  0.002709  0.001435  0.001242  0.001605  0.000701  0.001504   \n",
       "2025-03-03  0.002801  0.001472  0.001362  0.001725  0.000822  0.001662   \n",
       "2025-03-03  0.002876  0.001560  0.001429  0.001772  0.000855  0.001702   \n",
       "2025-03-03  0.002880  0.001557  0.001430  0.001766  0.000853  0.001707   \n",
       "\n",
       "                   7  momentum  \n",
       "2023-03-16       NaN       NaN  \n",
       "2023-03-16  0.000822       NaN  \n",
       "2023-03-16  0.000544       NaN  \n",
       "2023-03-16  0.000380       NaN  \n",
       "2023-03-16  0.000299       NaN  \n",
       "...              ...       ...  \n",
       "2025-03-03  0.000549  0.002266  \n",
       "2025-03-03  0.000542  0.002266  \n",
       "2025-03-03  0.000667  0.002266  \n",
       "2025-03-03  0.000690  0.002266  \n",
       "2025-03-03  0.000718  0.002266  \n",
       "\n",
       "[3425 rows x 8 columns]"
      ]
     },
     "execution_count": 81,
     "metadata": {},
     "output_type": "execute_result"
    }
   ],
   "source": [
    "matrix"
   ]
  },
  {
   "cell_type": "code",
   "execution_count": 82,
   "id": "41aa874c-6e09-4ae1-b723-61a591c5f216",
   "metadata": {},
   "outputs": [
    {
     "data": {
      "text/html": [
       "<div>\n",
       "<style scoped>\n",
       "    .dataframe tbody tr th:only-of-type {\n",
       "        vertical-align: middle;\n",
       "    }\n",
       "\n",
       "    .dataframe tbody tr th {\n",
       "        vertical-align: top;\n",
       "    }\n",
       "\n",
       "    .dataframe thead th {\n",
       "        text-align: right;\n",
       "    }\n",
       "</style>\n",
       "<table border=\"1\" class=\"dataframe\">\n",
       "  <thead>\n",
       "    <tr style=\"text-align: right;\">\n",
       "      <th></th>\n",
       "      <th>1</th>\n",
       "      <th>2</th>\n",
       "      <th>3</th>\n",
       "      <th>4</th>\n",
       "      <th>5</th>\n",
       "      <th>6</th>\n",
       "      <th>7</th>\n",
       "      <th>momentum</th>\n",
       "    </tr>\n",
       "  </thead>\n",
       "  <tbody>\n",
       "    <tr>\n",
       "      <th>2023-03-16</th>\n",
       "      <td>0.000000</td>\n",
       "      <td>0.000000</td>\n",
       "      <td>0.000000</td>\n",
       "      <td>0.000000</td>\n",
       "      <td>0.000000</td>\n",
       "      <td>0.000000</td>\n",
       "      <td>0.000000</td>\n",
       "      <td>0.015853</td>\n",
       "    </tr>\n",
       "    <tr>\n",
       "      <th>2023-03-16</th>\n",
       "      <td>0.007405</td>\n",
       "      <td>0.007405</td>\n",
       "      <td>0.007405</td>\n",
       "      <td>0.007405</td>\n",
       "      <td>0.007405</td>\n",
       "      <td>0.007405</td>\n",
       "      <td>0.007405</td>\n",
       "      <td>0.015853</td>\n",
       "    </tr>\n",
       "    <tr>\n",
       "      <th>2023-03-16</th>\n",
       "      <td>-0.000968</td>\n",
       "      <td>-0.000045</td>\n",
       "      <td>0.000057</td>\n",
       "      <td>0.000057</td>\n",
       "      <td>0.000057</td>\n",
       "      <td>0.000057</td>\n",
       "      <td>0.000057</td>\n",
       "      <td>0.015853</td>\n",
       "    </tr>\n",
       "    <tr>\n",
       "      <th>2023-03-16</th>\n",
       "      <td>-0.001185</td>\n",
       "      <td>0.000456</td>\n",
       "      <td>0.000984</td>\n",
       "      <td>0.000984</td>\n",
       "      <td>0.000984</td>\n",
       "      <td>0.000984</td>\n",
       "      <td>0.000984</td>\n",
       "      <td>0.015853</td>\n",
       "    </tr>\n",
       "    <tr>\n",
       "      <th>2023-03-16</th>\n",
       "      <td>0.000203</td>\n",
       "      <td>0.000800</td>\n",
       "      <td>0.000033</td>\n",
       "      <td>0.000444</td>\n",
       "      <td>0.000597</td>\n",
       "      <td>0.000597</td>\n",
       "      <td>0.000597</td>\n",
       "      <td>0.015853</td>\n",
       "    </tr>\n",
       "    <tr>\n",
       "      <th>...</th>\n",
       "      <td>...</td>\n",
       "      <td>...</td>\n",
       "      <td>...</td>\n",
       "      <td>...</td>\n",
       "      <td>...</td>\n",
       "      <td>...</td>\n",
       "      <td>...</td>\n",
       "      <td>...</td>\n",
       "    </tr>\n",
       "    <tr>\n",
       "      <th>2025-03-03</th>\n",
       "      <td>-0.001265</td>\n",
       "      <td>-0.000876</td>\n",
       "      <td>-0.000268</td>\n",
       "      <td>-0.000472</td>\n",
       "      <td>0.000013</td>\n",
       "      <td>-0.000225</td>\n",
       "      <td>0.000220</td>\n",
       "      <td>-0.001039</td>\n",
       "    </tr>\n",
       "    <tr>\n",
       "      <th>2025-03-03</th>\n",
       "      <td>-0.001946</td>\n",
       "      <td>0.002987</td>\n",
       "      <td>0.001213</td>\n",
       "      <td>0.001171</td>\n",
       "      <td>-0.000495</td>\n",
       "      <td>-0.000423</td>\n",
       "      <td>-0.000011</td>\n",
       "      <td>-0.001039</td>\n",
       "    </tr>\n",
       "    <tr>\n",
       "      <th>2025-03-03</th>\n",
       "      <td>-0.012184</td>\n",
       "      <td>-0.008413</td>\n",
       "      <td>-0.013163</td>\n",
       "      <td>-0.013484</td>\n",
       "      <td>-0.012613</td>\n",
       "      <td>-0.012056</td>\n",
       "      <td>-0.012433</td>\n",
       "      <td>-0.001039</td>\n",
       "    </tr>\n",
       "    <tr>\n",
       "      <th>2025-03-03</th>\n",
       "      <td>0.005831</td>\n",
       "      <td>0.007117</td>\n",
       "      <td>0.005748</td>\n",
       "      <td>0.004520</td>\n",
       "      <td>-0.007717</td>\n",
       "      <td>-0.006117</td>\n",
       "      <td>-0.006538</td>\n",
       "      <td>-0.001039</td>\n",
       "    </tr>\n",
       "    <tr>\n",
       "      <th>2025-03-03</th>\n",
       "      <td>-0.005881</td>\n",
       "      <td>-0.003731</td>\n",
       "      <td>-0.004270</td>\n",
       "      <td>-0.003813</td>\n",
       "      <td>-0.004506</td>\n",
       "      <td>0.002665</td>\n",
       "      <td>0.004451</td>\n",
       "      <td>-0.001039</td>\n",
       "    </tr>\n",
       "  </tbody>\n",
       "</table>\n",
       "<p>3425 rows × 8 columns</p>\n",
       "</div>"
      ],
      "text/plain": [
       "                   1         2         3         4         5         6  \\\n",
       "2023-03-16  0.000000  0.000000  0.000000  0.000000  0.000000  0.000000   \n",
       "2023-03-16  0.007405  0.007405  0.007405  0.007405  0.007405  0.007405   \n",
       "2023-03-16 -0.000968 -0.000045  0.000057  0.000057  0.000057  0.000057   \n",
       "2023-03-16 -0.001185  0.000456  0.000984  0.000984  0.000984  0.000984   \n",
       "2023-03-16  0.000203  0.000800  0.000033  0.000444  0.000597  0.000597   \n",
       "...              ...       ...       ...       ...       ...       ...   \n",
       "2025-03-03 -0.001265 -0.000876 -0.000268 -0.000472  0.000013 -0.000225   \n",
       "2025-03-03 -0.001946  0.002987  0.001213  0.001171 -0.000495 -0.000423   \n",
       "2025-03-03 -0.012184 -0.008413 -0.013163 -0.013484 -0.012613 -0.012056   \n",
       "2025-03-03  0.005831  0.007117  0.005748  0.004520 -0.007717 -0.006117   \n",
       "2025-03-03 -0.005881 -0.003731 -0.004270 -0.003813 -0.004506  0.002665   \n",
       "\n",
       "                   7  momentum  \n",
       "2023-03-16  0.000000  0.015853  \n",
       "2023-03-16  0.007405  0.015853  \n",
       "2023-03-16  0.000057  0.015853  \n",
       "2023-03-16  0.000984  0.015853  \n",
       "2023-03-16  0.000597  0.015853  \n",
       "...              ...       ...  \n",
       "2025-03-03  0.000220 -0.001039  \n",
       "2025-03-03 -0.000011 -0.001039  \n",
       "2025-03-03 -0.012433 -0.001039  \n",
       "2025-03-03 -0.006538 -0.001039  \n",
       "2025-03-03  0.004451 -0.001039  \n",
       "\n",
       "[3425 rows x 8 columns]"
      ]
     },
     "execution_count": 82,
     "metadata": {},
     "output_type": "execute_result"
    }
   ],
   "source": [
    "mu"
   ]
  },
  {
   "cell_type": "code",
   "execution_count": 83,
   "id": "6d8a0544-1954-44bd-9d30-05798e9b341f",
   "metadata": {},
   "outputs": [],
   "source": [
    "final_wt=final_wtRev\n",
    "final_wtTest=final_wtRevTest"
   ]
  },
  {
   "cell_type": "code",
   "execution_count": 84,
   "id": "1a7aa2f2-f0f5-4b75-bfe7-c31b1f2a4ac2",
   "metadata": {},
   "outputs": [],
   "source": [
    "strat_final=mu[[1,2,3,4,5,6,7]].multiply(final_wt)\n",
    "strat_finalTest=muTest[[1,2,3,4,5,6,7]].multiply(final_wtTest)"
   ]
  },
  {
   "cell_type": "code",
   "execution_count": 85,
   "id": "99c3377d-d873-4251-8911-10652165961f",
   "metadata": {},
   "outputs": [
    {
     "data": {
      "text/plain": [
       "range(1, 8)"
      ]
     },
     "execution_count": 85,
     "metadata": {},
     "output_type": "execute_result"
    }
   ],
   "source": [
    "range(1,8)"
   ]
  },
  {
   "cell_type": "code",
   "execution_count": 86,
   "id": "f6f7e595-b7c7-469a-8494-e66b130c66f0",
   "metadata": {},
   "outputs": [
    {
     "data": {
      "text/html": [
       "<div>\n",
       "<style scoped>\n",
       "    .dataframe tbody tr th:only-of-type {\n",
       "        vertical-align: middle;\n",
       "    }\n",
       "\n",
       "    .dataframe tbody tr th {\n",
       "        vertical-align: top;\n",
       "    }\n",
       "\n",
       "    .dataframe thead th {\n",
       "        text-align: right;\n",
       "    }\n",
       "</style>\n",
       "<table border=\"1\" class=\"dataframe\">\n",
       "  <thead>\n",
       "    <tr style=\"text-align: right;\">\n",
       "      <th></th>\n",
       "      <th>1</th>\n",
       "      <th>2</th>\n",
       "      <th>3</th>\n",
       "      <th>4</th>\n",
       "      <th>5</th>\n",
       "      <th>6</th>\n",
       "      <th>7</th>\n",
       "    </tr>\n",
       "  </thead>\n",
       "  <tbody>\n",
       "    <tr>\n",
       "      <th>2023-03-16</th>\n",
       "      <td>0.000000</td>\n",
       "      <td>0.000000</td>\n",
       "      <td>0.000000</td>\n",
       "      <td>0.000000</td>\n",
       "      <td>0.000000</td>\n",
       "      <td>0.000000</td>\n",
       "      <td>0.000000</td>\n",
       "    </tr>\n",
       "    <tr>\n",
       "      <th>2023-03-16</th>\n",
       "      <td>0.000000</td>\n",
       "      <td>0.000000</td>\n",
       "      <td>0.000000</td>\n",
       "      <td>0.000000</td>\n",
       "      <td>0.000000</td>\n",
       "      <td>0.000000</td>\n",
       "      <td>0.000000</td>\n",
       "    </tr>\n",
       "    <tr>\n",
       "      <th>2023-03-16</th>\n",
       "      <td>-0.000138</td>\n",
       "      <td>-0.000006</td>\n",
       "      <td>0.000008</td>\n",
       "      <td>0.000008</td>\n",
       "      <td>0.000008</td>\n",
       "      <td>0.000008</td>\n",
       "      <td>0.000008</td>\n",
       "    </tr>\n",
       "    <tr>\n",
       "      <th>2023-03-16</th>\n",
       "      <td>0.000850</td>\n",
       "      <td>-0.000017</td>\n",
       "      <td>0.000048</td>\n",
       "      <td>0.000048</td>\n",
       "      <td>0.000048</td>\n",
       "      <td>0.000048</td>\n",
       "      <td>0.000048</td>\n",
       "    </tr>\n",
       "    <tr>\n",
       "      <th>2023-03-16</th>\n",
       "      <td>-0.000029</td>\n",
       "      <td>0.000056</td>\n",
       "      <td>0.000005</td>\n",
       "      <td>0.000070</td>\n",
       "      <td>0.000094</td>\n",
       "      <td>0.000094</td>\n",
       "      <td>0.000094</td>\n",
       "    </tr>\n",
       "    <tr>\n",
       "      <th>...</th>\n",
       "      <td>...</td>\n",
       "      <td>...</td>\n",
       "      <td>...</td>\n",
       "      <td>...</td>\n",
       "      <td>...</td>\n",
       "      <td>...</td>\n",
       "      <td>...</td>\n",
       "    </tr>\n",
       "    <tr>\n",
       "      <th>2025-03-03</th>\n",
       "      <td>-0.000083</td>\n",
       "      <td>-0.000100</td>\n",
       "      <td>-0.000024</td>\n",
       "      <td>-0.000045</td>\n",
       "      <td>0.000003</td>\n",
       "      <td>-0.000021</td>\n",
       "      <td>0.000072</td>\n",
       "    </tr>\n",
       "    <tr>\n",
       "      <th>2025-03-03</th>\n",
       "      <td>0.000418</td>\n",
       "      <td>-0.000856</td>\n",
       "      <td>-0.000122</td>\n",
       "      <td>-0.000160</td>\n",
       "      <td>-0.000004</td>\n",
       "      <td>0.000029</td>\n",
       "      <td>-0.000002</td>\n",
       "    </tr>\n",
       "    <tr>\n",
       "      <th>2025-03-03</th>\n",
       "      <td>0.001587</td>\n",
       "      <td>-0.003176</td>\n",
       "      <td>-0.002333</td>\n",
       "      <td>-0.001784</td>\n",
       "      <td>0.001614</td>\n",
       "      <td>0.000615</td>\n",
       "      <td>0.000046</td>\n",
       "    </tr>\n",
       "    <tr>\n",
       "      <th>2025-03-03</th>\n",
       "      <td>-0.000369</td>\n",
       "      <td>-0.000592</td>\n",
       "      <td>-0.000808</td>\n",
       "      <td>-0.000514</td>\n",
       "      <td>0.001721</td>\n",
       "      <td>0.000645</td>\n",
       "      <td>0.001771</td>\n",
       "    </tr>\n",
       "    <tr>\n",
       "      <th>2025-03-03</th>\n",
       "      <td>-0.000338</td>\n",
       "      <td>-0.000483</td>\n",
       "      <td>-0.000487</td>\n",
       "      <td>-0.000276</td>\n",
       "      <td>0.001154</td>\n",
       "      <td>-0.000272</td>\n",
       "      <td>-0.001196</td>\n",
       "    </tr>\n",
       "  </tbody>\n",
       "</table>\n",
       "<p>3425 rows × 7 columns</p>\n",
       "</div>"
      ],
      "text/plain": [
       "                   1         2         3         4         5         6  \\\n",
       "2023-03-16  0.000000  0.000000  0.000000  0.000000  0.000000  0.000000   \n",
       "2023-03-16  0.000000  0.000000  0.000000  0.000000  0.000000  0.000000   \n",
       "2023-03-16 -0.000138 -0.000006  0.000008  0.000008  0.000008  0.000008   \n",
       "2023-03-16  0.000850 -0.000017  0.000048  0.000048  0.000048  0.000048   \n",
       "2023-03-16 -0.000029  0.000056  0.000005  0.000070  0.000094  0.000094   \n",
       "...              ...       ...       ...       ...       ...       ...   \n",
       "2025-03-03 -0.000083 -0.000100 -0.000024 -0.000045  0.000003 -0.000021   \n",
       "2025-03-03  0.000418 -0.000856 -0.000122 -0.000160 -0.000004  0.000029   \n",
       "2025-03-03  0.001587 -0.003176 -0.002333 -0.001784  0.001614  0.000615   \n",
       "2025-03-03 -0.000369 -0.000592 -0.000808 -0.000514  0.001721  0.000645   \n",
       "2025-03-03 -0.000338 -0.000483 -0.000487 -0.000276  0.001154 -0.000272   \n",
       "\n",
       "                   7  \n",
       "2023-03-16  0.000000  \n",
       "2023-03-16  0.000000  \n",
       "2023-03-16  0.000008  \n",
       "2023-03-16  0.000048  \n",
       "2023-03-16  0.000094  \n",
       "...              ...  \n",
       "2025-03-03  0.000072  \n",
       "2025-03-03 -0.000002  \n",
       "2025-03-03  0.000046  \n",
       "2025-03-03  0.001771  \n",
       "2025-03-03 -0.001196  \n",
       "\n",
       "[3425 rows x 7 columns]"
      ]
     },
     "execution_count": 86,
     "metadata": {},
     "output_type": "execute_result"
    }
   ],
   "source": [
    "strat_final[[1,2,3,4,5,6,7]]"
   ]
  },
  {
   "cell_type": "code",
   "execution_count": 87,
   "id": "8815a62b-915a-4b27-b49d-923bcb1e895b",
   "metadata": {},
   "outputs": [
    {
     "name": "stderr",
     "output_type": "stream",
     "text": [
      "c:\\Users\\rohan\\vsProjects\\QuantBitcoinProject\\.conda\\lib\\site-packages\\numpy\\_core\\fromnumeric.py:84: FutureWarning: The behavior of DataFrame.sum with axis=None is deprecated, in a future version this will reduce over both axes and return a scalar. To retain the old behavior, pass axis=0 (or do not pass axis)\n",
      "  return reduction(axis=axis, out=out, **passkwargs)\n"
     ]
    },
    {
     "data": {
      "text/plain": [
       "1    633.677047\n",
       "2    524.378258\n",
       "3    487.825574\n",
       "4    453.144575\n",
       "5    436.896044\n",
       "6    451.371311\n",
       "7    435.707192\n",
       "dtype: float64"
      ]
     },
     "execution_count": 87,
     "metadata": {},
     "output_type": "execute_result"
    }
   ],
   "source": [
    "np.sum(np.abs(final_wt))"
   ]
  },
  {
   "cell_type": "code",
   "execution_count": 88,
   "id": "c42cc3b7-562d-4afd-b626-755ceb5398c1",
   "metadata": {},
   "outputs": [
    {
     "data": {
      "text/html": [
       "<div>\n",
       "<style scoped>\n",
       "    .dataframe tbody tr th:only-of-type {\n",
       "        vertical-align: middle;\n",
       "    }\n",
       "\n",
       "    .dataframe tbody tr th {\n",
       "        vertical-align: top;\n",
       "    }\n",
       "\n",
       "    .dataframe thead th {\n",
       "        text-align: right;\n",
       "    }\n",
       "</style>\n",
       "<table border=\"1\" class=\"dataframe\">\n",
       "  <thead>\n",
       "    <tr style=\"text-align: right;\">\n",
       "      <th></th>\n",
       "      <th>1</th>\n",
       "      <th>2</th>\n",
       "      <th>3</th>\n",
       "      <th>4</th>\n",
       "      <th>5</th>\n",
       "      <th>6</th>\n",
       "      <th>7</th>\n",
       "    </tr>\n",
       "  </thead>\n",
       "  <tbody>\n",
       "    <tr>\n",
       "      <th>2025-03-03</th>\n",
       "      <td>0.000000</td>\n",
       "      <td>0.000000</td>\n",
       "      <td>0.000000</td>\n",
       "      <td>0.000000</td>\n",
       "      <td>0.000000</td>\n",
       "      <td>0.000000</td>\n",
       "      <td>0.000000</td>\n",
       "    </tr>\n",
       "    <tr>\n",
       "      <th>2025-03-03</th>\n",
       "      <td>0.000000</td>\n",
       "      <td>0.000000</td>\n",
       "      <td>0.000000</td>\n",
       "      <td>0.000000</td>\n",
       "      <td>0.000000</td>\n",
       "      <td>0.000000</td>\n",
       "      <td>0.000000</td>\n",
       "    </tr>\n",
       "    <tr>\n",
       "      <th>2025-03-03</th>\n",
       "      <td>0.000000</td>\n",
       "      <td>0.000000</td>\n",
       "      <td>0.000000</td>\n",
       "      <td>0.000000</td>\n",
       "      <td>0.000000</td>\n",
       "      <td>0.000000</td>\n",
       "      <td>0.000000</td>\n",
       "    </tr>\n",
       "    <tr>\n",
       "      <th>2025-03-03</th>\n",
       "      <td>0.000709</td>\n",
       "      <td>0.000709</td>\n",
       "      <td>0.000709</td>\n",
       "      <td>0.000709</td>\n",
       "      <td>0.000709</td>\n",
       "      <td>0.000709</td>\n",
       "      <td>0.000709</td>\n",
       "    </tr>\n",
       "    <tr>\n",
       "      <th>2025-03-03</th>\n",
       "      <td>-0.000181</td>\n",
       "      <td>-0.000064</td>\n",
       "      <td>-0.000034</td>\n",
       "      <td>-0.000034</td>\n",
       "      <td>-0.000034</td>\n",
       "      <td>-0.000034</td>\n",
       "      <td>-0.000034</td>\n",
       "    </tr>\n",
       "    <tr>\n",
       "      <th>...</th>\n",
       "      <td>...</td>\n",
       "      <td>...</td>\n",
       "      <td>...</td>\n",
       "      <td>...</td>\n",
       "      <td>...</td>\n",
       "      <td>...</td>\n",
       "      <td>...</td>\n",
       "    </tr>\n",
       "    <tr>\n",
       "      <th>2025-04-21</th>\n",
       "      <td>0.000005</td>\n",
       "      <td>0.000007</td>\n",
       "      <td>0.000001</td>\n",
       "      <td>0.001543</td>\n",
       "      <td>0.000060</td>\n",
       "      <td>0.000079</td>\n",
       "      <td>0.000123</td>\n",
       "    </tr>\n",
       "    <tr>\n",
       "      <th>2025-04-21</th>\n",
       "      <td>-0.000023</td>\n",
       "      <td>-0.000002</td>\n",
       "      <td>-0.000003</td>\n",
       "      <td>0.000186</td>\n",
       "      <td>0.000151</td>\n",
       "      <td>0.000029</td>\n",
       "      <td>0.000037</td>\n",
       "    </tr>\n",
       "    <tr>\n",
       "      <th>2025-04-21</th>\n",
       "      <td>0.000238</td>\n",
       "      <td>0.000001</td>\n",
       "      <td>0.000013</td>\n",
       "      <td>0.000046</td>\n",
       "      <td>0.000763</td>\n",
       "      <td>0.000022</td>\n",
       "      <td>0.000023</td>\n",
       "    </tr>\n",
       "    <tr>\n",
       "      <th>2025-04-21</th>\n",
       "      <td>0.000097</td>\n",
       "      <td>0.000005</td>\n",
       "      <td>-0.000008</td>\n",
       "      <td>-0.000102</td>\n",
       "      <td>0.000183</td>\n",
       "      <td>0.000193</td>\n",
       "      <td>0.000107</td>\n",
       "    </tr>\n",
       "    <tr>\n",
       "      <th>2025-04-21</th>\n",
       "      <td>0.000023</td>\n",
       "      <td>0.000013</td>\n",
       "      <td>0.000003</td>\n",
       "      <td>0.000128</td>\n",
       "      <td>0.000026</td>\n",
       "      <td>0.000976</td>\n",
       "      <td>0.000290</td>\n",
       "    </tr>\n",
       "  </tbody>\n",
       "</table>\n",
       "<p>490 rows × 7 columns</p>\n",
       "</div>"
      ],
      "text/plain": [
       "                   1         2         3         4         5         6  \\\n",
       "2025-03-03  0.000000  0.000000  0.000000  0.000000  0.000000  0.000000   \n",
       "2025-03-03  0.000000  0.000000  0.000000  0.000000  0.000000  0.000000   \n",
       "2025-03-03  0.000000  0.000000  0.000000  0.000000  0.000000  0.000000   \n",
       "2025-03-03  0.000709  0.000709  0.000709  0.000709  0.000709  0.000709   \n",
       "2025-03-03 -0.000181 -0.000064 -0.000034 -0.000034 -0.000034 -0.000034   \n",
       "...              ...       ...       ...       ...       ...       ...   \n",
       "2025-04-21  0.000005  0.000007  0.000001  0.001543  0.000060  0.000079   \n",
       "2025-04-21 -0.000023 -0.000002 -0.000003  0.000186  0.000151  0.000029   \n",
       "2025-04-21  0.000238  0.000001  0.000013  0.000046  0.000763  0.000022   \n",
       "2025-04-21  0.000097  0.000005 -0.000008 -0.000102  0.000183  0.000193   \n",
       "2025-04-21  0.000023  0.000013  0.000003  0.000128  0.000026  0.000976   \n",
       "\n",
       "                   7  \n",
       "2025-03-03  0.000000  \n",
       "2025-03-03  0.000000  \n",
       "2025-03-03  0.000000  \n",
       "2025-03-03  0.000709  \n",
       "2025-03-03 -0.000034  \n",
       "...              ...  \n",
       "2025-04-21  0.000123  \n",
       "2025-04-21  0.000037  \n",
       "2025-04-21  0.000023  \n",
       "2025-04-21  0.000107  \n",
       "2025-04-21  0.000290  \n",
       "\n",
       "[490 rows x 7 columns]"
      ]
     },
     "execution_count": 88,
     "metadata": {},
     "output_type": "execute_result"
    }
   ],
   "source": [
    "strat_sum=strat_final.sum(1)\n",
    "strat_sumTest=strat_finalTest.sum(1)\n",
    "strat_finalTest\n"
   ]
  },
  {
   "cell_type": "code",
   "execution_count": 89,
   "id": "03bacc34-8803-4f06-83a2-ba12b2816e78",
   "metadata": {},
   "outputs": [],
   "source": [
    "def hourlyToDailyReturns(df):\n",
    "    df_grouped = df.groupby(df.index).sum()  # Aggregates by index\n",
    "    return df_grouped\n",
    "    "
   ]
  },
  {
   "cell_type": "code",
   "execution_count": 90,
   "id": "abb792ff-38c9-4553-ba13-8018fdc306d1",
   "metadata": {},
   "outputs": [],
   "source": [
    "dailyReturns=hourlyToDailyReturns(strat_sum)"
   ]
  },
  {
   "cell_type": "code",
   "execution_count": 91,
   "id": "25c7a343-f749-483f-9a4f-ba8cd339fcfb",
   "metadata": {},
   "outputs": [],
   "source": [
    "dailyReturnsTest=hourlyToDailyReturns(strat_sumTest)"
   ]
  },
  {
   "cell_type": "code",
   "execution_count": 92,
   "id": "02d75a1f-514c-48ea-9218-923bc5052e19",
   "metadata": {},
   "outputs": [
    {
     "data": {
      "text/plain": [
       "np.float64(9.49717608320658)"
      ]
     },
     "execution_count": 92,
     "metadata": {},
     "output_type": "execute_result"
    }
   ],
   "source": [
    "dailyReturns.mean()/dailyReturns.std()*np.sqrt(252)"
   ]
  },
  {
   "cell_type": "code",
   "execution_count": 93,
   "id": "06b818e0-d9ed-402e-9cd6-e1261b233398",
   "metadata": {},
   "outputs": [
    {
     "data": {
      "text/plain": [
       "<Axes: >"
      ]
     },
     "execution_count": 93,
     "metadata": {},
     "output_type": "execute_result"
    },
    {
     "data": {
      "image/png": "[encoded data removed]",
      "text/plain": [
       "<Figure size 640x480 with 1 Axes>"
      ]
     },
     "metadata": {},
     "output_type": "display_data"
    }
   ],
   "source": [
    "(1+dailyReturnsTest).cumprod().plot()"
   ]
  },
  {
   "cell_type": "code",
   "execution_count": 94,
   "id": "9830f129-3616-4832-87ad-661870749b5d",
   "metadata": {},
   "outputs": [
    {
     "data": {
      "text/plain": [
       "np.float64(37.444112664360574)"
      ]
     },
     "execution_count": 94,
     "metadata": {},
     "output_type": "execute_result"
    }
   ],
   "source": [
    "dailyReturnsTest.mean()/dailyReturnsTest.std()*np.sqrt(252)"
   ]
  },
  {
   "cell_type": "code",
   "execution_count": 95,
   "id": "dc018107-2147-4c62-bf6f-4301d1875010",
   "metadata": {},
   "outputs": [
    {
     "data": {
      "text/plain": [
       "np.float64(37.444112664360574)"
      ]
     },
     "execution_count": 95,
     "metadata": {},
     "output_type": "execute_result"
    }
   ],
   "source": [
    "dailyReturnsTest.mean()/dailyReturnsTest.std()*np.sqrt(252)"
   ]
  },
  {
   "cell_type": "code",
   "execution_count": 96,
   "id": "f7863f8b-9f0b-40c0-968f-44f1764a0b5f",
   "metadata": {},
   "outputs": [
    {
     "data": {
      "text/plain": [
       "2023-03-16    0.000000\n",
       "2023-03-16    0.000000\n",
       "2023-03-16   -0.000104\n",
       "2023-03-16    0.001073\n",
       "2023-03-16    0.000384\n",
       "                ...   \n",
       "2025-03-03   -0.000198\n",
       "2025-03-03   -0.000696\n",
       "2025-03-03   -0.003430\n",
       "2025-03-03    0.001856\n",
       "2025-03-03   -0.001898\n",
       "Length: 3425, dtype: float64"
      ]
     },
     "execution_count": 96,
     "metadata": {},
     "output_type": "execute_result"
    }
   ],
   "source": [
    "strat_sum"
   ]
  },
  {
   "cell_type": "markdown",
   "id": "4beb15da-aba4-4de9-bb23-ec923956135d",
   "metadata": {},
   "source": [
    "--Max DrawDown---"
   ]
  },
  {
   "cell_type": "code",
   "execution_count": 97,
   "id": "6d0a10ef-d724-4173-a4c9-8ca2347bb63e",
   "metadata": {},
   "outputs": [],
   "source": [
    "#hourlyReturns=strat_sum.to_frame(name=\"Returns\")\n",
    "#hurlyReturnsTest=strat_sumTest.to_frame(name=\"Returns\")\n",
    "dd=drawdown(dailyReturns)\n",
    "ddTest=drawdown(dailyReturnsTest)"
   ]
  },
  {
   "cell_type": "code",
   "execution_count": 98,
   "id": "55d89a5d-381a-4d66-b96c-9a286a69b325",
   "metadata": {},
   "outputs": [
    {
     "data": {
      "text/plain": [
       "np.float64(-0.03622288673920793)"
      ]
     },
     "execution_count": 98,
     "metadata": {},
     "output_type": "execute_result"
    }
   ],
   "source": [
    "dd.min()"
   ]
  },
  {
   "cell_type": "code",
   "execution_count": 99,
   "id": "e7fb1f7c-80f1-4f4b-a637-d9b21f3e0ceb",
   "metadata": {},
   "outputs": [
    {
     "data": {
      "text/plain": [
       "<Axes: >"
      ]
     },
     "execution_count": 99,
     "metadata": {},
     "output_type": "execute_result"
    },
    {
     "data": {
      "image/png": "[encoded data removed]",
      "text/plain": [
       "<Figure size 640x480 with 1 Axes>"
      ]
     },
     "metadata": {},
     "output_type": "display_data"
    }
   ],
   "source": [
    "dd.plot()"
   ]
  },
  {
   "cell_type": "code",
   "execution_count": 100,
   "id": "ac254a83-5107-43e4-8cd8-745984e5bfd4",
   "metadata": {},
   "outputs": [],
   "source": [
    "period=[2,'momentum']"
   ]
  },
  {
   "cell_type": "code",
   "execution_count": 101,
   "id": "b60ef13f-d2d5-4fa1-8e2d-b91e9af79069",
   "metadata": {},
   "outputs": [],
   "source": [
    "final_wtOneHour=getOptimalWts(matrix[period],mu[period]).fillna(0)\n",
    "final_wtTestOneHour=getOptimalWts(matrixTest[period],muTest[period]).fillna(0)"
   ]
  },
  {
   "cell_type": "code",
   "execution_count": 102,
   "id": "695a7cb1-9d22-491f-97f7-c8a5b55a5e1e",
   "metadata": {},
   "outputs": [],
   "source": [
    "oneRevStrategy=np.multiply(mu[period],final_wtOneHour)\n"
   ]
  },
  {
   "cell_type": "code",
   "execution_count": 103,
   "id": "4ff87d0e-6279-4bf5-b0ed-417f59afd30e",
   "metadata": {},
   "outputs": [],
   "source": [
    "dailyReturnOneRev=oneRevStrategy.sum(1)\n"
   ]
  },
  {
   "cell_type": "code",
   "execution_count": 104,
   "id": "0373a9ac-f004-4274-a11a-3dac5dd2d344",
   "metadata": {},
   "outputs": [
    {
     "data": {
      "text/plain": [
       "np.float64(8.418153629011835)"
      ]
     },
     "execution_count": 104,
     "metadata": {},
     "output_type": "execute_result"
    }
   ],
   "source": [
    "sharp(dailyReturnOneRev)"
   ]
  },
  {
   "cell_type": "code",
   "execution_count": 105,
   "id": "ae169a35-c66a-425c-bc2e-2967ecc08500",
   "metadata": {},
   "outputs": [
    {
     "data": {
      "text/plain": [
       "<Axes: >"
      ]
     },
     "execution_count": 105,
     "metadata": {},
     "output_type": "execute_result"
    },
    {
     "data": {
      "image/png": "[encoded data removed]",
      "text/plain": [
       "<Figure size 640x480 with 1 Axes>"
      ]
     },
     "metadata": {},
     "output_type": "display_data"
    }
   ],
   "source": [
    "drawdown(dailyReturnOneRev).plot()"
   ]
  },
  {
   "cell_type": "code",
   "execution_count": 106,
   "id": "859c641e-8bf1-4b10-98d4-13963679166c",
   "metadata": {},
   "outputs": [
    {
     "data": {
      "text/plain": [
       "<Axes: >"
      ]
     },
     "execution_count": 106,
     "metadata": {},
     "output_type": "execute_result"
    },
    {
     "data": {
      "image/png": "[encoded data removed]",
      "text/plain": [
       "<Figure size 640x480 with 1 Axes>"
      ]
     },
     "metadata": {},
     "output_type": "display_data"
    }
   ],
   "source": [
    "drawdown(dailyReturnOneRev).plot()"
   ]
  },
  {
   "cell_type": "code",
   "execution_count": 107,
   "id": "89e1bfab-cf96-43ac-b95e-03cdf0f6a722",
   "metadata": {},
   "outputs": [
    {
     "data": {
      "text/plain": [
       "<Axes: >"
      ]
     },
     "execution_count": 107,
     "metadata": {},
     "output_type": "execute_result"
    },
    {
     "data": {
      "image/png": "[encoded data removed]",
      "text/plain": [
       "<Figure size 640x480 with 1 Axes>"
      ]
     },
     "metadata": {},
     "output_type": "display_data"
    }
   ],
   "source": [
    "(1+dailyReturnOneRev).cumprod().plot()"
   ]
  },
  {
   "cell_type": "code",
   "execution_count": 108,
   "id": "2e21828d-2b71-4314-831e-ebb0f4831b15",
   "metadata": {},
   "outputs": [
    {
     "data": {
      "text/plain": [
       "<Axes: >"
      ]
     },
     "execution_count": 108,
     "metadata": {},
     "output_type": "execute_result"
    },
    {
     "data": {
      "image/png": "[encoded data removed]",
      "text/plain": [
       "<Figure size 640x480 with 1 Axes>"
      ]
     },
     "metadata": {},
     "output_type": "display_data"
    }
   ],
   "source": [
    "dailyReturnOneRev.plot()"
   ]
  },
  {
   "cell_type": "code",
   "execution_count": 109,
   "id": "33262688-c91a-4b06-924d-e934327ecaac",
   "metadata": {},
   "outputs": [
    {
     "data": {
      "text/plain": [
       "DrawdownDuration   2024-12-26\n",
       "dtype: datetime64[ns]"
      ]
     },
     "execution_count": 109,
     "metadata": {},
     "output_type": "execute_result"
    }
   ],
   "source": [
    "drawDownDurationDays(dailyReturnOneRev).idxmax()"
   ]
  },
  {
   "cell_type": "code",
   "execution_count": 110,
   "id": "8dfcd23c-df6e-43a8-b57e-d1ca9bf4f738",
   "metadata": {},
   "outputs": [],
   "source": [
    "#BackTesting"
   ]
  },
  {
   "cell_type": "code",
   "execution_count": null,
   "id": "56f39656-90f6-4476-86b7-712420157e08",
   "metadata": {},
   "outputs": [],
   "source": []
  },
  {
   "cell_type": "code",
   "execution_count": 111,
   "id": "e512a2b5-d433-4dbd-a975-6541f1ace8ba",
   "metadata": {},
   "outputs": [
    {
     "data": {
      "text/plain": [
       "np.float64(0.0)"
      ]
     },
     "execution_count": 111,
     "metadata": {},
     "output_type": "execute_result"
    }
   ],
   "source": [
    "ddTest.min()"
   ]
  },
  {
   "cell_type": "code",
   "execution_count": 112,
   "id": "76df9c89-a004-4bc3-977a-1c1c9fd67f60",
   "metadata": {},
   "outputs": [
    {
     "data": {
      "text/plain": [
       "<Axes: >"
      ]
     },
     "execution_count": 112,
     "metadata": {},
     "output_type": "execute_result"
    },
    {
     "data": {
      "image/png": "[encoded data removed]",
      "text/plain": [
       "<Figure size 640x480 with 1 Axes>"
      ]
     },
     "metadata": {},
     "output_type": "display_data"
    }
   ],
   "source": [
    "ddTest.plot()"
   ]
  },
  {
   "cell_type": "code",
   "execution_count": 113,
   "id": "dd02afb0-5bde-4206-b122-5561deff450a",
   "metadata": {},
   "outputs": [
    {
     "data": {
      "text/html": [
       "<div>\n",
       "<style scoped>\n",
       "    .dataframe tbody tr th:only-of-type {\n",
       "        vertical-align: middle;\n",
       "    }\n",
       "\n",
       "    .dataframe tbody tr th {\n",
       "        vertical-align: top;\n",
       "    }\n",
       "\n",
       "    .dataframe thead th {\n",
       "        text-align: right;\n",
       "    }\n",
       "</style>\n",
       "<table border=\"1\" class=\"dataframe\">\n",
       "  <thead>\n",
       "    <tr style=\"text-align: right;\">\n",
       "      <th></th>\n",
       "      <th>DrawdownDuration</th>\n",
       "    </tr>\n",
       "  </thead>\n",
       "  <tbody>\n",
       "    <tr>\n",
       "      <th>2023-03-16</th>\n",
       "      <td>0</td>\n",
       "    </tr>\n",
       "    <tr>\n",
       "      <th>2023-03-17</th>\n",
       "      <td>0</td>\n",
       "    </tr>\n",
       "    <tr>\n",
       "      <th>2023-03-20</th>\n",
       "      <td>0</td>\n",
       "    </tr>\n",
       "    <tr>\n",
       "      <th>2023-03-21</th>\n",
       "      <td>0</td>\n",
       "    </tr>\n",
       "    <tr>\n",
       "      <th>2023-03-22</th>\n",
       "      <td>0</td>\n",
       "    </tr>\n",
       "    <tr>\n",
       "      <th>...</th>\n",
       "      <td>...</td>\n",
       "    </tr>\n",
       "    <tr>\n",
       "      <th>2025-02-25</th>\n",
       "      <td>8</td>\n",
       "    </tr>\n",
       "    <tr>\n",
       "      <th>2025-02-26</th>\n",
       "      <td>9</td>\n",
       "    </tr>\n",
       "    <tr>\n",
       "      <th>2025-02-27</th>\n",
       "      <td>0</td>\n",
       "    </tr>\n",
       "    <tr>\n",
       "      <th>2025-02-28</th>\n",
       "      <td>0</td>\n",
       "    </tr>\n",
       "    <tr>\n",
       "      <th>2025-03-03</th>\n",
       "      <td>0</td>\n",
       "    </tr>\n",
       "  </tbody>\n",
       "</table>\n",
       "<p>492 rows × 1 columns</p>\n",
       "</div>"
      ],
      "text/plain": [
       "            DrawdownDuration\n",
       "2023-03-16                 0\n",
       "2023-03-17                 0\n",
       "2023-03-20                 0\n",
       "2023-03-21                 0\n",
       "2023-03-22                 0\n",
       "...                      ...\n",
       "2025-02-25                 8\n",
       "2025-02-26                 9\n",
       "2025-02-27                 0\n",
       "2025-02-28                 0\n",
       "2025-03-03                 0\n",
       "\n",
       "[492 rows x 1 columns]"
      ]
     },
     "execution_count": 113,
     "metadata": {},
     "output_type": "execute_result"
    }
   ],
   "source": [
    "drawDownDurationDays(dailyReturns)"
   ]
  },
  {
   "cell_type": "code",
   "execution_count": 114,
   "id": "852140ed-b956-498a-8096-7083b99095ba",
   "metadata": {},
   "outputs": [
    {
     "data": {
      "text/html": [
       "<div>\n",
       "<style scoped>\n",
       "    .dataframe tbody tr th:only-of-type {\n",
       "        vertical-align: middle;\n",
       "    }\n",
       "\n",
       "    .dataframe tbody tr th {\n",
       "        vertical-align: top;\n",
       "    }\n",
       "\n",
       "    .dataframe thead th {\n",
       "        text-align: right;\n",
       "    }\n",
       "</style>\n",
       "<table border=\"1\" class=\"dataframe\">\n",
       "  <thead>\n",
       "    <tr style=\"text-align: right;\">\n",
       "      <th></th>\n",
       "      <th>DrawdownDuration</th>\n",
       "    </tr>\n",
       "  </thead>\n",
       "  <tbody>\n",
       "    <tr>\n",
       "      <th>2025-03-03</th>\n",
       "      <td>0</td>\n",
       "    </tr>\n",
       "    <tr>\n",
       "      <th>2025-03-04</th>\n",
       "      <td>0</td>\n",
       "    </tr>\n",
       "    <tr>\n",
       "      <th>2025-03-05</th>\n",
       "      <td>0</td>\n",
       "    </tr>\n",
       "    <tr>\n",
       "      <th>2025-03-06</th>\n",
       "      <td>0</td>\n",
       "    </tr>\n",
       "    <tr>\n",
       "      <th>2025-03-07</th>\n",
       "      <td>0</td>\n",
       "    </tr>\n",
       "    <tr>\n",
       "      <th>2025-03-10</th>\n",
       "      <td>0</td>\n",
       "    </tr>\n",
       "    <tr>\n",
       "      <th>2025-03-11</th>\n",
       "      <td>0</td>\n",
       "    </tr>\n",
       "    <tr>\n",
       "      <th>2025-03-12</th>\n",
       "      <td>0</td>\n",
       "    </tr>\n",
       "    <tr>\n",
       "      <th>2025-03-13</th>\n",
       "      <td>0</td>\n",
       "    </tr>\n",
       "    <tr>\n",
       "      <th>2025-03-14</th>\n",
       "      <td>0</td>\n",
       "    </tr>\n",
       "    <tr>\n",
       "      <th>2025-03-17</th>\n",
       "      <td>0</td>\n",
       "    </tr>\n",
       "    <tr>\n",
       "      <th>2025-03-18</th>\n",
       "      <td>0</td>\n",
       "    </tr>\n",
       "    <tr>\n",
       "      <th>2025-03-19</th>\n",
       "      <td>0</td>\n",
       "    </tr>\n",
       "    <tr>\n",
       "      <th>2025-03-20</th>\n",
       "      <td>0</td>\n",
       "    </tr>\n",
       "    <tr>\n",
       "      <th>2025-03-21</th>\n",
       "      <td>0</td>\n",
       "    </tr>\n",
       "    <tr>\n",
       "      <th>2025-03-24</th>\n",
       "      <td>0</td>\n",
       "    </tr>\n",
       "    <tr>\n",
       "      <th>2025-03-25</th>\n",
       "      <td>0</td>\n",
       "    </tr>\n",
       "    <tr>\n",
       "      <th>2025-03-26</th>\n",
       "      <td>0</td>\n",
       "    </tr>\n",
       "    <tr>\n",
       "      <th>2025-03-27</th>\n",
       "      <td>0</td>\n",
       "    </tr>\n",
       "    <tr>\n",
       "      <th>2025-03-28</th>\n",
       "      <td>0</td>\n",
       "    </tr>\n",
       "    <tr>\n",
       "      <th>2025-03-31</th>\n",
       "      <td>0</td>\n",
       "    </tr>\n",
       "    <tr>\n",
       "      <th>2025-04-01</th>\n",
       "      <td>0</td>\n",
       "    </tr>\n",
       "    <tr>\n",
       "      <th>2025-04-02</th>\n",
       "      <td>0</td>\n",
       "    </tr>\n",
       "    <tr>\n",
       "      <th>2025-04-03</th>\n",
       "      <td>0</td>\n",
       "    </tr>\n",
       "    <tr>\n",
       "      <th>2025-04-04</th>\n",
       "      <td>0</td>\n",
       "    </tr>\n",
       "    <tr>\n",
       "      <th>2025-04-07</th>\n",
       "      <td>0</td>\n",
       "    </tr>\n",
       "    <tr>\n",
       "      <th>2025-04-08</th>\n",
       "      <td>0</td>\n",
       "    </tr>\n",
       "    <tr>\n",
       "      <th>2025-04-09</th>\n",
       "      <td>0</td>\n",
       "    </tr>\n",
       "    <tr>\n",
       "      <th>2025-04-10</th>\n",
       "      <td>0</td>\n",
       "    </tr>\n",
       "    <tr>\n",
       "      <th>2025-04-11</th>\n",
       "      <td>0</td>\n",
       "    </tr>\n",
       "    <tr>\n",
       "      <th>2025-04-14</th>\n",
       "      <td>0</td>\n",
       "    </tr>\n",
       "    <tr>\n",
       "      <th>2025-04-15</th>\n",
       "      <td>0</td>\n",
       "    </tr>\n",
       "    <tr>\n",
       "      <th>2025-04-16</th>\n",
       "      <td>0</td>\n",
       "    </tr>\n",
       "    <tr>\n",
       "      <th>2025-04-17</th>\n",
       "      <td>0</td>\n",
       "    </tr>\n",
       "    <tr>\n",
       "      <th>2025-04-21</th>\n",
       "      <td>0</td>\n",
       "    </tr>\n",
       "  </tbody>\n",
       "</table>\n",
       "</div>"
      ],
      "text/plain": [
       "            DrawdownDuration\n",
       "2025-03-03                 0\n",
       "2025-03-04                 0\n",
       "2025-03-05                 0\n",
       "2025-03-06                 0\n",
       "2025-03-07                 0\n",
       "2025-03-10                 0\n",
       "2025-03-11                 0\n",
       "2025-03-12                 0\n",
       "2025-03-13                 0\n",
       "2025-03-14                 0\n",
       "2025-03-17                 0\n",
       "2025-03-18                 0\n",
       "2025-03-19                 0\n",
       "2025-03-20                 0\n",
       "2025-03-21                 0\n",
       "2025-03-24                 0\n",
       "2025-03-25                 0\n",
       "2025-03-26                 0\n",
       "2025-03-27                 0\n",
       "2025-03-28                 0\n",
       "2025-03-31                 0\n",
       "2025-04-01                 0\n",
       "2025-04-02                 0\n",
       "2025-04-03                 0\n",
       "2025-04-04                 0\n",
       "2025-04-07                 0\n",
       "2025-04-08                 0\n",
       "2025-04-09                 0\n",
       "2025-04-10                 0\n",
       "2025-04-11                 0\n",
       "2025-04-14                 0\n",
       "2025-04-15                 0\n",
       "2025-04-16                 0\n",
       "2025-04-17                 0\n",
       "2025-04-21                 0"
      ]
     },
     "execution_count": 114,
     "metadata": {},
     "output_type": "execute_result"
    }
   ],
   "source": [
    "drawDownDurationDays(dailyReturnsTest)"
   ]
  },
  {
   "cell_type": "code",
   "execution_count": 115,
   "id": "279774d1-2bb9-4cb7-b795-bfa190281242",
   "metadata": {},
   "outputs": [
    {
     "data": {
      "text/plain": [
       "DrawdownDuration    0\n",
       "dtype: int64"
      ]
     },
     "execution_count": 115,
     "metadata": {},
     "output_type": "execute_result"
    }
   ],
   "source": [
    "(drawDownDurationDays(dailyReturnsTest)).max()"
   ]
  },
  {
   "cell_type": "code",
   "execution_count": 116,
   "id": "a9c55418-5f4b-4c7f-8fc5-546f8c329973",
   "metadata": {},
   "outputs": [
    {
     "name": "stdout",
     "output_type": "stream",
     "text": [
      "2.093050947507939\n"
     ]
    }
   ],
   "source": [
    "oneRevStrategyTest=np.multiply(muTest[[7,'momentum']],final_wtTestOneHour)\n",
    "dailyReturnOneRevTest=oneRevStrategyTest.sum(1)\n",
    "print(sharp(dailyReturnOneRevTest))\n",
    "ddTest=drawdown(dailyReturnOneRevTest)\n",
    "\n"
   ]
  },
  {
   "cell_type": "code",
   "execution_count": 117,
   "id": "e54a1f61-b019-4725-abc7-397488ae8091",
   "metadata": {},
   "outputs": [
    {
     "data": {
      "text/plain": [
       "<Axes: >"
      ]
     },
     "execution_count": 117,
     "metadata": {},
     "output_type": "execute_result"
    },
    {
     "data": {
      "image/png": "[encoded data removed]",
      "text/plain": [
       "<Figure size 640x480 with 1 Axes>"
      ]
     },
     "metadata": {},
     "output_type": "display_data"
    }
   ],
   "source": [
    "ddTest.plot()"
   ]
  },
  {
   "cell_type": "code",
   "execution_count": 118,
   "id": "b35b577c-ea02-4807-8118-580e0763875a",
   "metadata": {},
   "outputs": [
    {
     "data": {
      "text/plain": [
       "DrawdownDuration    106\n",
       "dtype: int64"
      ]
     },
     "execution_count": 118,
     "metadata": {},
     "output_type": "execute_result"
    }
   ],
   "source": [
    "(drawDownDurationDays(dailyReturnOneRevTest)).max()"
   ]
  }
 ],
 "metadata": {
  "kernelspec": {
   "display_name": "Python 3",
   "language": "python",
   "name": "python3"
  },
  "language_info": {
   "codemirror_mode": {
    "name": "ipython",
    "version": 3
   },
   "file_extension": ".py",
   "mimetype": "text/x-python",
   "name": "python",
   "nbconvert_exporter": "python",
   "pygments_lexer": "ipython3",
   "version": "3.10.18"
  }
 },
 "nbformat": 4,
 "nbformat_minor": 5
}
