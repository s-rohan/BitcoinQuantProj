{
 "cells": [
  {
   "cell_type": "code",
   "execution_count": 1,
   "id": "5324a796-2003-44ff-9711-49c3a9c7ab83",
   "metadata": {
    "scrolled": true
   },
   "outputs": [
    {
     "name": "stdout",
     "output_type": "stream",
     "text": [
      "Requirement already satisfied: python-binance in c:\\users\\rohan\\vsprojects\\quantagent\\.conda39\\lib\\site-packages (1.0.29)\n",
      "Requirement already satisfied: requests in c:\\users\\rohan\\vsprojects\\quantagent\\.conda39\\lib\\site-packages (from python-binance) (2.32.4)\n",
      "Requirement already satisfied: six in c:\\users\\rohan\\vsprojects\\quantagent\\.conda39\\lib\\site-packages (from python-binance) (1.17.0)\n",
      "Requirement already satisfied: dateparser in c:\\users\\rohan\\vsprojects\\quantagent\\.conda39\\lib\\site-packages (from python-binance) (1.2.2)\n",
      "Requirement already satisfied: aiohttp in c:\\users\\rohan\\vsprojects\\quantagent\\.conda39\\lib\\site-packages (from python-binance) (3.12.13)\n",
      "Requirement already satisfied: websockets in c:\\users\\rohan\\vsprojects\\quantagent\\.conda39\\lib\\site-packages (from python-binance) (9.1)\n",
      "Requirement already satisfied: pycryptodome in c:\\users\\rohan\\vsprojects\\quantagent\\.conda39\\lib\\site-packages (from python-binance) (3.23.0)\n",
      "Requirement already satisfied: aiohappyeyeballs>=2.5.0 in c:\\users\\rohan\\vsprojects\\quantagent\\.conda39\\lib\\site-packages (from aiohttp->python-binance) (2.6.1)\n",
      "Requirement already satisfied: aiosignal>=1.1.2 in c:\\users\\rohan\\vsprojects\\quantagent\\.conda39\\lib\\site-packages (from aiohttp->python-binance) (1.3.2)\n",
      "Requirement already satisfied: async-timeout<6.0,>=4.0 in c:\\users\\rohan\\vsprojects\\quantagent\\.conda39\\lib\\site-packages (from aiohttp->python-binance) (5.0.1)\n",
      "Requirement already satisfied: attrs>=17.3.0 in c:\\users\\rohan\\vsprojects\\quantagent\\.conda39\\lib\\site-packages (from aiohttp->python-binance) (25.3.0)\n",
      "Requirement already satisfied: frozenlist>=1.1.1 in c:\\users\\rohan\\vsprojects\\quantagent\\.conda39\\lib\\site-packages (from aiohttp->python-binance) (1.6.0)\n",
      "Requirement already satisfied: multidict<7.0,>=4.5 in c:\\users\\rohan\\vsprojects\\quantagent\\.conda39\\lib\\site-packages (from aiohttp->python-binance) (6.5.1)\n",
      "Requirement already satisfied: propcache>=0.2.0 in c:\\users\\rohan\\vsprojects\\quantagent\\.conda39\\lib\\site-packages (from aiohttp->python-binance) (0.3.1)\n",
      "Requirement already satisfied: yarl<2.0,>=1.17.0 in c:\\users\\rohan\\vsprojects\\quantagent\\.conda39\\lib\\site-packages (from aiohttp->python-binance) (1.20.1)\n",
      "Requirement already satisfied: typing-extensions>=4.1.0 in c:\\users\\rohan\\vsprojects\\quantagent\\.conda39\\lib\\site-packages (from multidict<7.0,>=4.5->aiohttp->python-binance) (4.14.0)\n",
      "Requirement already satisfied: idna>=2.0 in c:\\users\\rohan\\vsprojects\\quantagent\\.conda39\\lib\\site-packages (from yarl<2.0,>=1.17.0->aiohttp->python-binance) (3.10)\n",
      "Requirement already satisfied: python-dateutil>=2.7.0 in c:\\users\\rohan\\vsprojects\\quantagent\\.conda39\\lib\\site-packages (from dateparser->python-binance) (2.9.0.post0)\n",
      "Requirement already satisfied: pytz>=2024.2 in c:\\users\\rohan\\vsprojects\\quantagent\\.conda39\\lib\\site-packages (from dateparser->python-binance) (2025.2)\n",
      "Requirement already satisfied: regex>=2024.9.11 in c:\\users\\rohan\\vsprojects\\quantagent\\.conda39\\lib\\site-packages (from dateparser->python-binance) (2024.11.6)\n",
      "Requirement already satisfied: tzlocal>=0.2 in c:\\users\\rohan\\vsprojects\\quantagent\\.conda39\\lib\\site-packages (from dateparser->python-binance) (5.3)\n",
      "Requirement already satisfied: tzdata in c:\\users\\rohan\\vsprojects\\quantagent\\.conda39\\lib\\site-packages (from tzlocal>=0.2->dateparser->python-binance) (2025.2)\n",
      "Requirement already satisfied: charset_normalizer<4,>=2 in c:\\users\\rohan\\vsprojects\\quantagent\\.conda39\\lib\\site-packages (from requests->python-binance) (3.4.2)\n",
      "Requirement already satisfied: urllib3<3,>=1.21.1 in c:\\users\\rohan\\vsprojects\\quantagent\\.conda39\\lib\\site-packages (from requests->python-binance) (2.5.0)\n",
      "Requirement already satisfied: certifi>=2017.4.17 in c:\\users\\rohan\\vsprojects\\quantagent\\.conda39\\lib\\site-packages (from requests->python-binance) (2025.6.15)\n",
      "Note: you may need to restart the kernel to use updated packages.\n"
     ]
    },
    {
     "name": "stderr",
     "output_type": "stream",
     "text": [
      "C:\\Users\\rohan\\AppData\\Local\\Temp\\ipykernel_14976\\1087420948.py:34: FutureWarning: The default fill_method='pad' in DataFrame.pct_change is deprecated and will be removed in a future version. Either fill in any non-leading NA values prior to calling pct_change or specify 'fill_method=None' to not fill NA values.\n",
      "  ret = px.pct_change()\n"
     ]
    }
   ],
   "source": [
    "%pip install python-binance\n",
    "\n",
    "from binance.client import Client as bnb_client\n",
    "from datetime import datetime\n",
    "import pandas as pd \n",
    "import pickle\n",
    "import numpy as np \n",
    "\n",
    "#client = bnb_client()\n",
    "###  if you're in the US, use: \n",
    "client = bnb_client(tld='US')#\" here instead\n",
    "\n",
    "def get_binance_px(symbol,freq='1d',start_ts = '2025-03-03',end_ts='2025-22-04'):\n",
    "    data = client.get_historical_klines(symbol,freq,start_ts,end_ts)\n",
    "    columns = ['open_time','open','high','low','close','volume','close_time','quote_volume',\n",
    "    'num_trades','taker_base_volume','taker_quote_volume','ignore']\n",
    "\n",
    "    data = pd.DataFrame(data,columns = columns)\n",
    "    \n",
    "    # Convert from POSIX timestamp (number of millisecond since jan 1, 1970)\n",
    "    data['open_time'] = data['open_time'].map(lambda x: datetime.utcfromtimestamp(x/1000))\n",
    "    data['close_time'] = data['close_time'].map(lambda x: datetime.utcfromtimestamp(x/1000))\n",
    "    return data \n",
    "\n",
    "univ = ['BTCUSDT','ETHUSDT','ADAUSDT','BNBUSDT','XRPUSDT','DOTUSDT','MATICUSDT']\n",
    "\n",
    "px = {}\n",
    "for x in univ:\n",
    "    data = get_binance_px(x)\n",
    "    px[x] = data.set_index('open_time')['close']\n",
    "\n",
    "px = pd.DataFrame(px).astype(float)\n",
    "px = px.reindex(pd.date_range(px.index[0],px.index[-1],freq='1d'))\n",
    "ret = px.pct_change()\n"
   ]
  },
  {
   "cell_type": "code",
   "execution_count": null,
   "id": "f00a622d-3374-4550-b3c4-24d79000a8c7",
   "metadata": {},
   "outputs": [],
   "source": [
    "with open('../data/cryptoData.pkl','wb') as file:\n",
    "    pickle.dump(px,file)\n"
   ]
  },
  {
   "cell_type": "code",
   "execution_count": 3,
   "id": "d00933cc-9bc4-45c4-8edb-0c0cbea8f285",
   "metadata": {},
   "outputs": [
    {
     "name": "stderr",
     "output_type": "stream",
     "text": [
      "C:\\Users\\rohan\\AppData\\Local\\Temp\\ipykernel_14976\\4076592346.py:8: FutureWarning: The default fill_method='pad' in DataFrame.pct_change is deprecated and will be removed in a future version. Either fill in any non-leading NA values prior to calling pct_change or specify 'fill_method=None' to not fill NA values.\n",
      "  ret = px.pct_change()\n"
     ]
    }
   ],
   "source": [
    "freq = '1h'\n",
    "px = {}\n",
    "for x in univ:\n",
    "    data = get_binance_px(x,freq)\n",
    "    px[x] = data.set_index('open_time')['close']\n",
    "px = pd.DataFrame(px).astype(float)\n",
    "px = px.reindex(pd.date_range(px.index[0],px.index[-1],freq=freq))\n",
    "ret = px.pct_change()\n"
   ]
  },
  {
   "cell_type": "code",
   "execution_count": null,
   "id": "a1afc667-bc59-4c7a-9154-ed5e16709dfa",
   "metadata": {},
   "outputs": [],
   "source": [
    "today=datetime.now()\n",
    "with open('../data/cryptoDataHourly'+today.strftime(\"%Y_%m_%d_%H_%M\")+'.pkl','wb') as file:\n",
    "    pickle.dump(px,file)\n"
   ]
  },
  {
   "cell_type": "code",
   "execution_count": 5,
   "id": "9a93ab79-aec2-4735-899a-43feec544bd7",
   "metadata": {},
   "outputs": [
    {
     "data": {
      "text/html": [
       "<div>\n",
       "<style scoped>\n",
       "    .dataframe tbody tr th:only-of-type {\n",
       "        vertical-align: middle;\n",
       "    }\n",
       "\n",
       "    .dataframe tbody tr th {\n",
       "        vertical-align: top;\n",
       "    }\n",
       "\n",
       "    .dataframe thead th {\n",
       "        text-align: right;\n",
       "    }\n",
       "</style>\n",
       "<table border=\"1\" class=\"dataframe\">\n",
       "  <thead>\n",
       "    <tr style=\"text-align: right;\">\n",
       "      <th></th>\n",
       "      <th>BTCUSDT</th>\n",
       "      <th>ETHUSDT</th>\n",
       "      <th>ADAUSDT</th>\n",
       "      <th>BNBUSDT</th>\n",
       "      <th>XRPUSDT</th>\n",
       "      <th>DOTUSDT</th>\n",
       "      <th>MATICUSDT</th>\n",
       "    </tr>\n",
       "  </thead>\n",
       "  <tbody>\n",
       "    <tr>\n",
       "      <th>2025-04-21 20:00:00</th>\n",
       "      <td>-0.001303</td>\n",
       "      <td>0.000635</td>\n",
       "      <td>0.000000</td>\n",
       "      <td>-0.003442</td>\n",
       "      <td>-0.002105</td>\n",
       "      <td>0.000522</td>\n",
       "      <td>NaN</td>\n",
       "    </tr>\n",
       "    <tr>\n",
       "      <th>2025-04-21 21:00:00</th>\n",
       "      <td>0.000133</td>\n",
       "      <td>0.000857</td>\n",
       "      <td>-0.001124</td>\n",
       "      <td>-0.000084</td>\n",
       "      <td>-0.003116</td>\n",
       "      <td>-0.004691</td>\n",
       "      <td>NaN</td>\n",
       "    </tr>\n",
       "    <tr>\n",
       "      <th>2025-04-21 22:00:00</th>\n",
       "      <td>-0.002814</td>\n",
       "      <td>0.000679</td>\n",
       "      <td>-0.002250</td>\n",
       "      <td>0.001744</td>\n",
       "      <td>-0.001827</td>\n",
       "      <td>-0.006023</td>\n",
       "      <td>NaN</td>\n",
       "    </tr>\n",
       "    <tr>\n",
       "      <th>2025-04-21 23:00:00</th>\n",
       "      <td>0.004719</td>\n",
       "      <td>0.002016</td>\n",
       "      <td>0.005638</td>\n",
       "      <td>0.000469</td>\n",
       "      <td>0.004770</td>\n",
       "      <td>-0.004742</td>\n",
       "      <td>NaN</td>\n",
       "    </tr>\n",
       "    <tr>\n",
       "      <th>2025-04-22 00:00:00</th>\n",
       "      <td>0.002213</td>\n",
       "      <td>-0.008972</td>\n",
       "      <td>-0.002883</td>\n",
       "      <td>-0.001355</td>\n",
       "      <td>-0.004076</td>\n",
       "      <td>-0.006617</td>\n",
       "      <td>NaN</td>\n",
       "    </tr>\n",
       "  </tbody>\n",
       "</table>\n",
       "</div>"
      ],
      "text/plain": [
       "                      BTCUSDT   ETHUSDT   ADAUSDT   BNBUSDT   XRPUSDT  \\\n",
       "2025-04-21 20:00:00 -0.001303  0.000635  0.000000 -0.003442 -0.002105   \n",
       "2025-04-21 21:00:00  0.000133  0.000857 -0.001124 -0.000084 -0.003116   \n",
       "2025-04-21 22:00:00 -0.002814  0.000679 -0.002250  0.001744 -0.001827   \n",
       "2025-04-21 23:00:00  0.004719  0.002016  0.005638  0.000469  0.004770   \n",
       "2025-04-22 00:00:00  0.002213 -0.008972 -0.002883 -0.001355 -0.004076   \n",
       "\n",
       "                      DOTUSDT  MATICUSDT  \n",
       "2025-04-21 20:00:00  0.000522        NaN  \n",
       "2025-04-21 21:00:00 -0.004691        NaN  \n",
       "2025-04-21 22:00:00 -0.006023        NaN  \n",
       "2025-04-21 23:00:00 -0.004742        NaN  \n",
       "2025-04-22 00:00:00 -0.006617        NaN  "
      ]
     },
     "execution_count": 5,
     "metadata": {},
     "output_type": "execute_result"
    }
   ],
   "source": [
    "ret.tail()"
   ]
  },
  {
   "cell_type": "code",
   "execution_count": 6,
   "id": "f2cc422f-f48c-457c-a0dc-5c5e33ee1363",
   "metadata": {},
   "outputs": [
    {
     "data": {
      "text/plain": [
       "1201"
      ]
     },
     "execution_count": 6,
     "metadata": {},
     "output_type": "execute_result"
    }
   ],
   "source": [
    "len(ret)"
   ]
  }
 ],
 "metadata": {
  "kernelspec": {
   "display_name": "Python 3",
   "language": "python",
   "name": "python3"
  },
  "language_info": {
   "codemirror_mode": {
    "name": "ipython",
    "version": 3
   },
   "file_extension": ".py",
   "mimetype": "text/x-python",
   "name": "python",
   "nbconvert_exporter": "python",
   "pygments_lexer": "ipython3",
   "version": "3.9.23"
  }
 },
 "nbformat": 4,
 "nbformat_minor": 5
}
