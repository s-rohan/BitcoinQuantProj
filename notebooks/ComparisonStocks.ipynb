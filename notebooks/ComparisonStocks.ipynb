{
 "cells": [
  {
   "cell_type": "code",
   "execution_count": null,
   "id": "146020f6-9e8d-4706-bd94-63a6a6b5d445",
   "metadata": {},
   "outputs": [
    {
     "name": "stdout",
     "output_type": "stream",
     "text": [
      "YF.download() has changed argument auto_adjust default to True\n"
     ]
    },
    {
     "name": "stderr",
     "output_type": "stream",
     "text": [
      "[*********************100%***********************]  7 of 7 completed\n",
      "\n",
      "7 Failed downloads:\n",
      "['AMZN', 'META', 'QQQ', 'AAPL', 'GOOGL', 'NFLX', 'TSLA']: YFRateLimitError('Too Many Requests. Rate limited. Try after a while.')\n"
     ]
    }
   ],
   "source": [
    "import yfinance as yf\n",
    "import numpy as np\n",
    "import pandas as pd\n",
    "import pickle\n",
    "import datetime as dt\n",
    "\n",
    "univ = ['AAPL','AMZN','NFLX','GOOGL','QQQ','TSLA','META']\n",
    "start=\"2025-03-01\"\n",
    "data=yf.download(univ, start=start ,interval='1d')\n",
    "px =data['Close']\n",
    "ret = px / px.shift() - 1"
   ]
  },
  {
   "cell_type": "code",
   "execution_count": null,
   "id": "957af43c-de85-4a00-9ca0-90bf0e0e519b",
   "metadata": {},
   "outputs": [],
   "source": [
    "today=dt.datetime.now()\n",
    "fileNme=f\"Manificient_All-{start}-{today.strftime(\"%Y_%M_%d\")}.pkl\"\n",
    "with open(fileNme,'wb') as file:\n",
    "    pickle.dump(data,file)\n"
   ]
  },
  {
   "cell_type": "code",
   "execution_count": null,
   "id": "efd968d5",
   "metadata": {},
   "outputs": [
    {
     "name": "stderr",
     "output_type": "stream",
     "text": [
      "[*********************100%***********************]  6 of 7 completed\n",
      "\n",
      "7 Failed downloads:\n",
      "[**********************86%****************       ]  6 of 7 completed['TSLA', 'NFLX', 'QQQ', 'AMZN', 'AAPL', 'GOOGL', 'META']: YFRateLimitError('Too Many Requests. Rate limited. Try after a while.')\n"
     ]
    }
   ],
   "source": [
    "data=yf.download(univ, start=\"2025-03-01\" ,interval='1h')\n",
    "px =data['Close']\n",
    "ret = px / px.shift() - 1"
   ]
  },
  {
   "cell_type": "code",
   "execution_count": null,
   "id": "5896d9dd",
   "metadata": {},
   "outputs": [],
   "source": [
    "today=dt.datetime.now()\n",
    "fileNme='../data/Manificient_AllHourly'+today.strftime(\"%Y_%M_%d\")+'.pkl'\n",
    "with open(fileNme,'wb') as file:\n",
    "    pickle.dump(data,file)"
   ]
  },
  {
   "cell_type": "code",
   "execution_count": 7,
   "id": "824007fa-7640-45d6-88d3-45fc2b3ccb59",
   "metadata": {},
   "outputs": [
    {
     "data": {
      "text/html": [
       "<div>\n",
       "<style scoped>\n",
       "    .dataframe tbody tr th:only-of-type {\n",
       "        vertical-align: middle;\n",
       "    }\n",
       "\n",
       "    .dataframe tbody tr th {\n",
       "        vertical-align: top;\n",
       "    }\n",
       "\n",
       "    .dataframe thead tr th {\n",
       "        text-align: left;\n",
       "    }\n",
       "\n",
       "    .dataframe thead tr:last-of-type th {\n",
       "        text-align: right;\n",
       "    }\n",
       "</style>\n",
       "<table border=\"1\" class=\"dataframe\">\n",
       "  <thead>\n",
       "    <tr>\n",
       "      <th>Price</th>\n",
       "      <th colspan=\"7\" halign=\"left\">Adj Close</th>\n",
       "      <th colspan=\"3\" halign=\"left\">Close</th>\n",
       "      <th>...</th>\n",
       "      <th colspan=\"3\" halign=\"left\">Open</th>\n",
       "      <th colspan=\"7\" halign=\"left\">Volume</th>\n",
       "    </tr>\n",
       "    <tr>\n",
       "      <th>Ticker</th>\n",
       "      <th>AAPL</th>\n",
       "      <th>AMZN</th>\n",
       "      <th>GOOGL</th>\n",
       "      <th>META</th>\n",
       "      <th>NFLX</th>\n",
       "      <th>QQQ</th>\n",
       "      <th>TSLA</th>\n",
       "      <th>AAPL</th>\n",
       "      <th>AMZN</th>\n",
       "      <th>GOOGL</th>\n",
       "      <th>...</th>\n",
       "      <th>NFLX</th>\n",
       "      <th>QQQ</th>\n",
       "      <th>TSLA</th>\n",
       "      <th>AAPL</th>\n",
       "      <th>AMZN</th>\n",
       "      <th>GOOGL</th>\n",
       "      <th>META</th>\n",
       "      <th>NFLX</th>\n",
       "      <th>QQQ</th>\n",
       "      <th>TSLA</th>\n",
       "    </tr>\n",
       "    <tr>\n",
       "      <th>Date</th>\n",
       "      <th></th>\n",
       "      <th></th>\n",
       "      <th></th>\n",
       "      <th></th>\n",
       "      <th></th>\n",
       "      <th></th>\n",
       "      <th></th>\n",
       "      <th></th>\n",
       "      <th></th>\n",
       "      <th></th>\n",
       "      <th></th>\n",
       "      <th></th>\n",
       "      <th></th>\n",
       "      <th></th>\n",
       "      <th></th>\n",
       "      <th></th>\n",
       "      <th></th>\n",
       "      <th></th>\n",
       "      <th></th>\n",
       "      <th></th>\n",
       "      <th></th>\n",
       "    </tr>\n",
       "  </thead>\n",
       "  <tbody>\n",
       "  </tbody>\n",
       "</table>\n",
       "<p>0 rows × 42 columns</p>\n",
       "</div>"
      ],
      "text/plain": [
       "Empty DataFrame\n",
       "Columns: [(Adj Close, AAPL), (Adj Close, AMZN), (Adj Close, GOOGL), (Adj Close, META), (Adj Close, NFLX), (Adj Close, QQQ), (Adj Close, TSLA), (Close, AAPL), (Close, AMZN), (Close, GOOGL), (Close, META), (Close, NFLX), (Close, QQQ), (Close, TSLA), (High, AAPL), (High, AMZN), (High, GOOGL), (High, META), (High, NFLX), (High, QQQ), (High, TSLA), (Low, AAPL), (Low, AMZN), (Low, GOOGL), (Low, META), (Low, NFLX), (Low, QQQ), (Low, TSLA), (Open, AAPL), (Open, AMZN), (Open, GOOGL), (Open, META), (Open, NFLX), (Open, QQQ), (Open, TSLA), (Volume, AAPL), (Volume, AMZN), (Volume, GOOGL), (Volume, META), (Volume, NFLX), (Volume, QQQ), (Volume, TSLA)]\n",
       "Index: []\n",
       "\n",
       "[0 rows x 42 columns]"
      ]
     },
     "execution_count": 7,
     "metadata": {},
     "output_type": "execute_result"
    }
   ],
   "source": [
    "data.head()"
   ]
  },
  {
   "cell_type": "code",
   "execution_count": null,
   "id": "4c01d7f6-872e-4668-a9eb-17d7546bfa90",
   "metadata": {},
   "outputs": [],
   "source": []
  }
 ],
 "metadata": {
  "kernelspec": {
   "display_name": "Python 3",
   "language": "python",
   "name": "python3"
  },
  "language_info": {
   "codemirror_mode": {
    "name": "ipython",
    "version": 3
   },
   "file_extension": ".py",
   "mimetype": "text/x-python",
   "name": "python",
   "nbconvert_exporter": "python",
   "pygments_lexer": "ipython3",
   "version": "3.10.18"
  }
 },
 "nbformat": 4,
 "nbformat_minor": 5
}
